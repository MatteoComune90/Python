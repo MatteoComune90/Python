{
 "cells": [
  {
   "cell_type": "markdown",
   "id": "0a40b74b-8f65-4d9a-a021-fd70ee11d776",
   "metadata": {},
   "source": [
    "# Descriptive Statistics"
   ]
  },
  {
   "cell_type": "markdown",
   "id": "e5aac0b8-67cf-496d-8b82-d7a2910ef36b",
   "metadata": {},
   "source": [
    "Before you begin, remember to import the necessary libraries."
   ]
  },
  {
   "cell_type": "code",
   "execution_count": 1,
   "id": "33de4fa0-4c6b-412e-9d31-b60b777ec39a",
   "metadata": {},
   "outputs": [],
   "source": [
    "import numpy as np\n",
    "import pandas as pd\n",
    "import seaborn as sns\n",
    "from scipy import stats"
   ]
  },
  {
   "cell_type": "markdown",
   "id": "a6be9786-ed96-4ab6-bf58-711b6fcef982",
   "metadata": {},
   "source": [
    "#### Standard Exercises"
   ]
  },
  {
   "cell_type": "markdown",
   "id": "d599a7c3-5c90-4638-8fdd-79f33216defa",
   "metadata": {},
   "source": [
    "1. Import the `planets` dataset via the `seaborn` library and assign it to an object named `df`."
   ]
  },
  {
   "cell_type": "code",
   "execution_count": 2,
   "id": "d6de2c05-3041-440c-b774-1d7029910988",
   "metadata": {},
   "outputs": [],
   "source": [
    "df = sns.load_dataset('planets')"
   ]
  },
  {
   "cell_type": "markdown",
   "id": "8164c5af-bc2e-46b9-b482-dee24d761eb2",
   "metadata": {},
   "source": [
    "2. Compute the **mode**, **mean** and **median** of the `distance` variable in the `df` dataframe. *Note: use the `np.nanmean()` and `np.nanmedian()` function to ignore NaN values*"
   ]
  },
  {
   "cell_type": "code",
   "execution_count": 3,
   "id": "7fa4e3a9-4eb3-4995-a4c5-b16848c18015",
   "metadata": {},
   "outputs": [
    {
     "data": {
      "text/html": [
       "<div>\n",
       "<style scoped>\n",
       "    .dataframe tbody tr th:only-of-type {\n",
       "        vertical-align: middle;\n",
       "    }\n",
       "\n",
       "    .dataframe tbody tr th {\n",
       "        vertical-align: top;\n",
       "    }\n",
       "\n",
       "    .dataframe thead th {\n",
       "        text-align: right;\n",
       "    }\n",
       "</style>\n",
       "<table border=\"1\" class=\"dataframe\">\n",
       "  <thead>\n",
       "    <tr style=\"text-align: right;\">\n",
       "      <th></th>\n",
       "      <th>method</th>\n",
       "      <th>number</th>\n",
       "      <th>orbital_period</th>\n",
       "      <th>mass</th>\n",
       "      <th>distance</th>\n",
       "      <th>year</th>\n",
       "    </tr>\n",
       "  </thead>\n",
       "  <tbody>\n",
       "    <tr>\n",
       "      <th>0</th>\n",
       "      <td>Radial Velocity</td>\n",
       "      <td>1</td>\n",
       "      <td>269.300</td>\n",
       "      <td>7.10</td>\n",
       "      <td>77.40</td>\n",
       "      <td>2006</td>\n",
       "    </tr>\n",
       "    <tr>\n",
       "      <th>1</th>\n",
       "      <td>Radial Velocity</td>\n",
       "      <td>1</td>\n",
       "      <td>874.774</td>\n",
       "      <td>2.21</td>\n",
       "      <td>56.95</td>\n",
       "      <td>2008</td>\n",
       "    </tr>\n",
       "    <tr>\n",
       "      <th>2</th>\n",
       "      <td>Radial Velocity</td>\n",
       "      <td>1</td>\n",
       "      <td>763.000</td>\n",
       "      <td>2.60</td>\n",
       "      <td>19.84</td>\n",
       "      <td>2011</td>\n",
       "    </tr>\n",
       "    <tr>\n",
       "      <th>3</th>\n",
       "      <td>Radial Velocity</td>\n",
       "      <td>1</td>\n",
       "      <td>326.030</td>\n",
       "      <td>19.40</td>\n",
       "      <td>110.62</td>\n",
       "      <td>2007</td>\n",
       "    </tr>\n",
       "    <tr>\n",
       "      <th>4</th>\n",
       "      <td>Radial Velocity</td>\n",
       "      <td>1</td>\n",
       "      <td>516.220</td>\n",
       "      <td>10.50</td>\n",
       "      <td>119.47</td>\n",
       "      <td>2009</td>\n",
       "    </tr>\n",
       "  </tbody>\n",
       "</table>\n",
       "</div>"
      ],
      "text/plain": [
       "            method  number  orbital_period   mass  distance  year\n",
       "0  Radial Velocity       1         269.300   7.10     77.40  2006\n",
       "1  Radial Velocity       1         874.774   2.21     56.95  2008\n",
       "2  Radial Velocity       1         763.000   2.60     19.84  2011\n",
       "3  Radial Velocity       1         326.030  19.40    110.62  2007\n",
       "4  Radial Velocity       1         516.220  10.50    119.47  2009"
      ]
     },
     "execution_count": 3,
     "metadata": {},
     "output_type": "execute_result"
    }
   ],
   "source": [
    "df.head()"
   ]
  },
  {
   "cell_type": "code",
   "execution_count": 7,
   "id": "79b73783-2c5f-40ce-9a58-2c43f1ff63c5",
   "metadata": {},
   "outputs": [
    {
     "data": {
      "text/plain": [
       "ModeResult(mode=array([780.]), count=array([7]))"
      ]
     },
     "execution_count": 7,
     "metadata": {},
     "output_type": "execute_result"
    }
   ],
   "source": [
    "stats.mode(df['distance'])"
   ]
  },
  {
   "cell_type": "code",
   "execution_count": 8,
   "id": "1d783e6f-f66e-455d-bced-7dc7bf4a2792",
   "metadata": {},
   "outputs": [
    {
     "data": {
      "text/plain": [
       "264.06928217821786"
      ]
     },
     "execution_count": 8,
     "metadata": {},
     "output_type": "execute_result"
    }
   ],
   "source": [
    "np.nanmean(df['distance'])"
   ]
  },
  {
   "cell_type": "code",
   "execution_count": 9,
   "id": "02970550-acea-4011-8144-8fe27fcadaf4",
   "metadata": {},
   "outputs": [
    {
     "data": {
      "text/plain": [
       "55.25"
      ]
     },
     "execution_count": 9,
     "metadata": {},
     "output_type": "execute_result"
    }
   ],
   "source": [
    "np.nanmedian(df['distance'], )"
   ]
  },
  {
   "cell_type": "markdown",
   "id": "ac167d16-b00e-4ff1-8d4b-18f548e28f5f",
   "metadata": {},
   "source": [
    "3. Create a new DataFrame having the following specs: \n",
    "- its name is `df_stats` \n",
    "- it has shape `(1, 5)`\n",
    "- populate it with the following columns `['min', 'mode', 'mean', 'median', 'max']`\n",
    "- use the data from the `distance` column in the `df` dataset"
   ]
  },
  {
   "cell_type": "code",
   "execution_count": 10,
   "id": "a4b17703-7add-4349-a925-0df8be7bcef1",
   "metadata": {},
   "outputs": [
    {
     "data": {
      "text/html": [
       "<div>\n",
       "<style scoped>\n",
       "    .dataframe tbody tr th:only-of-type {\n",
       "        vertical-align: middle;\n",
       "    }\n",
       "\n",
       "    .dataframe tbody tr th {\n",
       "        vertical-align: top;\n",
       "    }\n",
       "\n",
       "    .dataframe thead th {\n",
       "        text-align: right;\n",
       "    }\n",
       "</style>\n",
       "<table border=\"1\" class=\"dataframe\">\n",
       "  <thead>\n",
       "    <tr style=\"text-align: right;\">\n",
       "      <th></th>\n",
       "      <th>min</th>\n",
       "      <th>mode</th>\n",
       "      <th>mean</th>\n",
       "      <th>median</th>\n",
       "      <th>max</th>\n",
       "    </tr>\n",
       "  </thead>\n",
       "  <tbody>\n",
       "    <tr>\n",
       "      <th>0</th>\n",
       "      <td>1.35</td>\n",
       "      <td>780.0</td>\n",
       "      <td>264.069282</td>\n",
       "      <td>55.25</td>\n",
       "      <td>8500.0</td>\n",
       "    </tr>\n",
       "  </tbody>\n",
       "</table>\n",
       "</div>"
      ],
      "text/plain": [
       "    min   mode        mean  median     max\n",
       "0  1.35  780.0  264.069282   55.25  8500.0"
      ]
     },
     "execution_count": 10,
     "metadata": {},
     "output_type": "execute_result"
    }
   ],
   "source": [
    "df_stats = pd.DataFrame({\n",
    "    'min': [df['distance'].min()], \n",
    "    'mode': [stats.mode(df['distance'])[0][0]], \n",
    "    'mean': [np.mean(df['distance'])], \n",
    "    'median': [np.nanmedian(df['distance'])],\n",
    "    'max': [df['distance'].max()]\n",
    "})\n",
    "df_stats"
   ]
  },
  {
   "cell_type": "markdown",
   "id": "2217cf51-4b90-43e1-adb9-8307086405bf",
   "metadata": {},
   "source": [
    "4. Given the DataFrame you just created, try to imagine (without the aid of a chart) how the data may be distributed. You can probably tell quite a bit, but you still need some information about its dispersion or variability. Add three more columns to the `df_stats` DataFrame `['range', 'iqr', 'stdev']` that show the variable's **range**, **interquartile range** and **standart deviation**. *Note: make sure you select the appropriate `nan_policy` and `ddof` for the `stats.iqr()` and `np.std()` functions, respectively*"
   ]
  },
  {
   "cell_type": "code",
   "execution_count": 11,
   "id": "10197ff1-e9af-4305-ac60-fa61212c5621",
   "metadata": {},
   "outputs": [
    {
     "data": {
      "text/html": [
       "<div>\n",
       "<style scoped>\n",
       "    .dataframe tbody tr th:only-of-type {\n",
       "        vertical-align: middle;\n",
       "    }\n",
       "\n",
       "    .dataframe tbody tr th {\n",
       "        vertical-align: top;\n",
       "    }\n",
       "\n",
       "    .dataframe thead th {\n",
       "        text-align: right;\n",
       "    }\n",
       "</style>\n",
       "<table border=\"1\" class=\"dataframe\">\n",
       "  <thead>\n",
       "    <tr style=\"text-align: right;\">\n",
       "      <th></th>\n",
       "      <th>min</th>\n",
       "      <th>mode</th>\n",
       "      <th>mean</th>\n",
       "      <th>median</th>\n",
       "      <th>max</th>\n",
       "      <th>range</th>\n",
       "      <th>iqr</th>\n",
       "      <th>stdev</th>\n",
       "    </tr>\n",
       "  </thead>\n",
       "  <tbody>\n",
       "    <tr>\n",
       "      <th>0</th>\n",
       "      <td>1.35</td>\n",
       "      <td>780.0</td>\n",
       "      <td>264.069282</td>\n",
       "      <td>55.25</td>\n",
       "      <td>8500.0</td>\n",
       "      <td>8498.65</td>\n",
       "      <td>145.94</td>\n",
       "      <td>733.116493</td>\n",
       "    </tr>\n",
       "  </tbody>\n",
       "</table>\n",
       "</div>"
      ],
      "text/plain": [
       "    min   mode        mean  median     max    range     iqr       stdev\n",
       "0  1.35  780.0  264.069282   55.25  8500.0  8498.65  145.94  733.116493"
      ]
     },
     "execution_count": 11,
     "metadata": {},
     "output_type": "execute_result"
    }
   ],
   "source": [
    "df_stats['range'] = max(df['distance']) - min(df['distance'])\n",
    "df_stats['iqr'] = stats.iqr(df['distance'], nan_policy='omit')\n",
    "df_stats['stdev'] = np.std(df['distance'], ddof=1)\n",
    "df_stats"
   ]
  },
  {
   "cell_type": "markdown",
   "id": "4de70aa4-84cf-4cc5-aec0-5062586e7841",
   "metadata": {},
   "source": [
    "5. The `sns.stripplot()` function allows you to perform a first visual check on the distribution of continuous variables. Check out the [relative documentation](https://seaborn.pydata.org/generated/seaborn.stripplot.html) and draw a **stripplot** just for the `distance` variable. Did it match your expectations from the previous question? "
   ]
  },
  {
   "cell_type": "code",
   "execution_count": 12,
   "id": "796e1439-371f-496d-8a6c-c3c8df639c71",
   "metadata": {},
   "outputs": [
    {
     "data": {
      "text/plain": [
       "<AxesSubplot:xlabel='distance'>"
      ]
     },
     "execution_count": 12,
     "metadata": {},
     "output_type": "execute_result"
    },
    {
     "data": {
      "image/png": "[encoded data removed]",
      "text/plain": [
       "<Figure size 432x288 with 1 Axes>"
      ]
     },
     "metadata": {
      "needs_background": "light"
     },
     "output_type": "display_data"
    }
   ],
   "source": [
    "sns.stripplot(x = 'distance', data = df)"
   ]
  },
  {
   "cell_type": "markdown",
   "id": "0fce34ee-2b9a-4c2b-b371-7d7efbc11b92",
   "metadata": {},
   "source": [
    "6. Write a function `my_median()` that, given a dataframe `df` and a column name `col` as inputs, returns the corresponding **median** value. If the input data contains NaN values, the function should be able to handle them by ignoring them. *Hint: check out the `.dropna()` method*"
   ]
  },
  {
   "cell_type": "code",
   "execution_count": 13,
   "id": "240c6327-c0ac-417f-be9c-9dcc100469c7",
   "metadata": {},
   "outputs": [],
   "source": [
    "def my_median(df, col): \n",
    "    df_tmp = df.copy()\n",
    "    df_tmp = df_tmp[col].dropna().sort_values()\n",
    "    n = len(df_tmp)\n",
    "    if n%2 == 0: \n",
    "        # n is even\n",
    "        loc1 = int((n-1)/2)\n",
    "        loc2 = int((n+1)/2)\n",
    "        med = (df_tmp.iloc[loc1] + df_tmp.iloc[loc2])/2\n",
    "    else: \n",
    "        # n is odd\n",
    "        loc = int((n-1)/2)\n",
    "        med = df_tmp.iloc[loc]\n",
    "    return med"
   ]
  },
  {
   "cell_type": "code",
   "execution_count": 14,
   "id": "cd7dd432-2d8c-45f5-94ce-e72506578440",
   "metadata": {},
   "outputs": [
    {
     "data": {
      "text/plain": [
       "55.25"
      ]
     },
     "execution_count": 14,
     "metadata": {},
     "output_type": "execute_result"
    }
   ],
   "source": [
    "my_median(df, 'distance')"
   ]
  },
  {
   "cell_type": "markdown",
   "id": "d6d794ca-886c-41dc-ae08-fe75bac8eef2",
   "metadata": {},
   "source": [
    "#### Advanced Exercises"
   ]
  },
  {
   "cell_type": "markdown",
   "id": "ea893cad-cb51-40f2-8c9e-aa5a7eac59f4",
   "metadata": {},
   "source": [
    "1. Write a function `my_stdev()` that, given a dataframe `df` and a column name `col` as inputs, returns the corresponding **standard deviation** value. If the input data contains NaN values, the function should be able to handle them by ignoring them."
   ]
  },
  {
   "cell_type": "code",
   "execution_count": 15,
   "id": "de8c5261-5def-4ae5-a71e-6a63691a9d6f",
   "metadata": {},
   "outputs": [],
   "source": [
    "def my_stdev(df, col): \n",
    "    df_tmp = df.copy()\n",
    "    df_tmp = df_tmp[col].dropna()\n",
    "    df_tmp_m = np.mean(df_tmp)\n",
    "    df_tmp_dev = [x-df_tmp_m for x in df_tmp]\n",
    "    df_tmp_dev_sq = [dev**2 for dev in df_tmp_dev]\n",
    "    var = sum(df_tmp_dev_sq)/(len(df_tmp)-1)\n",
    "    stdev = np.sqrt(var)\n",
    "    return stdev"
   ]
  },
  {
   "cell_type": "code",
   "execution_count": 16,
   "id": "3d35bb92-0652-419a-90f7-db64743a969a",
   "metadata": {},
   "outputs": [
    {
     "data": {
      "text/plain": [
       "733.1164929404422"
      ]
     },
     "execution_count": 16,
     "metadata": {},
     "output_type": "execute_result"
    }
   ],
   "source": [
    "my_stdev(df, 'distance')"
   ]
  },
  {
   "cell_type": "markdown",
   "id": "499a8e30-5e5e-482a-88d6-a4a78a932a33",
   "metadata": {},
   "source": [
    "2. Write a function `my_stat()` that, given a dataframe `df`, a column name `col` and a statistic parameter `stat` as inputs, returns the corresponding desired statistic as chosen by the user from these four possible options: `['mean', 'median', 'iqr', 'stdev']`. If the input data contains NaN values, the function should be able to handle them by ignoring them."
   ]
  },
  {
   "cell_type": "code",
   "execution_count": 17,
   "id": "7b010078-babf-4332-87dd-a7c858aa0f70",
   "metadata": {},
   "outputs": [],
   "source": [
    "def my_stat(df, col, stat):\n",
    "    df_tmp = df.copy()\n",
    "    df_tmp = df_tmp[col].dropna()\n",
    "    if stat == 'mean':\n",
    "        return np.mean(df_tmp)\n",
    "    elif stat == 'median':\n",
    "        return my_median(df, col)\n",
    "    elif stat == 'iqr':\n",
    "        return np.percentile(df_tmp, [75]) - np.percentile(df_tmp, [25])[0]\n",
    "    elif stat == 'stdev':\n",
    "        return my_stdev(df, col)\n",
    "    else: \n",
    "        pass"
   ]
  },
  {
   "cell_type": "code",
   "execution_count": 18,
   "id": "075a3254-55c3-4ddc-a346-60979c1bb17c",
   "metadata": {},
   "outputs": [
    {
     "name": "stdout",
     "output_type": "stream",
     "text": [
      "mean 264.06928217821786\n",
      "median 55.25\n",
      "iqr [145.94]\n",
      "stdev 733.1164929404422\n"
     ]
    }
   ],
   "source": [
    "for s in ['mean', 'median', 'iqr', 'stdev']: \n",
    "    print(s, my_stat(df, 'distance', s))"
   ]
  },
  {
   "cell_type": "markdown",
   "id": "8300841a-6050-4e28-a671-c912181b0665",
   "metadata": {},
   "source": [
    "3. Load up the `iris` dataset via `seaborn` and assign it to a DataFrame object with the same name. Then, using `iris.describe()`, check out all the different statistics available for the four countinuos variables in the dataset. Once you have familiarised yourself with the [differences between sepals and petals](https://biologyreader.com/difference-between-sepals-and-petals.html): \n",
    "    1. assign the output table of the `iris.describe()` statement to a new DF object named `iris_stats` \n",
    "    2. add a new **row** to the DataFrame with index `iqr` and compute the IQR for eacn column of the DF\n",
    "    3. study the table and try to visualise the shape of the data according to its measures of central tendency and statistical dispersion; what can you say about the shape of this data? *(hint: feel free to select just a relevant subset of statistics from the `iris_stats` DataFrame)*\n",
    "    4. visualising sets of data in your head is no joke (although it is a useful exercise!); now visualize all four numeric variables from the `iris` dataset in the same plot using the `sns.stripplot()` function; did it match your expectations from the previous question? "
   ]
  },
  {
   "cell_type": "code",
   "execution_count": 19,
   "id": "9360faee-b33a-4518-9b49-72510117f9aa",
   "metadata": {},
   "outputs": [
    {
     "data": {
      "text/html": [
       "<div>\n",
       "<style scoped>\n",
       "    .dataframe tbody tr th:only-of-type {\n",
       "        vertical-align: middle;\n",
       "    }\n",
       "\n",
       "    .dataframe tbody tr th {\n",
       "        vertical-align: top;\n",
       "    }\n",
       "\n",
       "    .dataframe thead th {\n",
       "        text-align: right;\n",
       "    }\n",
       "</style>\n",
       "<table border=\"1\" class=\"dataframe\">\n",
       "  <thead>\n",
       "    <tr style=\"text-align: right;\">\n",
       "      <th></th>\n",
       "      <th>sepal_length</th>\n",
       "      <th>sepal_width</th>\n",
       "      <th>petal_length</th>\n",
       "      <th>petal_width</th>\n",
       "    </tr>\n",
       "  </thead>\n",
       "  <tbody>\n",
       "    <tr>\n",
       "      <th>count</th>\n",
       "      <td>150.000000</td>\n",
       "      <td>150.000000</td>\n",
       "      <td>150.000000</td>\n",
       "      <td>150.000000</td>\n",
       "    </tr>\n",
       "    <tr>\n",
       "      <th>mean</th>\n",
       "      <td>5.843333</td>\n",
       "      <td>3.057333</td>\n",
       "      <td>3.758000</td>\n",
       "      <td>1.199333</td>\n",
       "    </tr>\n",
       "    <tr>\n",
       "      <th>std</th>\n",
       "      <td>0.828066</td>\n",
       "      <td>0.435866</td>\n",
       "      <td>1.765298</td>\n",
       "      <td>0.762238</td>\n",
       "    </tr>\n",
       "    <tr>\n",
       "      <th>min</th>\n",
       "      <td>4.300000</td>\n",
       "      <td>2.000000</td>\n",
       "      <td>1.000000</td>\n",
       "      <td>0.100000</td>\n",
       "    </tr>\n",
       "    <tr>\n",
       "      <th>25%</th>\n",
       "      <td>5.100000</td>\n",
       "      <td>2.800000</td>\n",
       "      <td>1.600000</td>\n",
       "      <td>0.300000</td>\n",
       "    </tr>\n",
       "    <tr>\n",
       "      <th>50%</th>\n",
       "      <td>5.800000</td>\n",
       "      <td>3.000000</td>\n",
       "      <td>4.350000</td>\n",
       "      <td>1.300000</td>\n",
       "    </tr>\n",
       "    <tr>\n",
       "      <th>75%</th>\n",
       "      <td>6.400000</td>\n",
       "      <td>3.300000</td>\n",
       "      <td>5.100000</td>\n",
       "      <td>1.800000</td>\n",
       "    </tr>\n",
       "    <tr>\n",
       "      <th>max</th>\n",
       "      <td>7.900000</td>\n",
       "      <td>4.400000</td>\n",
       "      <td>6.900000</td>\n",
       "      <td>2.500000</td>\n",
       "    </tr>\n",
       "  </tbody>\n",
       "</table>\n",
       "</div>"
      ],
      "text/plain": [
       "       sepal_length  sepal_width  petal_length  petal_width\n",
       "count    150.000000   150.000000    150.000000   150.000000\n",
       "mean       5.843333     3.057333      3.758000     1.199333\n",
       "std        0.828066     0.435866      1.765298     0.762238\n",
       "min        4.300000     2.000000      1.000000     0.100000\n",
       "25%        5.100000     2.800000      1.600000     0.300000\n",
       "50%        5.800000     3.000000      4.350000     1.300000\n",
       "75%        6.400000     3.300000      5.100000     1.800000\n",
       "max        7.900000     4.400000      6.900000     2.500000"
      ]
     },
     "execution_count": 19,
     "metadata": {},
     "output_type": "execute_result"
    }
   ],
   "source": [
    "# A. \n",
    "iris = sns.load_dataset('iris')\n",
    "iris_stats = iris.describe()\n",
    "iris_stats"
   ]
  },
  {
   "cell_type": "code",
   "execution_count": 20,
   "id": "7512c76f-01e1-4bcc-b82b-d6462ef4d990",
   "metadata": {},
   "outputs": [],
   "source": [
    "# B. \n",
    "iris_stats.loc['iqr'] = iris_stats.loc['75%']-iris_stats.loc['25%']"
   ]
  },
  {
   "cell_type": "code",
   "execution_count": 21,
   "id": "59404ca3-6da6-4bda-9d2d-84e544b3164a",
   "metadata": {},
   "outputs": [
    {
     "data": {
      "text/html": [
       "<div>\n",
       "<style scoped>\n",
       "    .dataframe tbody tr th:only-of-type {\n",
       "        vertical-align: middle;\n",
       "    }\n",
       "\n",
       "    .dataframe tbody tr th {\n",
       "        vertical-align: top;\n",
       "    }\n",
       "\n",
       "    .dataframe thead th {\n",
       "        text-align: right;\n",
       "    }\n",
       "</style>\n",
       "<table border=\"1\" class=\"dataframe\">\n",
       "  <thead>\n",
       "    <tr style=\"text-align: right;\">\n",
       "      <th></th>\n",
       "      <th>sepal_length</th>\n",
       "      <th>sepal_width</th>\n",
       "      <th>petal_length</th>\n",
       "      <th>petal_width</th>\n",
       "    </tr>\n",
       "  </thead>\n",
       "  <tbody>\n",
       "    <tr>\n",
       "      <th>mean</th>\n",
       "      <td>5.843333</td>\n",
       "      <td>3.057333</td>\n",
       "      <td>3.758000</td>\n",
       "      <td>1.199333</td>\n",
       "    </tr>\n",
       "    <tr>\n",
       "      <th>50%</th>\n",
       "      <td>5.800000</td>\n",
       "      <td>3.000000</td>\n",
       "      <td>4.350000</td>\n",
       "      <td>1.300000</td>\n",
       "    </tr>\n",
       "    <tr>\n",
       "      <th>std</th>\n",
       "      <td>0.828066</td>\n",
       "      <td>0.435866</td>\n",
       "      <td>1.765298</td>\n",
       "      <td>0.762238</td>\n",
       "    </tr>\n",
       "    <tr>\n",
       "      <th>iqr</th>\n",
       "      <td>1.300000</td>\n",
       "      <td>0.500000</td>\n",
       "      <td>3.500000</td>\n",
       "      <td>1.500000</td>\n",
       "    </tr>\n",
       "  </tbody>\n",
       "</table>\n",
       "</div>"
      ],
      "text/plain": [
       "      sepal_length  sepal_width  petal_length  petal_width\n",
       "mean      5.843333     3.057333      3.758000     1.199333\n",
       "50%       5.800000     3.000000      4.350000     1.300000\n",
       "std       0.828066     0.435866      1.765298     0.762238\n",
       "iqr       1.300000     0.500000      3.500000     1.500000"
      ]
     },
     "execution_count": 21,
     "metadata": {},
     "output_type": "execute_result"
    }
   ],
   "source": [
    "# C. \n",
    "iris_stats.loc[['mean', '50%', 'std', 'iqr']]"
   ]
  },
  {
   "cell_type": "markdown",
   "id": "54b04e5e-131c-414f-9c9d-ab6ed001b832",
   "metadata": {},
   "source": [
    "> There are no big differences between mean and median among each variable, meaning that there aren't many extreme values or outliers. It is interesting to note that the IQR is almost double the standard deviation for the sepal and petal length variables, meaning that those two variables may have a larger variability compared to their width counterparts. "
   ]
  },
  {
   "cell_type": "code",
   "execution_count": 22,
   "id": "8c4c58ea-903f-4103-8140-f6b5bce7a40d",
   "metadata": {},
   "outputs": [
    {
     "data": {
      "text/plain": [
       "<AxesSubplot:>"
      ]
     },
     "execution_count": 22,
     "metadata": {},
     "output_type": "execute_result"
    },
    {
     "data": {
      "image/png": "[encoded data removed]",
      "text/plain": [
       "<Figure size 432x288 with 1 Axes>"
      ]
     },
     "metadata": {
      "needs_background": "light"
     },
     "output_type": "display_data"
    }
   ],
   "source": [
    "# D. \n",
    "sns.stripplot(data = iris)"
   ]
  }
 ],
 "metadata": {
  "kernelspec": {
   "display_name": "Python 3 (ipykernel)",
   "language": "python",
   "name": "python3"
  },
  "language_info": {
   "codemirror_mode": {
    "name": "ipython",
    "version": 3
   },
   "file_extension": ".py",
   "mimetype": "text/x-python",
   "name": "python",
   "nbconvert_exporter": "python",
   "pygments_lexer": "ipython3",
   "version": "3.9.7"
  }
 },
 "nbformat": 4,
 "nbformat_minor": 5
}
