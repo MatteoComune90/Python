{
 "cells": [
  {
   "cell_type": "markdown",
   "id": "fced9a7c-bf3f-478c-9860-5d24a88b172b",
   "metadata": {},
   "source": [
    "# Final Assignment"
   ]
  },
  {
   "cell_type": "code",
   "execution_count": 2,
   "id": "734a815f-7e3e-4032-9721-eb5409fbc523",
   "metadata": {},
   "outputs": [],
   "source": [
    "import numpy as np\n",
    "import pandas as pd\n",
    "\n",
    "import matplotlib.pyplot as plt\n",
    "import seaborn as sns\n",
    "sns.set_theme()\n",
    "sns.set(rc={'figure.figsize':(15, 9)})\n",
    "sns.set(font_scale=1.5) "
   ]
  },
  {
   "cell_type": "markdown",
   "id": "7b2d5563-e2df-4934-b313-c15a3fc6e6d2",
   "metadata": {},
   "source": [
    "### Part 1\n",
    "\n",
    "The `food_consumption.csv` dataset from the `data` folder contains data on the several countries' food consumption per food category and their respective CO2 emissions. Load it to a DataFrame named `food` and check its contents."
   ]
  },
  {
   "cell_type": "code",
   "execution_count": 3,
   "id": "dfd5da95-6fdd-4f31-acb8-9c6e1a424df7",
   "metadata": {},
   "outputs": [
    {
     "data": {
      "text/html": [
       "<div>\n",
       "<style scoped>\n",
       "    .dataframe tbody tr th:only-of-type {\n",
       "        vertical-align: middle;\n",
       "    }\n",
       "\n",
       "    .dataframe tbody tr th {\n",
       "        vertical-align: top;\n",
       "    }\n",
       "\n",
       "    .dataframe thead th {\n",
       "        text-align: right;\n",
       "    }\n",
       "</style>\n",
       "<table border=\"1\" class=\"dataframe\">\n",
       "  <thead>\n",
       "    <tr style=\"text-align: right;\">\n",
       "      <th></th>\n",
       "      <th>country</th>\n",
       "      <th>food_category</th>\n",
       "      <th>consumption</th>\n",
       "      <th>co2_emission</th>\n",
       "    </tr>\n",
       "  </thead>\n",
       "  <tbody>\n",
       "    <tr>\n",
       "      <th>581</th>\n",
       "      <td>Ecuador</td>\n",
       "      <td>soybeans</td>\n",
       "      <td>0.00</td>\n",
       "      <td>0.00</td>\n",
       "    </tr>\n",
       "    <tr>\n",
       "      <th>227</th>\n",
       "      <td>French Polynesia</td>\n",
       "      <td>wheat</td>\n",
       "      <td>68.67</td>\n",
       "      <td>13.10</td>\n",
       "    </tr>\n",
       "    <tr>\n",
       "      <th>189</th>\n",
       "      <td>Canada</td>\n",
       "      <td>beef</td>\n",
       "      <td>30.25</td>\n",
       "      <td>933.45</td>\n",
       "    </tr>\n",
       "    <tr>\n",
       "      <th>65</th>\n",
       "      <td>USA</td>\n",
       "      <td>nuts</td>\n",
       "      <td>7.86</td>\n",
       "      <td>13.91</td>\n",
       "    </tr>\n",
       "    <tr>\n",
       "      <th>1024</th>\n",
       "      <td>Jamaica</td>\n",
       "      <td>poultry</td>\n",
       "      <td>52.51</td>\n",
       "      <td>56.41</td>\n",
       "    </tr>\n",
       "    <tr>\n",
       "      <th>98</th>\n",
       "      <td>Brazil</td>\n",
       "      <td>nuts</td>\n",
       "      <td>0.67</td>\n",
       "      <td>1.19</td>\n",
       "    </tr>\n",
       "    <tr>\n",
       "      <th>311</th>\n",
       "      <td>Italy</td>\n",
       "      <td>lamb_goat</td>\n",
       "      <td>0.92</td>\n",
       "      <td>32.22</td>\n",
       "    </tr>\n",
       "    <tr>\n",
       "      <th>1157</th>\n",
       "      <td>Nicaragua</td>\n",
       "      <td>beef</td>\n",
       "      <td>4.73</td>\n",
       "      <td>145.96</td>\n",
       "    </tr>\n",
       "    <tr>\n",
       "      <th>415</th>\n",
       "      <td>Germany</td>\n",
       "      <td>rice</td>\n",
       "      <td>3.34</td>\n",
       "      <td>4.27</td>\n",
       "    </tr>\n",
       "    <tr>\n",
       "      <th>134</th>\n",
       "      <td>Denmark</td>\n",
       "      <td>beef</td>\n",
       "      <td>28.46</td>\n",
       "      <td>878.22</td>\n",
       "    </tr>\n",
       "  </tbody>\n",
       "</table>\n",
       "</div>"
      ],
      "text/plain": [
       "               country food_category  consumption  co2_emission\n",
       "581            Ecuador      soybeans         0.00          0.00\n",
       "227   French Polynesia         wheat        68.67         13.10\n",
       "189             Canada          beef        30.25        933.45\n",
       "65                 USA          nuts         7.86         13.91\n",
       "1024           Jamaica       poultry        52.51         56.41\n",
       "98              Brazil          nuts         0.67          1.19\n",
       "311              Italy     lamb_goat         0.92         32.22\n",
       "1157         Nicaragua          beef         4.73        145.96\n",
       "415            Germany          rice         3.34          4.27\n",
       "134            Denmark          beef        28.46        878.22"
      ]
     },
     "execution_count": 3,
     "metadata": {},
     "output_type": "execute_result"
    }
   ],
   "source": [
    "food = pd.read_csv('data/food_consumption.csv')\n",
    "food.sample(10)"
   ]
  },
  {
   "cell_type": "code",
   "execution_count": 4,
   "id": "f6ad85fa",
   "metadata": {},
   "outputs": [
    {
     "data": {
      "text/html": [
       "<div>\n",
       "<style scoped>\n",
       "    .dataframe tbody tr th:only-of-type {\n",
       "        vertical-align: middle;\n",
       "    }\n",
       "\n",
       "    .dataframe tbody tr th {\n",
       "        vertical-align: top;\n",
       "    }\n",
       "\n",
       "    .dataframe thead th {\n",
       "        text-align: right;\n",
       "    }\n",
       "</style>\n",
       "<table border=\"1\" class=\"dataframe\">\n",
       "  <thead>\n",
       "    <tr style=\"text-align: right;\">\n",
       "      <th></th>\n",
       "      <th>country</th>\n",
       "      <th>food_category</th>\n",
       "      <th>consumption</th>\n",
       "      <th>co2_emission</th>\n",
       "    </tr>\n",
       "  </thead>\n",
       "  <tbody>\n",
       "    <tr>\n",
       "      <th>0</th>\n",
       "      <td>Argentina</td>\n",
       "      <td>pork</td>\n",
       "      <td>10.51</td>\n",
       "      <td>37.20</td>\n",
       "    </tr>\n",
       "    <tr>\n",
       "      <th>1</th>\n",
       "      <td>Argentina</td>\n",
       "      <td>poultry</td>\n",
       "      <td>38.66</td>\n",
       "      <td>41.53</td>\n",
       "    </tr>\n",
       "    <tr>\n",
       "      <th>2</th>\n",
       "      <td>Argentina</td>\n",
       "      <td>beef</td>\n",
       "      <td>55.48</td>\n",
       "      <td>1712.00</td>\n",
       "    </tr>\n",
       "    <tr>\n",
       "      <th>3</th>\n",
       "      <td>Argentina</td>\n",
       "      <td>lamb_goat</td>\n",
       "      <td>1.56</td>\n",
       "      <td>54.63</td>\n",
       "    </tr>\n",
       "    <tr>\n",
       "      <th>4</th>\n",
       "      <td>Argentina</td>\n",
       "      <td>fish</td>\n",
       "      <td>4.36</td>\n",
       "      <td>6.96</td>\n",
       "    </tr>\n",
       "  </tbody>\n",
       "</table>\n",
       "</div>"
      ],
      "text/plain": [
       "     country food_category  consumption  co2_emission\n",
       "0  Argentina          pork        10.51         37.20\n",
       "1  Argentina       poultry        38.66         41.53\n",
       "2  Argentina          beef        55.48       1712.00\n",
       "3  Argentina     lamb_goat         1.56         54.63\n",
       "4  Argentina          fish         4.36          6.96"
      ]
     },
     "execution_count": 4,
     "metadata": {},
     "output_type": "execute_result"
    }
   ],
   "source": [
    "food.head()"
   ]
  },
  {
   "cell_type": "code",
   "execution_count": 5,
   "id": "4066fae0",
   "metadata": {},
   "outputs": [
    {
     "name": "stdout",
     "output_type": "stream",
     "text": [
      "<class 'pandas.core.frame.DataFrame'>\n",
      "RangeIndex: 1430 entries, 0 to 1429\n",
      "Data columns (total 4 columns):\n",
      " #   Column         Non-Null Count  Dtype  \n",
      "---  ------         --------------  -----  \n",
      " 0   country        1430 non-null   object \n",
      " 1   food_category  1430 non-null   object \n",
      " 2   consumption    1430 non-null   float64\n",
      " 3   co2_emission   1430 non-null   float64\n",
      "dtypes: float64(2), object(2)\n",
      "memory usage: 44.8+ KB\n"
     ]
    }
   ],
   "source": [
    "food.info()"
   ]
  },
  {
   "cell_type": "markdown",
   "id": "472b304f-f6f4-4a5b-a662-71e0250b2cce",
   "metadata": {},
   "source": [
    "1. Use the `.describe()` method on the `food` DataFrame to produce descriptive statistics about the `consumption` metric for each class in the `food_category` variable. **Which `food_category` has the highest median value of `food_consumption`?** "
   ]
  },
  {
   "cell_type": "code",
   "execution_count": 6,
   "id": "2e8dad5d-eff2-4aea-8ee6-8013d526cc48",
   "metadata": {},
   "outputs": [
    {
     "data": {
      "text/html": [
       "<div>\n",
       "<style scoped>\n",
       "    .dataframe tbody tr th:only-of-type {\n",
       "        vertical-align: middle;\n",
       "    }\n",
       "\n",
       "    .dataframe tbody tr th {\n",
       "        vertical-align: top;\n",
       "    }\n",
       "\n",
       "    .dataframe thead th {\n",
       "        text-align: right;\n",
       "    }\n",
       "</style>\n",
       "<table border=\"1\" class=\"dataframe\">\n",
       "  <thead>\n",
       "    <tr style=\"text-align: right;\">\n",
       "      <th></th>\n",
       "      <th>count</th>\n",
       "      <th>mean</th>\n",
       "      <th>std</th>\n",
       "      <th>min</th>\n",
       "      <th>25%</th>\n",
       "      <th>50%</th>\n",
       "      <th>75%</th>\n",
       "      <th>max</th>\n",
       "    </tr>\n",
       "    <tr>\n",
       "      <th>food_category</th>\n",
       "      <th></th>\n",
       "      <th></th>\n",
       "      <th></th>\n",
       "      <th></th>\n",
       "      <th></th>\n",
       "      <th></th>\n",
       "      <th></th>\n",
       "      <th></th>\n",
       "    </tr>\n",
       "  </thead>\n",
       "  <tbody>\n",
       "    <tr>\n",
       "      <th>beef</th>\n",
       "      <td>130.0</td>\n",
       "      <td>12.123385</td>\n",
       "      <td>9.654140</td>\n",
       "      <td>0.78</td>\n",
       "      <td>4.9975</td>\n",
       "      <td>8.285</td>\n",
       "      <td>17.9400</td>\n",
       "      <td>55.48</td>\n",
       "    </tr>\n",
       "    <tr>\n",
       "      <th>dairy</th>\n",
       "      <td>130.0</td>\n",
       "      <td>125.774692</td>\n",
       "      <td>93.327721</td>\n",
       "      <td>3.04</td>\n",
       "      <td>45.7925</td>\n",
       "      <td>110.975</td>\n",
       "      <td>192.7150</td>\n",
       "      <td>430.76</td>\n",
       "    </tr>\n",
       "    <tr>\n",
       "      <th>eggs</th>\n",
       "      <td>130.0</td>\n",
       "      <td>8.163769</td>\n",
       "      <td>5.032582</td>\n",
       "      <td>0.16</td>\n",
       "      <td>3.9450</td>\n",
       "      <td>8.420</td>\n",
       "      <td>12.3125</td>\n",
       "      <td>19.15</td>\n",
       "    </tr>\n",
       "    <tr>\n",
       "      <th>fish</th>\n",
       "      <td>130.0</td>\n",
       "      <td>17.287077</td>\n",
       "      <td>19.013508</td>\n",
       "      <td>0.24</td>\n",
       "      <td>6.0250</td>\n",
       "      <td>13.950</td>\n",
       "      <td>21.8525</td>\n",
       "      <td>179.71</td>\n",
       "    </tr>\n",
       "    <tr>\n",
       "      <th>lamb_goat</th>\n",
       "      <td>130.0</td>\n",
       "      <td>2.600154</td>\n",
       "      <td>3.665252</td>\n",
       "      <td>0.00</td>\n",
       "      <td>0.5600</td>\n",
       "      <td>1.325</td>\n",
       "      <td>3.1025</td>\n",
       "      <td>21.12</td>\n",
       "    </tr>\n",
       "    <tr>\n",
       "      <th>nuts</th>\n",
       "      <td>130.0</td>\n",
       "      <td>4.137231</td>\n",
       "      <td>3.372817</td>\n",
       "      <td>0.18</td>\n",
       "      <td>1.8050</td>\n",
       "      <td>3.495</td>\n",
       "      <td>5.6100</td>\n",
       "      <td>23.03</td>\n",
       "    </tr>\n",
       "    <tr>\n",
       "      <th>pork</th>\n",
       "      <td>130.0</td>\n",
       "      <td>16.123692</td>\n",
       "      <td>15.717646</td>\n",
       "      <td>0.00</td>\n",
       "      <td>2.0900</td>\n",
       "      <td>10.355</td>\n",
       "      <td>28.2275</td>\n",
       "      <td>67.11</td>\n",
       "    </tr>\n",
       "    <tr>\n",
       "      <th>poultry</th>\n",
       "      <td>130.0</td>\n",
       "      <td>21.219231</td>\n",
       "      <td>14.571980</td>\n",
       "      <td>0.47</td>\n",
       "      <td>10.9100</td>\n",
       "      <td>19.855</td>\n",
       "      <td>29.7475</td>\n",
       "      <td>62.50</td>\n",
       "    </tr>\n",
       "    <tr>\n",
       "      <th>rice</th>\n",
       "      <td>130.0</td>\n",
       "      <td>29.375154</td>\n",
       "      <td>37.324471</td>\n",
       "      <td>0.95</td>\n",
       "      <td>4.7200</td>\n",
       "      <td>11.875</td>\n",
       "      <td>43.4425</td>\n",
       "      <td>171.73</td>\n",
       "    </tr>\n",
       "    <tr>\n",
       "      <th>soybeans</th>\n",
       "      <td>130.0</td>\n",
       "      <td>0.860538</td>\n",
       "      <td>2.083336</td>\n",
       "      <td>0.00</td>\n",
       "      <td>0.0100</td>\n",
       "      <td>0.075</td>\n",
       "      <td>0.6400</td>\n",
       "      <td>16.95</td>\n",
       "    </tr>\n",
       "    <tr>\n",
       "      <th>wheat</th>\n",
       "      <td>130.0</td>\n",
       "      <td>71.549538</td>\n",
       "      <td>44.191318</td>\n",
       "      <td>2.74</td>\n",
       "      <td>37.0450</td>\n",
       "      <td>69.420</td>\n",
       "      <td>103.3725</td>\n",
       "      <td>197.50</td>\n",
       "    </tr>\n",
       "  </tbody>\n",
       "</table>\n",
       "</div>"
      ],
      "text/plain": [
       "               count        mean        std   min      25%      50%       75%  \\\n",
       "food_category                                                                   \n",
       "beef           130.0   12.123385   9.654140  0.78   4.9975    8.285   17.9400   \n",
       "dairy          130.0  125.774692  93.327721  3.04  45.7925  110.975  192.7150   \n",
       "eggs           130.0    8.163769   5.032582  0.16   3.9450    8.420   12.3125   \n",
       "fish           130.0   17.287077  19.013508  0.24   6.0250   13.950   21.8525   \n",
       "lamb_goat      130.0    2.600154   3.665252  0.00   0.5600    1.325    3.1025   \n",
       "nuts           130.0    4.137231   3.372817  0.18   1.8050    3.495    5.6100   \n",
       "pork           130.0   16.123692  15.717646  0.00   2.0900   10.355   28.2275   \n",
       "poultry        130.0   21.219231  14.571980  0.47  10.9100   19.855   29.7475   \n",
       "rice           130.0   29.375154  37.324471  0.95   4.7200   11.875   43.4425   \n",
       "soybeans       130.0    0.860538   2.083336  0.00   0.0100    0.075    0.6400   \n",
       "wheat          130.0   71.549538  44.191318  2.74  37.0450   69.420  103.3725   \n",
       "\n",
       "                  max  \n",
       "food_category          \n",
       "beef            55.48  \n",
       "dairy          430.76  \n",
       "eggs            19.15  \n",
       "fish           179.71  \n",
       "lamb_goat       21.12  \n",
       "nuts            23.03  \n",
       "pork            67.11  \n",
       "poultry         62.50  \n",
       "rice           171.73  \n",
       "soybeans        16.95  \n",
       "wheat          197.50  "
      ]
     },
     "execution_count": 6,
     "metadata": {},
     "output_type": "execute_result"
    }
   ],
   "source": [
    "food_description = food.groupby('food_category')['consumption'].describe()\n",
    "food_description"
   ]
  },
  {
   "cell_type": "code",
   "execution_count": 7,
   "id": "1bd6a87f",
   "metadata": {},
   "outputs": [
    {
     "data": {
      "text/plain": [
       "'dairy'"
      ]
     },
     "execution_count": 7,
     "metadata": {},
     "output_type": "execute_result"
    }
   ],
   "source": [
    "highest_median_value = food_description[food_description['50%'] == food_description['50%'].max()].index[0]\n",
    "highest_median_value"
   ]
  },
  {
   "cell_type": "markdown",
   "id": "06203beb",
   "metadata": {},
   "source": [
    "#### *The food category with the highest median value of food_consumption is dairy*"
   ]
  },
  {
   "cell_type": "markdown",
   "id": "78301ce2-ff86-4065-b681-3f08468dca5a",
   "metadata": {},
   "source": [
    "2. In a single chart, plot one boxplot for each `food_category` (11 in total) using the variable `co2_emission` as the metric. **By looking at the chart, which `food_category` has the highest interquartile range (IQR)?**"
   ]
  },
  {
   "cell_type": "code",
   "execution_count": 8,
   "id": "0f42d7f9-ccdc-4206-b4e4-b7e6748a65a7",
   "metadata": {},
   "outputs": [
    {
     "data": {
      "image/png": "[encoded data removed]",
      "text/plain": [
       "<Figure size 1200x800 with 1 Axes>"
      ]
     },
     "metadata": {},
     "output_type": "display_data"
    }
   ],
   "source": [
    "sns.set(style=\"whitegrid\")\n",
    "\n",
    "plt.figure(figsize=(12, 8))\n",
    "sns.boxplot(x='food_category', y='co2_emission', data=food)\n",
    "plt.title('CO2 Emission by Food Category')\n",
    "plt.xlabel('Food Category')\n",
    "plt.ylabel('CO2 Emission')\n",
    "\n",
    "plt.show()"
   ]
  },
  {
   "cell_type": "code",
   "execution_count": 9,
   "id": "d70ba21b",
   "metadata": {},
   "outputs": [
    {
     "name": "stdout",
     "output_type": "stream",
     "text": [
      "beef 399.37749999999994\n",
      "dairy 209.2725\n",
      "eggs 7.6850000000000005\n",
      "fish 25.27\n",
      "lamb_goat 89.03750000000001\n",
      "nuts 6.734999999999999\n",
      "pork 92.52\n",
      "poultry 20.230000000000004\n",
      "rice 49.55\n",
      "soybeans 0.29\n",
      "wheat 12.645000000000001\n"
     ]
    }
   ],
   "source": [
    "gbf = food.groupby('food_category')\n",
    "\n",
    "for i, frame in gbf:\n",
    "    iqr = frame.co2_emission.quantile(0.75) - frame.co2_emission.quantile(0.25)\n",
    "    print(i, iqr)"
   ]
  },
  {
   "cell_type": "markdown",
   "id": "9ae25e7d",
   "metadata": {},
   "source": [
    "### *Beef is the food_category that has the highest interquartile range with a value of 399.377*"
   ]
  },
  {
   "cell_type": "markdown",
   "id": "50a7f9f2-6fe9-4707-a734-7dc1d9b010f9",
   "metadata": {},
   "source": [
    "3. Looking at the chart from the previous question, which is the `food_category` with the highest median `co2_emission` value? "
   ]
  },
  {
   "cell_type": "code",
   "execution_count": 10,
   "id": "b0a27598-6e5d-437e-a879-15a86197bd4c",
   "metadata": {},
   "outputs": [
    {
     "name": "stdout",
     "output_type": "stream",
     "text": [
      "beef 255.655\n",
      "dairy 158.075\n",
      "eggs 7.734999999999999\n",
      "fish 22.27\n",
      "lamb_goat 46.405\n",
      "nuts 6.1850000000000005\n",
      "pork 36.650000000000006\n",
      "poultry 21.325\n",
      "rice 15.2\n",
      "soybeans 0.035\n",
      "wheat 13.24\n"
     ]
    }
   ],
   "source": [
    "for i, frame in gbf:\n",
    "    median = frame.co2_emission.quantile(0.5)\n",
    "    print(i, median)"
   ]
  },
  {
   "cell_type": "markdown",
   "id": "ac6285f3",
   "metadata": {},
   "source": [
    "### *Beef is the food category with the highest median: 255.655*"
   ]
  },
  {
   "cell_type": "markdown",
   "id": "bccd7696-498d-4220-89ff-2154275d2469",
   "metadata": {},
   "source": [
    "4. Consider the `consumption` of \"poultry\" and \"fish\" across all available `countries`; looking at the table from question 1, the average of poultry consumption (21.22) seems to be higher than that of fish consumption (17.29), but is this difference statistically significant? Create a permutation test in order to assess the null hypothesis that there is no difference between the two means. **Do you accept or reject the null hypothesis?** Explain why. "
   ]
  },
  {
   "cell_type": "code",
   "execution_count": 11,
   "id": "159f3cd2-90f7-4eb9-a85b-263341415ba1",
   "metadata": {},
   "outputs": [],
   "source": [
    "poultry_consumption = food[food['food_category'] == 'poultry']['consumption']\n",
    "fish_consumption = food[food['food_category'] == 'fish']['consumption']"
   ]
  },
  {
   "cell_type": "code",
   "execution_count": 12,
   "id": "f523532c",
   "metadata": {},
   "outputs": [],
   "source": [
    "observed_difference = np.mean(poultry_consumption) - np.mean(fish_consumption)"
   ]
  },
  {
   "cell_type": "code",
   "execution_count": 13,
   "id": "e6e87b68",
   "metadata": {},
   "outputs": [],
   "source": [
    "combined_data = np.concatenate([poultry_consumption, fish_consumption])"
   ]
  },
  {
   "cell_type": "code",
   "execution_count": 14,
   "id": "1987a59a",
   "metadata": {},
   "outputs": [],
   "source": [
    "num_permutations = 20000\n",
    "permutation_differences = np.zeros(num_permutations)\n",
    "for i in range(num_permutations):\n",
    "    permuted_data = np.random.permutation(combined_data)\n",
    "    permuted_poultry = permuted_data[:len(poultry_consumption)]\n",
    "    permuted_fish = permuted_data[len(poultry_consumption):]\n",
    "    permutation_differences[i] = np.mean(permuted_poultry) - np.mean(permuted_fish)"
   ]
  },
  {
   "cell_type": "code",
   "execution_count": 15,
   "id": "86a87e8e",
   "metadata": {},
   "outputs": [
    {
     "name": "stdout",
     "output_type": "stream",
     "text": [
      "Observed difference in means: 3.9321538461538488\n",
      "P-value: 0.0287\n",
      "Reject the null hypothesis. The difference is statistically significant.\n"
     ]
    }
   ],
   "source": [
    "p_value = np.sum(permutation_differences >= observed_difference) / num_permutations\n",
    "print(f\"Observed difference in means: {observed_difference}\")\n",
    "print(f\"P-value: {p_value}\")\n",
    "\n",
    "alpha = 0.05\n",
    "if p_value < alpha:\n",
    "    print(\"Reject the null hypothesis. The difference is statistically significant.\")\n",
    "else:\n",
    "    print(\"Fail to reject the null hypothesis. The difference is not statistically significant.\")"
   ]
  },
  {
   "cell_type": "markdown",
   "id": "955148c6",
   "metadata": {},
   "source": [
    "### *Observed difference in means: 3.9321538461538488*\n",
    "### *P-value: 0.0287*\n",
    "### *Reject the null hypothesis. The difference is statistically significant.*"
   ]
  },
  {
   "cell_type": "markdown",
   "metadata": {},
   "source": [
    "### Part 2\n",
    "\n",
    "The `distributions.csv` dataset from the `data` folder contains data drawn from 7 probability distributions – one per column. Load it to a DataFrame named `distributions` and check its contents."
   ]
  },
  {
   "cell_type": "code",
   "execution_count": 33,
   "metadata": {},
   "outputs": [
    {
     "data": {
      "text/html": [
       "<div>\n",
       "<style scoped>\n",
       "    .dataframe tbody tr th:only-of-type {\n",
       "        vertical-align: middle;\n",
       "    }\n",
       "\n",
       "    .dataframe tbody tr th {\n",
       "        vertical-align: top;\n",
       "    }\n",
       "\n",
       "    .dataframe thead th {\n",
       "        text-align: right;\n",
       "    }\n",
       "</style>\n",
       "<table border=\"1\" class=\"dataframe\">\n",
       "  <thead>\n",
       "    <tr style=\"text-align: right;\">\n",
       "      <th></th>\n",
       "      <th>distribution_1</th>\n",
       "      <th>distribution_2</th>\n",
       "      <th>distribution_3</th>\n",
       "      <th>distribution_4</th>\n",
       "      <th>distribution_5</th>\n",
       "      <th>distribution_6</th>\n",
       "      <th>distribution_7</th>\n",
       "    </tr>\n",
       "  </thead>\n",
       "  <tbody>\n",
       "    <tr>\n",
       "      <th>997</th>\n",
       "      <td>False</td>\n",
       "      <td>100.000855</td>\n",
       "      <td>3.999458</td>\n",
       "      <td>888</td>\n",
       "      <td>1</td>\n",
       "      <td>-31</td>\n",
       "      <td>0.228308</td>\n",
       "    </tr>\n",
       "    <tr>\n",
       "      <th>96</th>\n",
       "      <td>False</td>\n",
       "      <td>100.006362</td>\n",
       "      <td>4.592940</td>\n",
       "      <td>893</td>\n",
       "      <td>2</td>\n",
       "      <td>-35</td>\n",
       "      <td>0.096580</td>\n",
       "    </tr>\n",
       "    <tr>\n",
       "      <th>356</th>\n",
       "      <td>False</td>\n",
       "      <td>100.005322</td>\n",
       "      <td>1.762071</td>\n",
       "      <td>889</td>\n",
       "      <td>0</td>\n",
       "      <td>-30</td>\n",
       "      <td>1.007496</td>\n",
       "    </tr>\n",
       "    <tr>\n",
       "      <th>30</th>\n",
       "      <td>False</td>\n",
       "      <td>100.023486</td>\n",
       "      <td>4.716322</td>\n",
       "      <td>894</td>\n",
       "      <td>1</td>\n",
       "      <td>-30</td>\n",
       "      <td>0.176046</td>\n",
       "    </tr>\n",
       "    <tr>\n",
       "      <th>72</th>\n",
       "      <td>False</td>\n",
       "      <td>100.000920</td>\n",
       "      <td>3.193925</td>\n",
       "      <td>904</td>\n",
       "      <td>2</td>\n",
       "      <td>-35</td>\n",
       "      <td>2.894168</td>\n",
       "    </tr>\n",
       "    <tr>\n",
       "      <th>924</th>\n",
       "      <td>False</td>\n",
       "      <td>99.996455</td>\n",
       "      <td>4.368640</td>\n",
       "      <td>894</td>\n",
       "      <td>2</td>\n",
       "      <td>-35</td>\n",
       "      <td>0.444630</td>\n",
       "    </tr>\n",
       "    <tr>\n",
       "      <th>748</th>\n",
       "      <td>False</td>\n",
       "      <td>100.013144</td>\n",
       "      <td>5.240671</td>\n",
       "      <td>887</td>\n",
       "      <td>1</td>\n",
       "      <td>-39</td>\n",
       "      <td>1.557787</td>\n",
       "    </tr>\n",
       "    <tr>\n",
       "      <th>529</th>\n",
       "      <td>False</td>\n",
       "      <td>99.997776</td>\n",
       "      <td>5.782785</td>\n",
       "      <td>906</td>\n",
       "      <td>1</td>\n",
       "      <td>-35</td>\n",
       "      <td>0.431814</td>\n",
       "    </tr>\n",
       "    <tr>\n",
       "      <th>947</th>\n",
       "      <td>False</td>\n",
       "      <td>99.983987</td>\n",
       "      <td>1.369391</td>\n",
       "      <td>904</td>\n",
       "      <td>1</td>\n",
       "      <td>-31</td>\n",
       "      <td>0.264602</td>\n",
       "    </tr>\n",
       "    <tr>\n",
       "      <th>626</th>\n",
       "      <td>False</td>\n",
       "      <td>99.996082</td>\n",
       "      <td>2.595587</td>\n",
       "      <td>906</td>\n",
       "      <td>2</td>\n",
       "      <td>-35</td>\n",
       "      <td>0.383730</td>\n",
       "    </tr>\n",
       "  </tbody>\n",
       "</table>\n",
       "</div>"
      ],
      "text/plain": [
       "     distribution_1  distribution_2  distribution_3  distribution_4  \\\n",
       "997           False      100.000855        3.999458             888   \n",
       "96            False      100.006362        4.592940             893   \n",
       "356           False      100.005322        1.762071             889   \n",
       "30            False      100.023486        4.716322             894   \n",
       "72            False      100.000920        3.193925             904   \n",
       "924           False       99.996455        4.368640             894   \n",
       "748           False      100.013144        5.240671             887   \n",
       "529           False       99.997776        5.782785             906   \n",
       "947           False       99.983987        1.369391             904   \n",
       "626           False       99.996082        2.595587             906   \n",
       "\n",
       "     distribution_5  distribution_6  distribution_7  \n",
       "997               1             -31        0.228308  \n",
       "96                2             -35        0.096580  \n",
       "356               0             -30        1.007496  \n",
       "30                1             -30        0.176046  \n",
       "72                2             -35        2.894168  \n",
       "924               2             -35        0.444630  \n",
       "748               1             -39        1.557787  \n",
       "529               1             -35        0.431814  \n",
       "947               1             -31        0.264602  \n",
       "626               2             -35        0.383730  "
      ]
     },
     "execution_count": 33,
     "metadata": {},
     "output_type": "execute_result"
    }
   ],
   "source": [
    "distributions = pd.read_csv('data/distributions.csv')\n",
    "distributions.sample(10)"
   ]
  },
  {
   "cell_type": "markdown",
   "metadata": {},
   "source": [
    "1. Use the `.describe()` and `info()` methods on the `distributions` DataFrame to produce some preliminary information about each column. **What is the data type of each column?**"
   ]
  },
  {
   "cell_type": "code",
   "execution_count": 34,
   "metadata": {},
   "outputs": [
    {
     "name": "stdout",
     "output_type": "stream",
     "text": [
      "<class 'pandas.core.frame.DataFrame'>\n",
      "RangeIndex: 1000 entries, 0 to 999\n",
      "Data columns (total 7 columns):\n",
      " #   Column          Non-Null Count  Dtype  \n",
      "---  ------          --------------  -----  \n",
      " 0   distribution_1  1000 non-null   bool   \n",
      " 1   distribution_2  1000 non-null   float64\n",
      " 2   distribution_3  1000 non-null   float64\n",
      " 3   distribution_4  1000 non-null   int64  \n",
      " 4   distribution_5  1000 non-null   int64  \n",
      " 5   distribution_6  1000 non-null   int64  \n",
      " 6   distribution_7  1000 non-null   float64\n",
      "dtypes: bool(1), float64(3), int64(3)\n",
      "memory usage: 48.0 KB\n"
     ]
    }
   ],
   "source": [
    "distributions.info()"
   ]
  },
  {
   "cell_type": "markdown",
   "id": "539d140f",
   "metadata": {},
   "source": [
    "###  *distribution_1 = bool*\n",
    "###  *distribution_2 = float64*\n",
    "###  *distribution_3 = float64*\n",
    "###  *distribution_4 = int64*\n",
    "###  *distribution_5 = int64*\n",
    "###  *distribution_6 = int64*\n",
    "###  *distribution_7 = float64*"
   ]
  },
  {
   "cell_type": "code",
   "execution_count": 35,
   "id": "e74f42c2",
   "metadata": {},
   "outputs": [
    {
     "data": {
      "text/html": [
       "<div>\n",
       "<style scoped>\n",
       "    .dataframe tbody tr th:only-of-type {\n",
       "        vertical-align: middle;\n",
       "    }\n",
       "\n",
       "    .dataframe tbody tr th {\n",
       "        vertical-align: top;\n",
       "    }\n",
       "\n",
       "    .dataframe thead th {\n",
       "        text-align: right;\n",
       "    }\n",
       "</style>\n",
       "<table border=\"1\" class=\"dataframe\">\n",
       "  <thead>\n",
       "    <tr style=\"text-align: right;\">\n",
       "      <th></th>\n",
       "      <th>distribution_2</th>\n",
       "      <th>distribution_3</th>\n",
       "      <th>distribution_4</th>\n",
       "      <th>distribution_5</th>\n",
       "      <th>distribution_6</th>\n",
       "      <th>distribution_7</th>\n",
       "    </tr>\n",
       "  </thead>\n",
       "  <tbody>\n",
       "    <tr>\n",
       "      <th>count</th>\n",
       "      <td>1000.000000</td>\n",
       "      <td>1000.000000</td>\n",
       "      <td>1000.000000</td>\n",
       "      <td>1000.000000</td>\n",
       "      <td>1000.000000</td>\n",
       "      <td>1000.000000</td>\n",
       "    </tr>\n",
       "    <tr>\n",
       "      <th>mean</th>\n",
       "      <td>100.000263</td>\n",
       "      <td>3.462706</td>\n",
       "      <td>899.630000</td>\n",
       "      <td>1.192000</td>\n",
       "      <td>-34.539000</td>\n",
       "      <td>0.513223</td>\n",
       "    </tr>\n",
       "    <tr>\n",
       "      <th>std</th>\n",
       "      <td>0.010155</td>\n",
       "      <td>1.466874</td>\n",
       "      <td>9.729531</td>\n",
       "      <td>1.091938</td>\n",
       "      <td>2.889087</td>\n",
       "      <td>0.497540</td>\n",
       "    </tr>\n",
       "    <tr>\n",
       "      <th>min</th>\n",
       "      <td>99.961668</td>\n",
       "      <td>1.002417</td>\n",
       "      <td>865.000000</td>\n",
       "      <td>0.000000</td>\n",
       "      <td>-39.000000</td>\n",
       "      <td>0.000033</td>\n",
       "    </tr>\n",
       "    <tr>\n",
       "      <th>25%</th>\n",
       "      <td>99.993916</td>\n",
       "      <td>2.223423</td>\n",
       "      <td>893.000000</td>\n",
       "      <td>0.000000</td>\n",
       "      <td>-37.000000</td>\n",
       "      <td>0.141789</td>\n",
       "    </tr>\n",
       "    <tr>\n",
       "      <th>50%</th>\n",
       "      <td>100.000598</td>\n",
       "      <td>3.426250</td>\n",
       "      <td>900.000000</td>\n",
       "      <td>1.000000</td>\n",
       "      <td>-34.000000</td>\n",
       "      <td>0.362279</td>\n",
       "    </tr>\n",
       "    <tr>\n",
       "      <th>75%</th>\n",
       "      <td>100.007031</td>\n",
       "      <td>4.679788</td>\n",
       "      <td>906.000000</td>\n",
       "      <td>2.000000</td>\n",
       "      <td>-32.000000</td>\n",
       "      <td>0.735851</td>\n",
       "    </tr>\n",
       "    <tr>\n",
       "      <th>max</th>\n",
       "      <td>100.034052</td>\n",
       "      <td>5.997595</td>\n",
       "      <td>929.000000</td>\n",
       "      <td>6.000000</td>\n",
       "      <td>-30.000000</td>\n",
       "      <td>3.039330</td>\n",
       "    </tr>\n",
       "  </tbody>\n",
       "</table>\n",
       "</div>"
      ],
      "text/plain": [
       "       distribution_2  distribution_3  distribution_4  distribution_5  \\\n",
       "count     1000.000000     1000.000000     1000.000000     1000.000000   \n",
       "mean       100.000263        3.462706      899.630000        1.192000   \n",
       "std          0.010155        1.466874        9.729531        1.091938   \n",
       "min         99.961668        1.002417      865.000000        0.000000   \n",
       "25%         99.993916        2.223423      893.000000        0.000000   \n",
       "50%        100.000598        3.426250      900.000000        1.000000   \n",
       "75%        100.007031        4.679788      906.000000        2.000000   \n",
       "max        100.034052        5.997595      929.000000        6.000000   \n",
       "\n",
       "       distribution_6  distribution_7  \n",
       "count     1000.000000     1000.000000  \n",
       "mean       -34.539000        0.513223  \n",
       "std          2.889087        0.497540  \n",
       "min        -39.000000        0.000033  \n",
       "25%        -37.000000        0.141789  \n",
       "50%        -34.000000        0.362279  \n",
       "75%        -32.000000        0.735851  \n",
       "max        -30.000000        3.039330  "
      ]
     },
     "execution_count": 35,
     "metadata": {},
     "output_type": "execute_result"
    }
   ],
   "source": [
    "distributions.describe()"
   ]
  },
  {
   "cell_type": "markdown",
   "metadata": {},
   "source": [
    "2. Loop through each column of `distributions` and for each column produce a plot to show the distribution on a separate chart."
   ]
  },
  {
   "cell_type": "code",
   "execution_count": 36,
   "id": "b625c6c2",
   "metadata": {},
   "outputs": [],
   "source": [
    "def transform(x):\n",
    "    if x == False:\n",
    "        return 0\n",
    "    else:\n",
    "        return 1\n",
    "distributions['distribution_1'] = distributions['distribution_1'].apply(lambda x: transform(x))"
   ]
  },
  {
   "cell_type": "code",
   "execution_count": 37,
   "id": "161eb87d",
   "metadata": {},
   "outputs": [
    {
     "data": {
      "text/html": [
       "<div>\n",
       "<style scoped>\n",
       "    .dataframe tbody tr th:only-of-type {\n",
       "        vertical-align: middle;\n",
       "    }\n",
       "\n",
       "    .dataframe tbody tr th {\n",
       "        vertical-align: top;\n",
       "    }\n",
       "\n",
       "    .dataframe thead th {\n",
       "        text-align: right;\n",
       "    }\n",
       "</style>\n",
       "<table border=\"1\" class=\"dataframe\">\n",
       "  <thead>\n",
       "    <tr style=\"text-align: right;\">\n",
       "      <th></th>\n",
       "      <th>distribution_1</th>\n",
       "      <th>distribution_2</th>\n",
       "      <th>distribution_3</th>\n",
       "      <th>distribution_4</th>\n",
       "      <th>distribution_5</th>\n",
       "      <th>distribution_6</th>\n",
       "      <th>distribution_7</th>\n",
       "    </tr>\n",
       "  </thead>\n",
       "  <tbody>\n",
       "    <tr>\n",
       "      <th>90</th>\n",
       "      <td>0</td>\n",
       "      <td>99.988241</td>\n",
       "      <td>3.232981</td>\n",
       "      <td>902</td>\n",
       "      <td>1</td>\n",
       "      <td>-33</td>\n",
       "      <td>0.055145</td>\n",
       "    </tr>\n",
       "    <tr>\n",
       "      <th>745</th>\n",
       "      <td>0</td>\n",
       "      <td>99.998651</td>\n",
       "      <td>5.396537</td>\n",
       "      <td>905</td>\n",
       "      <td>0</td>\n",
       "      <td>-34</td>\n",
       "      <td>0.603821</td>\n",
       "    </tr>\n",
       "    <tr>\n",
       "      <th>82</th>\n",
       "      <td>0</td>\n",
       "      <td>99.999448</td>\n",
       "      <td>3.716758</td>\n",
       "      <td>888</td>\n",
       "      <td>1</td>\n",
       "      <td>-37</td>\n",
       "      <td>0.594429</td>\n",
       "    </tr>\n",
       "    <tr>\n",
       "      <th>652</th>\n",
       "      <td>0</td>\n",
       "      <td>100.013127</td>\n",
       "      <td>1.721443</td>\n",
       "      <td>911</td>\n",
       "      <td>1</td>\n",
       "      <td>-32</td>\n",
       "      <td>0.217442</td>\n",
       "    </tr>\n",
       "    <tr>\n",
       "      <th>220</th>\n",
       "      <td>0</td>\n",
       "      <td>100.024807</td>\n",
       "      <td>2.771371</td>\n",
       "      <td>898</td>\n",
       "      <td>6</td>\n",
       "      <td>-33</td>\n",
       "      <td>0.533280</td>\n",
       "    </tr>\n",
       "  </tbody>\n",
       "</table>\n",
       "</div>"
      ],
      "text/plain": [
       "     distribution_1  distribution_2  distribution_3  distribution_4  \\\n",
       "90                0       99.988241        3.232981             902   \n",
       "745               0       99.998651        5.396537             905   \n",
       "82                0       99.999448        3.716758             888   \n",
       "652               0      100.013127        1.721443             911   \n",
       "220               0      100.024807        2.771371             898   \n",
       "\n",
       "     distribution_5  distribution_6  distribution_7  \n",
       "90                1             -33        0.055145  \n",
       "745               0             -34        0.603821  \n",
       "82                1             -37        0.594429  \n",
       "652               1             -32        0.217442  \n",
       "220               6             -33        0.533280  "
      ]
     },
     "execution_count": 37,
     "metadata": {},
     "output_type": "execute_result"
    }
   ],
   "source": [
    "distributions.sample(5)"
   ]
  },
  {
   "cell_type": "code",
   "execution_count": 38,
   "id": "2aba7622",
   "metadata": {},
   "outputs": [
    {
     "name": "stdout",
     "output_type": "stream",
     "text": [
      "<class 'pandas.core.frame.DataFrame'>\n",
      "RangeIndex: 1000 entries, 0 to 999\n",
      "Data columns (total 7 columns):\n",
      " #   Column          Non-Null Count  Dtype  \n",
      "---  ------          --------------  -----  \n",
      " 0   distribution_1  1000 non-null   int64  \n",
      " 1   distribution_2  1000 non-null   float64\n",
      " 2   distribution_3  1000 non-null   float64\n",
      " 3   distribution_4  1000 non-null   int64  \n",
      " 4   distribution_5  1000 non-null   int64  \n",
      " 5   distribution_6  1000 non-null   int64  \n",
      " 6   distribution_7  1000 non-null   float64\n",
      "dtypes: float64(3), int64(4)\n",
      "memory usage: 54.8 KB\n"
     ]
    }
   ],
   "source": [
    "distributions.info()"
   ]
  },
  {
   "cell_type": "code",
   "execution_count": 40,
   "metadata": {},
   "outputs": [
    {
     "data": {
      "image/png": "[encoded data removed]",
      "text/plain": [
       "<Figure size 600x500 with 1 Axes>"
      ]
     },
     "metadata": {},
     "output_type": "display_data"
    },
    {
     "data": {
      "image/png": "[encoded data removed]",
      "text/plain": [
       "<Figure size 600x500 with 1 Axes>"
      ]
     },
     "metadata": {},
     "output_type": "display_data"
    },
    {
     "data": {
      "image/png": "[encoded data removed]",
      "text/plain": [
       "<Figure size 600x500 with 1 Axes>"
      ]
     },
     "metadata": {},
     "output_type": "display_data"
    },
    {
     "data": {
      "image/png": "[encoded data removed]",
      "text/plain": [
       "<Figure size 600x500 with 1 Axes>"
      ]
     },
     "metadata": {},
     "output_type": "display_data"
    },
    {
     "data": {
      "image/png": "[encoded data removed]",
      "text/plain": [
       "<Figure size 600x500 with 1 Axes>"
      ]
     },
     "metadata": {},
     "output_type": "display_data"
    },
    {
     "data": {
      "image/png": "[encoded data removed]",
      "text/plain": [
       "<Figure size 600x500 with 1 Axes>"
      ]
     },
     "metadata": {},
     "output_type": "display_data"
    },
    {
     "data": {
      "image/png": "[encoded data removed]",
      "text/plain": [
       "<Figure size 600x500 with 1 Axes>"
      ]
     },
     "metadata": {},
     "output_type": "display_data"
    }
   ],
   "source": [
    "for i in distributions.columns:\n",
    "    di = distributions[i]\n",
    "    plt.figure(figsize=(6, 5))\n",
    "    plt.title(i)\n",
    "    plt.hist(di)\n",
    "    plt.show()"
   ]
  },
  {
   "cell_type": "markdown",
   "metadata": {},
   "source": [
    "3. Each column of the `distributions` dataframe contains data drawn from a different distribution. **Associate each column to its probability distribution.** This is the list of the probability distributions used (one for each column):\n",
    "    - Bernoulli\n",
    "    - Binomial\n",
    "    - Continuous Uniform\n",
    "    - Gaussian\n",
    "    - Discrete Uniform\n",
    "    - Poisson\n",
    "    - Exponential (this was not explain in classroom, go by exclusion)"
   ]
  },
  {
   "cell_type": "markdown",
   "id": "67afe671",
   "metadata": {},
   "source": [
    "### *Bernoulli = distributions_1*\n",
    "### *Binomial = distributions_4*\n",
    "### *Continuous Uniform = distributions_3*\n",
    "### *Gaussian = distributions_2*\n",
    "### *Discrete Uniform = distributions_6*\n",
    "### *Poisson = istributions_5*\n",
    "### *Exponential = distributions_7*\n"
   ]
  }
 ],
 "metadata": {
  "kernelspec": {
   "display_name": "Python 3 (ipykernel)",
   "language": "python",
   "name": "python3"
  },
  "language_info": {
   "codemirror_mode": {
    "name": "ipython",
    "version": 3
   },
   "file_extension": ".py",
   "mimetype": "text/x-python",
   "name": "python",
   "nbconvert_exporter": "python",
   "pygments_lexer": "ipython3",
   "version": "3.11.5"
  }
 },
 "nbformat": 4,
 "nbformat_minor": 5
}
