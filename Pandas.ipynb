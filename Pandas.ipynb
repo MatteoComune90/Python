{
 "cells": [
  {
   "cell_type": "markdown",
   "id": "5f36647a-b6bc-4d85-8bd4-7bb04d935122",
   "metadata": {},
   "source": [
    "# Pandas"
   ]
  },
  {
   "cell_type": "markdown",
   "id": "f8d39ff1-490e-4110-9ff1-8880fdba895c",
   "metadata": {},
   "source": [
    "### Homework Solutions"
   ]
  },
  {
   "cell_type": "markdown",
   "id": "e5aac0b8-67cf-496d-8b82-d7a2910ef36b",
   "metadata": {},
   "source": [
    "Before you begin, always remember to import the necessary libraries."
   ]
  },
  {
   "cell_type": "code",
   "execution_count": 1,
   "id": "33de4fa0-4c6b-412e-9d31-b60b777ec39a",
   "metadata": {},
   "outputs": [],
   "source": [
    "import numpy as np\n",
    "import pandas as pd"
   ]
  },
  {
   "cell_type": "markdown",
   "id": "a6be9786-ed96-4ab6-bf58-711b6fcef982",
   "metadata": {
    "tags": []
   },
   "source": [
    "#### Standard Exercises"
   ]
  },
  {
   "cell_type": "markdown",
   "id": "c3fb179c-cc45-45c5-a2fd-94500c2a6cf6",
   "metadata": {},
   "source": [
    "1. Given the follwing dictionary `sales_dict`, create a new `pandas` DataFrame from it and assign it to an object named `sales`. Show the `sales` DataFrame."
   ]
  },
  {
   "cell_type": "code",
   "execution_count": 2,
   "id": "94b10459-64bd-4fd7-8448-9c3df2ab5d7a",
   "metadata": {},
   "outputs": [],
   "source": [
    "# do not delete this cell\n",
    "sales_dict = {'categories': ['Goods', 'Services', 'Experiences'],\n",
    "              'units_sold': [140, 215, 95], \n",
    "              'total_revenue': [8400, 5375, 14250],\n",
    "              'cost_per_unit': [35, 10, 100]}"
   ]
  },
  {
   "cell_type": "code",
   "execution_count": 3,
   "id": "8d7bac15-49cf-4031-933f-6d2cc3fe40b2",
   "metadata": {},
   "outputs": [
    {
     "data": {
      "text/html": [
       "<div>\n",
       "<style scoped>\n",
       "    .dataframe tbody tr th:only-of-type {\n",
       "        vertical-align: middle;\n",
       "    }\n",
       "\n",
       "    .dataframe tbody tr th {\n",
       "        vertical-align: top;\n",
       "    }\n",
       "\n",
       "    .dataframe thead th {\n",
       "        text-align: right;\n",
       "    }\n",
       "</style>\n",
       "<table border=\"1\" class=\"dataframe\">\n",
       "  <thead>\n",
       "    <tr style=\"text-align: right;\">\n",
       "      <th></th>\n",
       "      <th>categories</th>\n",
       "      <th>units_sold</th>\n",
       "      <th>total_revenue</th>\n",
       "      <th>cost_per_unit</th>\n",
       "    </tr>\n",
       "  </thead>\n",
       "  <tbody>\n",
       "    <tr>\n",
       "      <th>0</th>\n",
       "      <td>Goods</td>\n",
       "      <td>140</td>\n",
       "      <td>8400</td>\n",
       "      <td>35</td>\n",
       "    </tr>\n",
       "    <tr>\n",
       "      <th>1</th>\n",
       "      <td>Services</td>\n",
       "      <td>215</td>\n",
       "      <td>5375</td>\n",
       "      <td>10</td>\n",
       "    </tr>\n",
       "    <tr>\n",
       "      <th>2</th>\n",
       "      <td>Experiences</td>\n",
       "      <td>95</td>\n",
       "      <td>14250</td>\n",
       "      <td>100</td>\n",
       "    </tr>\n",
       "  </tbody>\n",
       "</table>\n",
       "</div>"
      ],
      "text/plain": [
       "    categories  units_sold  total_revenue  cost_per_unit\n",
       "0        Goods         140           8400             35\n",
       "1     Services         215           5375             10\n",
       "2  Experiences          95          14250            100"
      ]
     },
     "execution_count": 3,
     "metadata": {},
     "output_type": "execute_result"
    }
   ],
   "source": [
    "sales = pd.DataFrame(sales_dict)\n",
    "sales"
   ]
  },
  {
   "cell_type": "markdown",
   "id": "b18c9f23-816f-4eaf-bede-906c8db7d32f",
   "metadata": {},
   "source": [
    "2. In the cells below show the following features of the `sales` DataFrame: \n",
    "\n",
    "- the object's data type\n",
    "- the shape\n",
    "- the column's data type"
   ]
  },
  {
   "cell_type": "code",
   "execution_count": 4,
   "id": "3796d94b-ca33-4319-bca6-028b3b987003",
   "metadata": {},
   "outputs": [
    {
     "data": {
      "text/plain": [
       "pandas.core.frame.DataFrame"
      ]
     },
     "execution_count": 4,
     "metadata": {},
     "output_type": "execute_result"
    }
   ],
   "source": [
    "type(sales)"
   ]
  },
  {
   "cell_type": "code",
   "execution_count": 5,
   "id": "184aca7e-4b69-41a5-91bb-e1b204ccfb4a",
   "metadata": {},
   "outputs": [
    {
     "data": {
      "text/plain": [
       "(3, 4)"
      ]
     },
     "execution_count": 5,
     "metadata": {},
     "output_type": "execute_result"
    }
   ],
   "source": [
    "sales.shape"
   ]
  },
  {
   "cell_type": "code",
   "execution_count": 6,
   "id": "00efa439-5e96-4876-9ff1-44fde75f53bb",
   "metadata": {},
   "outputs": [
    {
     "name": "stdout",
     "output_type": "stream",
     "text": [
      "<class 'pandas.core.frame.DataFrame'>\n",
      "RangeIndex: 3 entries, 0 to 2\n",
      "Data columns (total 4 columns):\n",
      " #   Column         Non-Null Count  Dtype \n",
      "---  ------         --------------  ----- \n",
      " 0   categories     3 non-null      object\n",
      " 1   units_sold     3 non-null      int64 \n",
      " 2   total_revenue  3 non-null      int64 \n",
      " 3   cost_per_unit  3 non-null      int64 \n",
      "dtypes: int64(3), object(1)\n",
      "memory usage: 224.0+ bytes\n"
     ]
    }
   ],
   "source": [
    "sales.info()"
   ]
  },
  {
   "cell_type": "markdown",
   "id": "fb729dce-b2f5-4210-9766-80cac7067d69",
   "metadata": {},
   "source": [
    "3. Calculate the total number of `units_sold` across all categories"
   ]
  },
  {
   "cell_type": "code",
   "execution_count": 7,
   "id": "8503d6cc-3a6c-4c00-80b8-82487f21717e",
   "metadata": {},
   "outputs": [
    {
     "data": {
      "text/plain": [
       "450"
      ]
     },
     "execution_count": 7,
     "metadata": {},
     "output_type": "execute_result"
    }
   ],
   "source": [
    "sales[\"units_sold\"].sum()"
   ]
  },
  {
   "cell_type": "markdown",
   "id": "f02c4bb8-233f-4450-93ff-d72fe691bb61",
   "metadata": {},
   "source": [
    "4. Add a new column to the DataFrame that multiplies `units_sold` by `cost_per_unit` and call it `total_cost`."
   ]
  },
  {
   "cell_type": "code",
   "execution_count": 8,
   "id": "092ea1e6-950c-4e44-af95-97fd3399477f",
   "metadata": {},
   "outputs": [
    {
     "data": {
      "text/html": [
       "<div>\n",
       "<style scoped>\n",
       "    .dataframe tbody tr th:only-of-type {\n",
       "        vertical-align: middle;\n",
       "    }\n",
       "\n",
       "    .dataframe tbody tr th {\n",
       "        vertical-align: top;\n",
       "    }\n",
       "\n",
       "    .dataframe thead th {\n",
       "        text-align: right;\n",
       "    }\n",
       "</style>\n",
       "<table border=\"1\" class=\"dataframe\">\n",
       "  <thead>\n",
       "    <tr style=\"text-align: right;\">\n",
       "      <th></th>\n",
       "      <th>categories</th>\n",
       "      <th>units_sold</th>\n",
       "      <th>total_revenue</th>\n",
       "      <th>cost_per_unit</th>\n",
       "      <th>total_cost</th>\n",
       "    </tr>\n",
       "  </thead>\n",
       "  <tbody>\n",
       "    <tr>\n",
       "      <th>0</th>\n",
       "      <td>Goods</td>\n",
       "      <td>140</td>\n",
       "      <td>8400</td>\n",
       "      <td>35</td>\n",
       "      <td>4900</td>\n",
       "    </tr>\n",
       "    <tr>\n",
       "      <th>1</th>\n",
       "      <td>Services</td>\n",
       "      <td>215</td>\n",
       "      <td>5375</td>\n",
       "      <td>10</td>\n",
       "      <td>2150</td>\n",
       "    </tr>\n",
       "    <tr>\n",
       "      <th>2</th>\n",
       "      <td>Experiences</td>\n",
       "      <td>95</td>\n",
       "      <td>14250</td>\n",
       "      <td>100</td>\n",
       "      <td>9500</td>\n",
       "    </tr>\n",
       "  </tbody>\n",
       "</table>\n",
       "</div>"
      ],
      "text/plain": [
       "    categories  units_sold  total_revenue  cost_per_unit  total_cost\n",
       "0        Goods         140           8400             35        4900\n",
       "1     Services         215           5375             10        2150\n",
       "2  Experiences          95          14250            100        9500"
      ]
     },
     "execution_count": 8,
     "metadata": {},
     "output_type": "execute_result"
    }
   ],
   "source": [
    "sales[\"total_cost\"] = sales[\"units_sold\"] * sales[\"cost_per_unit\"]\n",
    "sales"
   ]
  },
  {
   "cell_type": "markdown",
   "id": "0235ecfb-f535-44d4-8c56-2ad0886c1a4e",
   "metadata": {},
   "source": [
    "5. Add another column called `total_margin` where you show revenues net of costs. Then sort the dataset in descending order of `total_margin`. Which category generated the highest margins?"
   ]
  },
  {
   "cell_type": "code",
   "execution_count": 9,
   "id": "9a09839e-ca17-4efc-923c-741af22a3294",
   "metadata": {},
   "outputs": [
    {
     "data": {
      "text/html": [
       "<div>\n",
       "<style scoped>\n",
       "    .dataframe tbody tr th:only-of-type {\n",
       "        vertical-align: middle;\n",
       "    }\n",
       "\n",
       "    .dataframe tbody tr th {\n",
       "        vertical-align: top;\n",
       "    }\n",
       "\n",
       "    .dataframe thead th {\n",
       "        text-align: right;\n",
       "    }\n",
       "</style>\n",
       "<table border=\"1\" class=\"dataframe\">\n",
       "  <thead>\n",
       "    <tr style=\"text-align: right;\">\n",
       "      <th></th>\n",
       "      <th>categories</th>\n",
       "      <th>units_sold</th>\n",
       "      <th>total_revenue</th>\n",
       "      <th>cost_per_unit</th>\n",
       "      <th>total_cost</th>\n",
       "      <th>total_margin</th>\n",
       "    </tr>\n",
       "  </thead>\n",
       "  <tbody>\n",
       "    <tr>\n",
       "      <th>2</th>\n",
       "      <td>Experiences</td>\n",
       "      <td>95</td>\n",
       "      <td>14250</td>\n",
       "      <td>100</td>\n",
       "      <td>9500</td>\n",
       "      <td>4750</td>\n",
       "    </tr>\n",
       "    <tr>\n",
       "      <th>0</th>\n",
       "      <td>Goods</td>\n",
       "      <td>140</td>\n",
       "      <td>8400</td>\n",
       "      <td>35</td>\n",
       "      <td>4900</td>\n",
       "      <td>3500</td>\n",
       "    </tr>\n",
       "    <tr>\n",
       "      <th>1</th>\n",
       "      <td>Services</td>\n",
       "      <td>215</td>\n",
       "      <td>5375</td>\n",
       "      <td>10</td>\n",
       "      <td>2150</td>\n",
       "      <td>3225</td>\n",
       "    </tr>\n",
       "  </tbody>\n",
       "</table>\n",
       "</div>"
      ],
      "text/plain": [
       "    categories  units_sold  total_revenue  cost_per_unit  total_cost  \\\n",
       "2  Experiences          95          14250            100        9500   \n",
       "0        Goods         140           8400             35        4900   \n",
       "1     Services         215           5375             10        2150   \n",
       "\n",
       "   total_margin  \n",
       "2          4750  \n",
       "0          3500  \n",
       "1          3225  "
      ]
     },
     "execution_count": 9,
     "metadata": {},
     "output_type": "execute_result"
    }
   ],
   "source": [
    "sales[\"total_margin\"] = sales[\"total_revenue\"] - sales[\"total_cost\"]\n",
    "sales.sort_values(\"total_margin\", ascending=False)"
   ]
  },
  {
   "cell_type": "markdown",
   "id": "b6508fd5-f676-4b82-929e-fb956835e68a",
   "metadata": {},
   "source": [
    "6. Load the `tips.csv` dataset (read a description of this dataset [here](https://vincentarelbundock.github.io/Rdatasets/doc/reshape2/tips.html)) from the `data` folder, assign it to an object called `tips` and show it to the screen."
   ]
  },
  {
   "cell_type": "code",
   "execution_count": 10,
   "id": "27403e16-46b2-400b-a743-6a4a75b39e2b",
   "metadata": {},
   "outputs": [
    {
     "data": {
      "text/html": [
       "<div>\n",
       "<style scoped>\n",
       "    .dataframe tbody tr th:only-of-type {\n",
       "        vertical-align: middle;\n",
       "    }\n",
       "\n",
       "    .dataframe tbody tr th {\n",
       "        vertical-align: top;\n",
       "    }\n",
       "\n",
       "    .dataframe thead th {\n",
       "        text-align: right;\n",
       "    }\n",
       "</style>\n",
       "<table border=\"1\" class=\"dataframe\">\n",
       "  <thead>\n",
       "    <tr style=\"text-align: right;\">\n",
       "      <th></th>\n",
       "      <th>total_bill</th>\n",
       "      <th>tip</th>\n",
       "      <th>sex</th>\n",
       "      <th>smoker</th>\n",
       "      <th>day</th>\n",
       "      <th>time</th>\n",
       "      <th>size</th>\n",
       "    </tr>\n",
       "  </thead>\n",
       "  <tbody>\n",
       "    <tr>\n",
       "      <th>0</th>\n",
       "      <td>16.99</td>\n",
       "      <td>1.01</td>\n",
       "      <td>Female</td>\n",
       "      <td>No</td>\n",
       "      <td>Sun</td>\n",
       "      <td>Dinner</td>\n",
       "      <td>2</td>\n",
       "    </tr>\n",
       "    <tr>\n",
       "      <th>1</th>\n",
       "      <td>10.34</td>\n",
       "      <td>1.66</td>\n",
       "      <td>Male</td>\n",
       "      <td>No</td>\n",
       "      <td>Sun</td>\n",
       "      <td>Dinner</td>\n",
       "      <td>3</td>\n",
       "    </tr>\n",
       "    <tr>\n",
       "      <th>2</th>\n",
       "      <td>21.01</td>\n",
       "      <td>3.50</td>\n",
       "      <td>Male</td>\n",
       "      <td>No</td>\n",
       "      <td>Sun</td>\n",
       "      <td>Dinner</td>\n",
       "      <td>3</td>\n",
       "    </tr>\n",
       "    <tr>\n",
       "      <th>3</th>\n",
       "      <td>23.68</td>\n",
       "      <td>3.31</td>\n",
       "      <td>Male</td>\n",
       "      <td>No</td>\n",
       "      <td>Sun</td>\n",
       "      <td>Dinner</td>\n",
       "      <td>2</td>\n",
       "    </tr>\n",
       "    <tr>\n",
       "      <th>4</th>\n",
       "      <td>24.59</td>\n",
       "      <td>3.61</td>\n",
       "      <td>Female</td>\n",
       "      <td>No</td>\n",
       "      <td>Sun</td>\n",
       "      <td>Dinner</td>\n",
       "      <td>4</td>\n",
       "    </tr>\n",
       "    <tr>\n",
       "      <th>...</th>\n",
       "      <td>...</td>\n",
       "      <td>...</td>\n",
       "      <td>...</td>\n",
       "      <td>...</td>\n",
       "      <td>...</td>\n",
       "      <td>...</td>\n",
       "      <td>...</td>\n",
       "    </tr>\n",
       "    <tr>\n",
       "      <th>239</th>\n",
       "      <td>29.03</td>\n",
       "      <td>5.92</td>\n",
       "      <td>Male</td>\n",
       "      <td>No</td>\n",
       "      <td>Sat</td>\n",
       "      <td>Dinner</td>\n",
       "      <td>3</td>\n",
       "    </tr>\n",
       "    <tr>\n",
       "      <th>240</th>\n",
       "      <td>27.18</td>\n",
       "      <td>2.00</td>\n",
       "      <td>Female</td>\n",
       "      <td>Yes</td>\n",
       "      <td>Sat</td>\n",
       "      <td>Dinner</td>\n",
       "      <td>2</td>\n",
       "    </tr>\n",
       "    <tr>\n",
       "      <th>241</th>\n",
       "      <td>22.67</td>\n",
       "      <td>2.00</td>\n",
       "      <td>Male</td>\n",
       "      <td>Yes</td>\n",
       "      <td>Sat</td>\n",
       "      <td>Dinner</td>\n",
       "      <td>2</td>\n",
       "    </tr>\n",
       "    <tr>\n",
       "      <th>242</th>\n",
       "      <td>17.82</td>\n",
       "      <td>1.75</td>\n",
       "      <td>Male</td>\n",
       "      <td>No</td>\n",
       "      <td>Sat</td>\n",
       "      <td>Dinner</td>\n",
       "      <td>2</td>\n",
       "    </tr>\n",
       "    <tr>\n",
       "      <th>243</th>\n",
       "      <td>18.78</td>\n",
       "      <td>3.00</td>\n",
       "      <td>Female</td>\n",
       "      <td>No</td>\n",
       "      <td>Thur</td>\n",
       "      <td>Dinner</td>\n",
       "      <td>2</td>\n",
       "    </tr>\n",
       "  </tbody>\n",
       "</table>\n",
       "<p>244 rows × 7 columns</p>\n",
       "</div>"
      ],
      "text/plain": [
       "     total_bill   tip     sex smoker   day    time  size\n",
       "0         16.99  1.01  Female     No   Sun  Dinner     2\n",
       "1         10.34  1.66    Male     No   Sun  Dinner     3\n",
       "2         21.01  3.50    Male     No   Sun  Dinner     3\n",
       "3         23.68  3.31    Male     No   Sun  Dinner     2\n",
       "4         24.59  3.61  Female     No   Sun  Dinner     4\n",
       "..          ...   ...     ...    ...   ...     ...   ...\n",
       "239       29.03  5.92    Male     No   Sat  Dinner     3\n",
       "240       27.18  2.00  Female    Yes   Sat  Dinner     2\n",
       "241       22.67  2.00    Male    Yes   Sat  Dinner     2\n",
       "242       17.82  1.75    Male     No   Sat  Dinner     2\n",
       "243       18.78  3.00  Female     No  Thur  Dinner     2\n",
       "\n",
       "[244 rows x 7 columns]"
      ]
     },
     "execution_count": 10,
     "metadata": {},
     "output_type": "execute_result"
    }
   ],
   "source": [
    "tips = pd.read_csv(\"data/tips.csv\")\n",
    "tips"
   ]
  },
  {
   "cell_type": "markdown",
   "id": "aee746cd-b3eb-4ee0-bce0-cf9d0c107fa2",
   "metadata": {},
   "source": [
    "7. How many observations there are for each category of the `sex` column?  "
   ]
  },
  {
   "cell_type": "code",
   "execution_count": 11,
   "id": "02c5d228-b6d8-4bd2-bc3d-31f411256f62",
   "metadata": {},
   "outputs": [
    {
     "data": {
      "text/plain": [
       "Male      157\n",
       "Female     87\n",
       "Name: sex, dtype: int64"
      ]
     },
     "execution_count": 11,
     "metadata": {},
     "output_type": "execute_result"
    }
   ],
   "source": [
    "tips[\"sex\"].value_counts()"
   ]
  },
  {
   "cell_type": "markdown",
   "id": "0b65a605-5205-4ab3-8219-f7ee80c0fe38",
   "metadata": {},
   "source": [
    "8. Calculate the average tip amount for males and females. Who tips the most?"
   ]
  },
  {
   "cell_type": "code",
   "execution_count": 12,
   "id": "e8b11468-9241-4fb2-a4d4-76a4d66705b2",
   "metadata": {},
   "outputs": [
    {
     "data": {
      "text/plain": [
       "3.0896178343949052"
      ]
     },
     "execution_count": 12,
     "metadata": {},
     "output_type": "execute_result"
    }
   ],
   "source": [
    "# male tips\n",
    "tips[tips[\"sex\"]==\"Male\"][\"tip\"].mean()"
   ]
  },
  {
   "cell_type": "code",
   "execution_count": 13,
   "id": "ffda8e7b-9ec7-489d-885d-ba15b40a55a0",
   "metadata": {},
   "outputs": [
    {
     "data": {
      "text/plain": [
       "2.833448275862069"
      ]
     },
     "execution_count": 13,
     "metadata": {},
     "output_type": "execute_result"
    }
   ],
   "source": [
    "# female tips\n",
    "tips[tips[\"sex\"]==\"Female\"][\"tip\"].mean()"
   ]
  },
  {
   "cell_type": "markdown",
   "id": "98836b44-2ef5-4d38-b740-c7c07aeb8cb8",
   "metadata": {},
   "source": [
    "9. The amount of a tip will change depending on the total amount spent for the meal, so we should look at relative values, not absolute. Create a new variable `tip_pct` that calculates the percentage of the tip relative to the total bill amount."
   ]
  },
  {
   "cell_type": "code",
   "execution_count": 14,
   "id": "ffa84006-fd4e-41c2-acb6-3682863dba8a",
   "metadata": {},
   "outputs": [
    {
     "data": {
      "text/html": [
       "<div>\n",
       "<style scoped>\n",
       "    .dataframe tbody tr th:only-of-type {\n",
       "        vertical-align: middle;\n",
       "    }\n",
       "\n",
       "    .dataframe tbody tr th {\n",
       "        vertical-align: top;\n",
       "    }\n",
       "\n",
       "    .dataframe thead th {\n",
       "        text-align: right;\n",
       "    }\n",
       "</style>\n",
       "<table border=\"1\" class=\"dataframe\">\n",
       "  <thead>\n",
       "    <tr style=\"text-align: right;\">\n",
       "      <th></th>\n",
       "      <th>total_bill</th>\n",
       "      <th>tip</th>\n",
       "      <th>sex</th>\n",
       "      <th>smoker</th>\n",
       "      <th>day</th>\n",
       "      <th>time</th>\n",
       "      <th>size</th>\n",
       "      <th>tip_pct</th>\n",
       "    </tr>\n",
       "  </thead>\n",
       "  <tbody>\n",
       "    <tr>\n",
       "      <th>0</th>\n",
       "      <td>16.99</td>\n",
       "      <td>1.01</td>\n",
       "      <td>Female</td>\n",
       "      <td>No</td>\n",
       "      <td>Sun</td>\n",
       "      <td>Dinner</td>\n",
       "      <td>2</td>\n",
       "      <td>5.944673</td>\n",
       "    </tr>\n",
       "    <tr>\n",
       "      <th>1</th>\n",
       "      <td>10.34</td>\n",
       "      <td>1.66</td>\n",
       "      <td>Male</td>\n",
       "      <td>No</td>\n",
       "      <td>Sun</td>\n",
       "      <td>Dinner</td>\n",
       "      <td>3</td>\n",
       "      <td>16.054159</td>\n",
       "    </tr>\n",
       "    <tr>\n",
       "      <th>2</th>\n",
       "      <td>21.01</td>\n",
       "      <td>3.50</td>\n",
       "      <td>Male</td>\n",
       "      <td>No</td>\n",
       "      <td>Sun</td>\n",
       "      <td>Dinner</td>\n",
       "      <td>3</td>\n",
       "      <td>16.658734</td>\n",
       "    </tr>\n",
       "    <tr>\n",
       "      <th>3</th>\n",
       "      <td>23.68</td>\n",
       "      <td>3.31</td>\n",
       "      <td>Male</td>\n",
       "      <td>No</td>\n",
       "      <td>Sun</td>\n",
       "      <td>Dinner</td>\n",
       "      <td>2</td>\n",
       "      <td>13.978041</td>\n",
       "    </tr>\n",
       "    <tr>\n",
       "      <th>4</th>\n",
       "      <td>24.59</td>\n",
       "      <td>3.61</td>\n",
       "      <td>Female</td>\n",
       "      <td>No</td>\n",
       "      <td>Sun</td>\n",
       "      <td>Dinner</td>\n",
       "      <td>4</td>\n",
       "      <td>14.680765</td>\n",
       "    </tr>\n",
       "    <tr>\n",
       "      <th>...</th>\n",
       "      <td>...</td>\n",
       "      <td>...</td>\n",
       "      <td>...</td>\n",
       "      <td>...</td>\n",
       "      <td>...</td>\n",
       "      <td>...</td>\n",
       "      <td>...</td>\n",
       "      <td>...</td>\n",
       "    </tr>\n",
       "    <tr>\n",
       "      <th>239</th>\n",
       "      <td>29.03</td>\n",
       "      <td>5.92</td>\n",
       "      <td>Male</td>\n",
       "      <td>No</td>\n",
       "      <td>Sat</td>\n",
       "      <td>Dinner</td>\n",
       "      <td>3</td>\n",
       "      <td>20.392697</td>\n",
       "    </tr>\n",
       "    <tr>\n",
       "      <th>240</th>\n",
       "      <td>27.18</td>\n",
       "      <td>2.00</td>\n",
       "      <td>Female</td>\n",
       "      <td>Yes</td>\n",
       "      <td>Sat</td>\n",
       "      <td>Dinner</td>\n",
       "      <td>2</td>\n",
       "      <td>7.358352</td>\n",
       "    </tr>\n",
       "    <tr>\n",
       "      <th>241</th>\n",
       "      <td>22.67</td>\n",
       "      <td>2.00</td>\n",
       "      <td>Male</td>\n",
       "      <td>Yes</td>\n",
       "      <td>Sat</td>\n",
       "      <td>Dinner</td>\n",
       "      <td>2</td>\n",
       "      <td>8.822232</td>\n",
       "    </tr>\n",
       "    <tr>\n",
       "      <th>242</th>\n",
       "      <td>17.82</td>\n",
       "      <td>1.75</td>\n",
       "      <td>Male</td>\n",
       "      <td>No</td>\n",
       "      <td>Sat</td>\n",
       "      <td>Dinner</td>\n",
       "      <td>2</td>\n",
       "      <td>9.820426</td>\n",
       "    </tr>\n",
       "    <tr>\n",
       "      <th>243</th>\n",
       "      <td>18.78</td>\n",
       "      <td>3.00</td>\n",
       "      <td>Female</td>\n",
       "      <td>No</td>\n",
       "      <td>Thur</td>\n",
       "      <td>Dinner</td>\n",
       "      <td>2</td>\n",
       "      <td>15.974441</td>\n",
       "    </tr>\n",
       "  </tbody>\n",
       "</table>\n",
       "<p>244 rows × 8 columns</p>\n",
       "</div>"
      ],
      "text/plain": [
       "     total_bill   tip     sex smoker   day    time  size    tip_pct\n",
       "0         16.99  1.01  Female     No   Sun  Dinner     2   5.944673\n",
       "1         10.34  1.66    Male     No   Sun  Dinner     3  16.054159\n",
       "2         21.01  3.50    Male     No   Sun  Dinner     3  16.658734\n",
       "3         23.68  3.31    Male     No   Sun  Dinner     2  13.978041\n",
       "4         24.59  3.61  Female     No   Sun  Dinner     4  14.680765\n",
       "..          ...   ...     ...    ...   ...     ...   ...        ...\n",
       "239       29.03  5.92    Male     No   Sat  Dinner     3  20.392697\n",
       "240       27.18  2.00  Female    Yes   Sat  Dinner     2   7.358352\n",
       "241       22.67  2.00    Male    Yes   Sat  Dinner     2   8.822232\n",
       "242       17.82  1.75    Male     No   Sat  Dinner     2   9.820426\n",
       "243       18.78  3.00  Female     No  Thur  Dinner     2  15.974441\n",
       "\n",
       "[244 rows x 8 columns]"
      ]
     },
     "execution_count": 14,
     "metadata": {},
     "output_type": "execute_result"
    }
   ],
   "source": [
    "tips[\"tip_pct\"] = tips[\"tip\"]/tips[\"total_bill\"]*100\n",
    "tips"
   ]
  },
  {
   "cell_type": "markdown",
   "id": "e5f34afd-70fd-4b99-b87a-62aee833db96",
   "metadata": {},
   "source": [
    "10. Calculate the average tip percentage for males and females. Who tips the most? Think about this inversion of outcome, what does it tell you?"
   ]
  },
  {
   "cell_type": "code",
   "execution_count": 15,
   "id": "f22a02c9-18a5-4b0b-a59e-77d8d09456f4",
   "metadata": {},
   "outputs": [
    {
     "data": {
      "text/plain": [
       "15.765054700429744"
      ]
     },
     "execution_count": 15,
     "metadata": {},
     "output_type": "execute_result"
    }
   ],
   "source": [
    "# male tips\n",
    "tips[tips[\"sex\"]==\"Male\"][\"tip_pct\"].mean()"
   ]
  },
  {
   "cell_type": "code",
   "execution_count": 16,
   "id": "86ba87c0-08f4-4d98-856d-1b3fa955be85",
   "metadata": {},
   "outputs": [
    {
     "data": {
      "text/plain": [
       "16.649073632892485"
      ]
     },
     "execution_count": 16,
     "metadata": {},
     "output_type": "execute_result"
    }
   ],
   "source": [
    "# female tips\n",
    "tips[tips[\"sex\"]==\"Female\"][\"tip_pct\"].mean()"
   ]
  },
  {
   "cell_type": "markdown",
   "id": "c4c54495-10ae-4692-a0f5-77afd82999df",
   "metadata": {},
   "source": [
    " "
   ]
  },
  {
   "cell_type": "markdown",
   "id": "7c0fc767-d736-4252-8464-0fc915cf23a0",
   "metadata": {},
   "source": [
    "If you want <font color='red'>**to exercise more**</font> on pandas Series and DataFrames, check out [these 101 exercises](https://www.machinelearningplus.com/python/101-pandas-exercises-python/) with (hidden) solutions *(note: the first exersises are on series, then they move to DataFrames and exersises on `.read_csv()` start from #38. Also, note that we haven't covered all of those topics yet, but if you want, you're encouraged to explore them.)*"
   ]
  },
  {
   "cell_type": "markdown",
   "id": "fb24e147-622d-40f4-863a-302c9d1a84a5",
   "metadata": {},
   "source": [
    " "
   ]
  },
  {
   "cell_type": "markdown",
   "id": "6d8308ee-cf86-482c-9912-cafd0acd3780",
   "metadata": {},
   "source": [
    "#### Advanced Exercises"
   ]
  },
  {
   "cell_type": "markdown",
   "id": "2e1532cd-c32d-4dc8-a5e5-b858b3c2147c",
   "metadata": {},
   "source": [
    "Let's reload the Google Analytics dataset that we saw in class and call it `ga` for brevity: "
   ]
  },
  {
   "cell_type": "code",
   "execution_count": 19,
   "id": "d6b4382b-55ab-4d9e-8721-a5e2302e4801",
   "metadata": {},
   "outputs": [
    {
     "data": {
      "text/html": [
       "<div>\n",
       "<style scoped>\n",
       "    .dataframe tbody tr th:only-of-type {\n",
       "        vertical-align: middle;\n",
       "    }\n",
       "\n",
       "    .dataframe tbody tr th {\n",
       "        vertical-align: top;\n",
       "    }\n",
       "\n",
       "    .dataframe thead th {\n",
       "        text-align: right;\n",
       "    }\n",
       "</style>\n",
       "<table border=\"1\" class=\"dataframe\">\n",
       "  <thead>\n",
       "    <tr style=\"text-align: right;\">\n",
       "      <th></th>\n",
       "      <th>Keyword</th>\n",
       "      <th>Users</th>\n",
       "      <th>New Users</th>\n",
       "      <th>Sessions</th>\n",
       "      <th>Bounce Rate</th>\n",
       "      <th>Pages/Session</th>\n",
       "      <th>Avg. Session Duration</th>\n",
       "      <th>E-commerce Conversion Rate</th>\n",
       "      <th>Transactions</th>\n",
       "      <th>Revenue</th>\n",
       "    </tr>\n",
       "  </thead>\n",
       "  <tbody>\n",
       "    <tr>\n",
       "      <th>0</th>\n",
       "      <td>Google Merchandise Store</td>\n",
       "      <td>1,051</td>\n",
       "      <td>753</td>\n",
       "      <td>1,455</td>\n",
       "      <td>27.29%</td>\n",
       "      <td>5.62</td>\n",
       "      <td>00:03:41</td>\n",
       "      <td>0.34%</td>\n",
       "      <td>5</td>\n",
       "      <td>US$256.96</td>\n",
       "    </tr>\n",
       "    <tr>\n",
       "      <th>1</th>\n",
       "      <td>google merch</td>\n",
       "      <td>103</td>\n",
       "      <td>82</td>\n",
       "      <td>145</td>\n",
       "      <td>28.28%</td>\n",
       "      <td>6.04</td>\n",
       "      <td>00:03:29</td>\n",
       "      <td>2.07%</td>\n",
       "      <td>3</td>\n",
       "      <td>US$86.09</td>\n",
       "    </tr>\n",
       "    <tr>\n",
       "      <th>2</th>\n",
       "      <td>google backpack</td>\n",
       "      <td>95</td>\n",
       "      <td>68</td>\n",
       "      <td>121</td>\n",
       "      <td>40.50%</td>\n",
       "      <td>4.20</td>\n",
       "      <td>00:02:27</td>\n",
       "      <td>0.00%</td>\n",
       "      <td>0</td>\n",
       "      <td>US$0.00</td>\n",
       "    </tr>\n",
       "    <tr>\n",
       "      <th>3</th>\n",
       "      <td>Google Merchandise</td>\n",
       "      <td>93</td>\n",
       "      <td>54</td>\n",
       "      <td>147</td>\n",
       "      <td>28.57%</td>\n",
       "      <td>5.37</td>\n",
       "      <td>00:03:23</td>\n",
       "      <td>0.68%</td>\n",
       "      <td>1</td>\n",
       "      <td>US$79.98</td>\n",
       "    </tr>\n",
       "    <tr>\n",
       "      <th>4</th>\n",
       "      <td>Google Apparel</td>\n",
       "      <td>92</td>\n",
       "      <td>76</td>\n",
       "      <td>127</td>\n",
       "      <td>37.80%</td>\n",
       "      <td>4.97</td>\n",
       "      <td>00:03:11</td>\n",
       "      <td>0.79%</td>\n",
       "      <td>1</td>\n",
       "      <td>US$76.37</td>\n",
       "    </tr>\n",
       "    <tr>\n",
       "      <th>5</th>\n",
       "      <td>youtuber merch</td>\n",
       "      <td>78</td>\n",
       "      <td>76</td>\n",
       "      <td>82</td>\n",
       "      <td>78.05%</td>\n",
       "      <td>1.41</td>\n",
       "      <td>00:00:06</td>\n",
       "      <td>0.00%</td>\n",
       "      <td>0</td>\n",
       "      <td>US$0.00</td>\n",
       "    </tr>\n",
       "    <tr>\n",
       "      <th>6</th>\n",
       "      <td>Google Swag</td>\n",
       "      <td>63</td>\n",
       "      <td>57</td>\n",
       "      <td>80</td>\n",
       "      <td>41.25%</td>\n",
       "      <td>5.10</td>\n",
       "      <td>00:04:14</td>\n",
       "      <td>0.00%</td>\n",
       "      <td>0</td>\n",
       "      <td>US$0.00</td>\n",
       "    </tr>\n",
       "    <tr>\n",
       "      <th>7</th>\n",
       "      <td>google merch store</td>\n",
       "      <td>54</td>\n",
       "      <td>38</td>\n",
       "      <td>69</td>\n",
       "      <td>28.99%</td>\n",
       "      <td>5.09</td>\n",
       "      <td>00:02:33</td>\n",
       "      <td>0.00%</td>\n",
       "      <td>0</td>\n",
       "      <td>US$0.00</td>\n",
       "    </tr>\n",
       "    <tr>\n",
       "      <th>8</th>\n",
       "      <td>Google Clothing</td>\n",
       "      <td>39</td>\n",
       "      <td>36</td>\n",
       "      <td>49</td>\n",
       "      <td>40.82%</td>\n",
       "      <td>3.98</td>\n",
       "      <td>00:02:43</td>\n",
       "      <td>0.00%</td>\n",
       "      <td>0</td>\n",
       "      <td>US$0.00</td>\n",
       "    </tr>\n",
       "  </tbody>\n",
       "</table>\n",
       "</div>"
      ],
      "text/plain": [
       "                    Keyword  Users  New Users Sessions Bounce Rate  \\\n",
       "0  Google Merchandise Store  1,051        753    1,455      27.29%   \n",
       "1              google merch    103         82      145      28.28%   \n",
       "2           google backpack     95         68      121      40.50%   \n",
       "3        Google Merchandise     93         54      147      28.57%   \n",
       "4            Google Apparel     92         76      127      37.80%   \n",
       "5            youtuber merch     78         76       82      78.05%   \n",
       "6               Google Swag     63         57       80      41.25%   \n",
       "7        google merch store     54         38       69      28.99%   \n",
       "8           Google Clothing     39         36       49      40.82%   \n",
       "\n",
       "   Pages/Session Avg. Session Duration E-commerce Conversion Rate  \\\n",
       "0           5.62              00:03:41                      0.34%   \n",
       "1           6.04              00:03:29                      2.07%   \n",
       "2           4.20              00:02:27                      0.00%   \n",
       "3           5.37              00:03:23                      0.68%   \n",
       "4           4.97              00:03:11                      0.79%   \n",
       "5           1.41              00:00:06                      0.00%   \n",
       "6           5.10              00:04:14                      0.00%   \n",
       "7           5.09              00:02:33                      0.00%   \n",
       "8           3.98              00:02:43                      0.00%   \n",
       "\n",
       "   Transactions    Revenue  \n",
       "0             5  US$256.96  \n",
       "1             3   US$86.09  \n",
       "2             0    US$0.00  \n",
       "3             1   US$79.98  \n",
       "4             1   US$76.37  \n",
       "5             0    US$0.00  \n",
       "6             0    US$0.00  \n",
       "7             0    US$0.00  \n",
       "8             0    US$0.00  "
      ]
     },
     "execution_count": 19,
     "metadata": {},
     "output_type": "execute_result"
    }
   ],
   "source": [
    "ga = pd.read_csv(\"data/GA Paid Search Traffic.csv\", skiprows=[0,1,2,3,4,5,8], nrows=9)\n",
    "ga"
   ]
  },
  {
   "cell_type": "markdown",
   "id": "48bccb3a-3744-4927-b5f3-34ba9b100280",
   "metadata": {},
   "source": [
    "In class we wrote the following statements to clean up the data:"
   ]
  },
  {
   "cell_type": "code",
   "execution_count": null,
   "id": "28f79eb4-44a5-48bb-9f61-b8c137eb98cf",
   "metadata": {},
   "outputs": [],
   "source": [
    "# DO NOT RUN\n",
    "\n",
    "# remove comma & convert to int\n",
    "ga_keywords[\"Users\"] = ga_keywords[\"Users\"].str.replace(',', '').astype('int64')\n",
    "ga_keywords[\"Sessions\"] = ga_keywords[\"Sessions\"].str.replace(',', '').astype('int64')\n",
    "# remove % & convert to float\n",
    "ga_keywords[\"Bounce Rate\"] = ga_keywords[\"Bounce Rate\"].str.replace('%', '').astype('float64')\n",
    "ga_keywords[\"E-commerce Conversion Rate\"] = ga_keywords[\"E-commerce Conversion Rate\"].str.replace('%', '').astype('float64')\n",
    "# remuve US$ & convert to float\n",
    "ga_keywords[\"Revenue\"] = ga_keywords[\"Revenue\"].str.replace('US$', '', regex=False).astype('float64')"
   ]
  },
  {
   "cell_type": "markdown",
   "id": "876038ba-9e58-4055-b5e2-35ac5cf11ff6",
   "metadata": {},
   "source": [
    "1. Your task is to write three functions to solve each of the above cases, such that you can pass the `df[\"colname\"]` as an argument to the function and reassign the result to the original column. Here are three examples of how you would use each function to clean a column: \n",
    "    - `ga[\"Users\"] = clean_comma(ga[\"Users\"])`\n",
    "    - `ga[\"Bounce Rate\"] = clean_pct(ga[\"Bounce Rate\"])`\n",
    "    - `ga[\"Revenue\"] = clean_usd(ga[\"Revenue\"])`"
   ]
  },
  {
   "cell_type": "code",
   "execution_count": 20,
   "id": "9ab53efa-6814-4219-be21-25554915acad",
   "metadata": {},
   "outputs": [],
   "source": [
    "def clean_comma(col): \n",
    "    return col.str.replace(',', '', regex=False).astype('int64')"
   ]
  },
  {
   "cell_type": "code",
   "execution_count": 21,
   "id": "c50d01e3-a0c7-4ead-a157-2aa3c7c941e4",
   "metadata": {},
   "outputs": [],
   "source": [
    "ga[\"Users\"] = clean_comma(ga[\"Users\"])\n",
    "ga[\"Sessions\"] = clean_comma(ga[\"Sessions\"])"
   ]
  },
  {
   "cell_type": "code",
   "execution_count": 22,
   "id": "ea09a0e8-e9b1-459c-9db6-07a0f80a0796",
   "metadata": {},
   "outputs": [],
   "source": [
    "def clean_pct(col): \n",
    "    return col.str.replace('%', '', regex=False).astype('float64')"
   ]
  },
  {
   "cell_type": "code",
   "execution_count": 23,
   "id": "1fc2b723-1deb-4e02-85d3-ba4adb86924c",
   "metadata": {},
   "outputs": [],
   "source": [
    "ga[\"Bounce Rate\"] = clean_pct(ga[\"Bounce Rate\"])\n",
    "ga[\"E-commerce Conversion Rate\"] = clean_pct(ga[\"E-commerce Conversion Rate\"])"
   ]
  },
  {
   "cell_type": "code",
   "execution_count": 24,
   "id": "d725bd60-f6f2-4a82-9401-0ae55f6253e9",
   "metadata": {},
   "outputs": [],
   "source": [
    "def clean_usd(col): \n",
    "    return col.str.replace('US$', '', regex=False).astype('float64')"
   ]
  },
  {
   "cell_type": "code",
   "execution_count": 25,
   "id": "7f6e634f-9bb6-4d35-8b7b-77c55ab02c3d",
   "metadata": {},
   "outputs": [
    {
     "data": {
      "text/html": [
       "<div>\n",
       "<style scoped>\n",
       "    .dataframe tbody tr th:only-of-type {\n",
       "        vertical-align: middle;\n",
       "    }\n",
       "\n",
       "    .dataframe tbody tr th {\n",
       "        vertical-align: top;\n",
       "    }\n",
       "\n",
       "    .dataframe thead th {\n",
       "        text-align: right;\n",
       "    }\n",
       "</style>\n",
       "<table border=\"1\" class=\"dataframe\">\n",
       "  <thead>\n",
       "    <tr style=\"text-align: right;\">\n",
       "      <th></th>\n",
       "      <th>Keyword</th>\n",
       "      <th>Users</th>\n",
       "      <th>New Users</th>\n",
       "      <th>Sessions</th>\n",
       "      <th>Bounce Rate</th>\n",
       "      <th>Pages/Session</th>\n",
       "      <th>Avg. Session Duration</th>\n",
       "      <th>E-commerce Conversion Rate</th>\n",
       "      <th>Transactions</th>\n",
       "      <th>Revenue</th>\n",
       "    </tr>\n",
       "  </thead>\n",
       "  <tbody>\n",
       "    <tr>\n",
       "      <th>0</th>\n",
       "      <td>Google Merchandise Store</td>\n",
       "      <td>1051</td>\n",
       "      <td>753</td>\n",
       "      <td>1455</td>\n",
       "      <td>27.29</td>\n",
       "      <td>5.62</td>\n",
       "      <td>00:03:41</td>\n",
       "      <td>0.34</td>\n",
       "      <td>5</td>\n",
       "      <td>256.96</td>\n",
       "    </tr>\n",
       "    <tr>\n",
       "      <th>1</th>\n",
       "      <td>google merch</td>\n",
       "      <td>103</td>\n",
       "      <td>82</td>\n",
       "      <td>145</td>\n",
       "      <td>28.28</td>\n",
       "      <td>6.04</td>\n",
       "      <td>00:03:29</td>\n",
       "      <td>2.07</td>\n",
       "      <td>3</td>\n",
       "      <td>86.09</td>\n",
       "    </tr>\n",
       "    <tr>\n",
       "      <th>2</th>\n",
       "      <td>google backpack</td>\n",
       "      <td>95</td>\n",
       "      <td>68</td>\n",
       "      <td>121</td>\n",
       "      <td>40.50</td>\n",
       "      <td>4.20</td>\n",
       "      <td>00:02:27</td>\n",
       "      <td>0.00</td>\n",
       "      <td>0</td>\n",
       "      <td>0.00</td>\n",
       "    </tr>\n",
       "    <tr>\n",
       "      <th>3</th>\n",
       "      <td>Google Merchandise</td>\n",
       "      <td>93</td>\n",
       "      <td>54</td>\n",
       "      <td>147</td>\n",
       "      <td>28.57</td>\n",
       "      <td>5.37</td>\n",
       "      <td>00:03:23</td>\n",
       "      <td>0.68</td>\n",
       "      <td>1</td>\n",
       "      <td>79.98</td>\n",
       "    </tr>\n",
       "    <tr>\n",
       "      <th>4</th>\n",
       "      <td>Google Apparel</td>\n",
       "      <td>92</td>\n",
       "      <td>76</td>\n",
       "      <td>127</td>\n",
       "      <td>37.80</td>\n",
       "      <td>4.97</td>\n",
       "      <td>00:03:11</td>\n",
       "      <td>0.79</td>\n",
       "      <td>1</td>\n",
       "      <td>76.37</td>\n",
       "    </tr>\n",
       "    <tr>\n",
       "      <th>5</th>\n",
       "      <td>youtuber merch</td>\n",
       "      <td>78</td>\n",
       "      <td>76</td>\n",
       "      <td>82</td>\n",
       "      <td>78.05</td>\n",
       "      <td>1.41</td>\n",
       "      <td>00:00:06</td>\n",
       "      <td>0.00</td>\n",
       "      <td>0</td>\n",
       "      <td>0.00</td>\n",
       "    </tr>\n",
       "    <tr>\n",
       "      <th>6</th>\n",
       "      <td>Google Swag</td>\n",
       "      <td>63</td>\n",
       "      <td>57</td>\n",
       "      <td>80</td>\n",
       "      <td>41.25</td>\n",
       "      <td>5.10</td>\n",
       "      <td>00:04:14</td>\n",
       "      <td>0.00</td>\n",
       "      <td>0</td>\n",
       "      <td>0.00</td>\n",
       "    </tr>\n",
       "    <tr>\n",
       "      <th>7</th>\n",
       "      <td>google merch store</td>\n",
       "      <td>54</td>\n",
       "      <td>38</td>\n",
       "      <td>69</td>\n",
       "      <td>28.99</td>\n",
       "      <td>5.09</td>\n",
       "      <td>00:02:33</td>\n",
       "      <td>0.00</td>\n",
       "      <td>0</td>\n",
       "      <td>0.00</td>\n",
       "    </tr>\n",
       "    <tr>\n",
       "      <th>8</th>\n",
       "      <td>Google Clothing</td>\n",
       "      <td>39</td>\n",
       "      <td>36</td>\n",
       "      <td>49</td>\n",
       "      <td>40.82</td>\n",
       "      <td>3.98</td>\n",
       "      <td>00:02:43</td>\n",
       "      <td>0.00</td>\n",
       "      <td>0</td>\n",
       "      <td>0.00</td>\n",
       "    </tr>\n",
       "  </tbody>\n",
       "</table>\n",
       "</div>"
      ],
      "text/plain": [
       "                    Keyword  Users  New Users  Sessions  Bounce Rate  \\\n",
       "0  Google Merchandise Store   1051        753      1455        27.29   \n",
       "1              google merch    103         82       145        28.28   \n",
       "2           google backpack     95         68       121        40.50   \n",
       "3        Google Merchandise     93         54       147        28.57   \n",
       "4            Google Apparel     92         76       127        37.80   \n",
       "5            youtuber merch     78         76        82        78.05   \n",
       "6               Google Swag     63         57        80        41.25   \n",
       "7        google merch store     54         38        69        28.99   \n",
       "8           Google Clothing     39         36        49        40.82   \n",
       "\n",
       "   Pages/Session Avg. Session Duration  E-commerce Conversion Rate  \\\n",
       "0           5.62              00:03:41                        0.34   \n",
       "1           6.04              00:03:29                        2.07   \n",
       "2           4.20              00:02:27                        0.00   \n",
       "3           5.37              00:03:23                        0.68   \n",
       "4           4.97              00:03:11                        0.79   \n",
       "5           1.41              00:00:06                        0.00   \n",
       "6           5.10              00:04:14                        0.00   \n",
       "7           5.09              00:02:33                        0.00   \n",
       "8           3.98              00:02:43                        0.00   \n",
       "\n",
       "   Transactions  Revenue  \n",
       "0             5   256.96  \n",
       "1             3    86.09  \n",
       "2             0     0.00  \n",
       "3             1    79.98  \n",
       "4             1    76.37  \n",
       "5             0     0.00  \n",
       "6             0     0.00  \n",
       "7             0     0.00  \n",
       "8             0     0.00  "
      ]
     },
     "execution_count": 25,
     "metadata": {},
     "output_type": "execute_result"
    }
   ],
   "source": [
    "ga[\"Revenue\"] = clean_usd(ga[\"Revenue\"])\n",
    "ga"
   ]
  },
  {
   "cell_type": "markdown",
   "id": "47af4f80-ee4c-4fc8-9f81-e76b727a314c",
   "metadata": {},
   "source": [
    "2. Write one function that can accomplish any of the three cases from the previous point by specifying extra parameters in the function call. Here are three examples of how you would use each function to clean a column: \n",
    "    - `ga[\"Users\"] = clean_function(ga[\"Users\"], ',', 'int64')`\n",
    "    - `ga[\"Bounce Rate\"] = clean_function(ga[\"Bounce Rate\"], '%', 'float64')`\n",
    "    - `ga[\"Revenue\"] = clean_function(ga[\"Revenue\"], 'US$', 'float64')`"
   ]
  },
  {
   "cell_type": "code",
   "execution_count": 40,
   "id": "64eba6ac-5add-479b-8333-607c1dcc7f36",
   "metadata": {},
   "outputs": [],
   "source": [
    "def clean_function(col, find, dtype): \n",
    "    return col.str.replace(find, '', regex=False).astype(dtype)"
   ]
  },
  {
   "cell_type": "code",
   "execution_count": 41,
   "id": "01263d69-e0c0-498e-a5be-2557cf1c7835",
   "metadata": {},
   "outputs": [
    {
     "data": {
      "text/html": [
       "<div>\n",
       "<style scoped>\n",
       "    .dataframe tbody tr th:only-of-type {\n",
       "        vertical-align: middle;\n",
       "    }\n",
       "\n",
       "    .dataframe tbody tr th {\n",
       "        vertical-align: top;\n",
       "    }\n",
       "\n",
       "    .dataframe thead th {\n",
       "        text-align: right;\n",
       "    }\n",
       "</style>\n",
       "<table border=\"1\" class=\"dataframe\">\n",
       "  <thead>\n",
       "    <tr style=\"text-align: right;\">\n",
       "      <th></th>\n",
       "      <th>Keyword</th>\n",
       "      <th>Users</th>\n",
       "      <th>New Users</th>\n",
       "      <th>Sessions</th>\n",
       "      <th>Bounce Rate</th>\n",
       "      <th>Pages/Session</th>\n",
       "      <th>Avg. Session Duration</th>\n",
       "      <th>E-commerce Conversion Rate</th>\n",
       "      <th>Transactions</th>\n",
       "      <th>Revenue</th>\n",
       "    </tr>\n",
       "  </thead>\n",
       "  <tbody>\n",
       "    <tr>\n",
       "      <th>0</th>\n",
       "      <td>Google Merchandise Store</td>\n",
       "      <td>1051</td>\n",
       "      <td>753</td>\n",
       "      <td>1455</td>\n",
       "      <td>27.29</td>\n",
       "      <td>5.62</td>\n",
       "      <td>00:03:41</td>\n",
       "      <td>0.34</td>\n",
       "      <td>5</td>\n",
       "      <td>256.96</td>\n",
       "    </tr>\n",
       "    <tr>\n",
       "      <th>1</th>\n",
       "      <td>google merch</td>\n",
       "      <td>103</td>\n",
       "      <td>82</td>\n",
       "      <td>145</td>\n",
       "      <td>28.28</td>\n",
       "      <td>6.04</td>\n",
       "      <td>00:03:29</td>\n",
       "      <td>2.07</td>\n",
       "      <td>3</td>\n",
       "      <td>86.09</td>\n",
       "    </tr>\n",
       "    <tr>\n",
       "      <th>2</th>\n",
       "      <td>google backpack</td>\n",
       "      <td>95</td>\n",
       "      <td>68</td>\n",
       "      <td>121</td>\n",
       "      <td>40.50</td>\n",
       "      <td>4.20</td>\n",
       "      <td>00:02:27</td>\n",
       "      <td>0.00</td>\n",
       "      <td>0</td>\n",
       "      <td>0.00</td>\n",
       "    </tr>\n",
       "    <tr>\n",
       "      <th>3</th>\n",
       "      <td>Google Merchandise</td>\n",
       "      <td>93</td>\n",
       "      <td>54</td>\n",
       "      <td>147</td>\n",
       "      <td>28.57</td>\n",
       "      <td>5.37</td>\n",
       "      <td>00:03:23</td>\n",
       "      <td>0.68</td>\n",
       "      <td>1</td>\n",
       "      <td>79.98</td>\n",
       "    </tr>\n",
       "    <tr>\n",
       "      <th>4</th>\n",
       "      <td>Google Apparel</td>\n",
       "      <td>92</td>\n",
       "      <td>76</td>\n",
       "      <td>127</td>\n",
       "      <td>37.80</td>\n",
       "      <td>4.97</td>\n",
       "      <td>00:03:11</td>\n",
       "      <td>0.79</td>\n",
       "      <td>1</td>\n",
       "      <td>76.37</td>\n",
       "    </tr>\n",
       "    <tr>\n",
       "      <th>5</th>\n",
       "      <td>youtuber merch</td>\n",
       "      <td>78</td>\n",
       "      <td>76</td>\n",
       "      <td>82</td>\n",
       "      <td>78.05</td>\n",
       "      <td>1.41</td>\n",
       "      <td>00:00:06</td>\n",
       "      <td>0.00</td>\n",
       "      <td>0</td>\n",
       "      <td>0.00</td>\n",
       "    </tr>\n",
       "    <tr>\n",
       "      <th>6</th>\n",
       "      <td>Google Swag</td>\n",
       "      <td>63</td>\n",
       "      <td>57</td>\n",
       "      <td>80</td>\n",
       "      <td>41.25</td>\n",
       "      <td>5.10</td>\n",
       "      <td>00:04:14</td>\n",
       "      <td>0.00</td>\n",
       "      <td>0</td>\n",
       "      <td>0.00</td>\n",
       "    </tr>\n",
       "    <tr>\n",
       "      <th>7</th>\n",
       "      <td>google merch store</td>\n",
       "      <td>54</td>\n",
       "      <td>38</td>\n",
       "      <td>69</td>\n",
       "      <td>28.99</td>\n",
       "      <td>5.09</td>\n",
       "      <td>00:02:33</td>\n",
       "      <td>0.00</td>\n",
       "      <td>0</td>\n",
       "      <td>0.00</td>\n",
       "    </tr>\n",
       "    <tr>\n",
       "      <th>8</th>\n",
       "      <td>Google Clothing</td>\n",
       "      <td>39</td>\n",
       "      <td>36</td>\n",
       "      <td>49</td>\n",
       "      <td>40.82</td>\n",
       "      <td>3.98</td>\n",
       "      <td>00:02:43</td>\n",
       "      <td>0.00</td>\n",
       "      <td>0</td>\n",
       "      <td>0.00</td>\n",
       "    </tr>\n",
       "    <tr>\n",
       "      <th>9</th>\n",
       "      <td>NaN</td>\n",
       "      <td>2539</td>\n",
       "      <td>1,853</td>\n",
       "      <td>3457</td>\n",
       "      <td>32.51</td>\n",
       "      <td>5.21</td>\n",
       "      <td>00:03:17</td>\n",
       "      <td>0.40</td>\n",
       "      <td>14</td>\n",
       "      <td>607.60</td>\n",
       "    </tr>\n",
       "  </tbody>\n",
       "</table>\n",
       "</div>"
      ],
      "text/plain": [
       "                    Keyword  Users New Users  Sessions  Bounce Rate  \\\n",
       "0  Google Merchandise Store   1051       753      1455        27.29   \n",
       "1              google merch    103        82       145        28.28   \n",
       "2           google backpack     95        68       121        40.50   \n",
       "3        Google Merchandise     93        54       147        28.57   \n",
       "4            Google Apparel     92        76       127        37.80   \n",
       "5            youtuber merch     78        76        82        78.05   \n",
       "6               Google Swag     63        57        80        41.25   \n",
       "7        google merch store     54        38        69        28.99   \n",
       "8           Google Clothing     39        36        49        40.82   \n",
       "9                       NaN   2539     1,853      3457        32.51   \n",
       "\n",
       "   Pages/Session Avg. Session Duration  E-commerce Conversion Rate  \\\n",
       "0           5.62              00:03:41                        0.34   \n",
       "1           6.04              00:03:29                        2.07   \n",
       "2           4.20              00:02:27                        0.00   \n",
       "3           5.37              00:03:23                        0.68   \n",
       "4           4.97              00:03:11                        0.79   \n",
       "5           1.41              00:00:06                        0.00   \n",
       "6           5.10              00:04:14                        0.00   \n",
       "7           5.09              00:02:33                        0.00   \n",
       "8           3.98              00:02:43                        0.00   \n",
       "9           5.21              00:03:17                        0.40   \n",
       "\n",
       "   Transactions  Revenue  \n",
       "0             5   256.96  \n",
       "1             3    86.09  \n",
       "2             0     0.00  \n",
       "3             1    79.98  \n",
       "4             1    76.37  \n",
       "5             0     0.00  \n",
       "6             0     0.00  \n",
       "7             0     0.00  \n",
       "8             0     0.00  \n",
       "9            14   607.60  "
      ]
     },
     "execution_count": 41,
     "metadata": {},
     "output_type": "execute_result"
    }
   ],
   "source": [
    "ga = pd.read_csv(\"data/GA Paid Search Traffic.csv\", skiprows=[0,1,2,3,4,5,8], nrows=10)\n",
    "ga\n",
    "\n",
    "ga[\"Users\"] = clean_function(ga[\"Users\"], ',', 'int64')\n",
    "ga[\"Sessions\"] = clean_function(ga[\"Sessions\"], ',', 'int64')\n",
    "ga[\"Bounce Rate\"] = clean_function(ga[\"Bounce Rate\"], '%', 'float64')\n",
    "ga[\"E-commerce Conversion Rate\"] = clean_function(ga[\"E-commerce Conversion Rate\"], '%', 'float64')\n",
    "ga[\"Revenue\"] = clean_function(ga[\"Revenue\"], 'US$', 'float64')\n",
    "ga"
   ]
  },
  {
   "cell_type": "code",
   "execution_count": null,
   "id": "d9504e7f-81f0-492c-9390-2630bbdd01d4",
   "metadata": {},
   "outputs": [],
   "source": []
  }
 ],
 "metadata": {
  "kernelspec": {
   "display_name": "Python 3 (ipykernel)",
   "language": "python",
   "name": "python3"
  },
  "language_info": {
   "codemirror_mode": {
    "name": "ipython",
    "version": 3
   },
   "file_extension": ".py",
   "mimetype": "text/x-python",
   "name": "python",
   "nbconvert_exporter": "python",
   "pygments_lexer": "ipython3",
   "version": "3.9.7"
  }
 },
 "nbformat": 4,
 "nbformat_minor": 5
}
