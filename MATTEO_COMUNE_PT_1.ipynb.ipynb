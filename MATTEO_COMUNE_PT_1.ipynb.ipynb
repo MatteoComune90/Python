{
 "cells": [
  {
   "cell_type": "markdown",
   "id": "2b04dd95-2ffb-4fa1-b4b2-091647abb161",
   "metadata": {},
   "source": [
    "# Final Assignment - Part 1"
   ]
  },
  {
   "cell_type": "markdown",
   "id": "5a968c9c-628b-42c6-b692-d88b2a1866f4",
   "metadata": {},
   "source": [
    "### Assignment Instructions"
   ]
  },
  {
   "cell_type": "markdown",
   "id": "8ba6a2d5-87be-4662-a940-6e9b347a5ae2",
   "metadata": {},
   "source": [
    "#### Part 1   |   Standard Difficulty Level\n",
    "\n",
    "In this first part, you will be working with a datasets containing information of over 20k Software Professionals with different variables like: \n",
    "\n",
    "- the `Rating` of the company given by the employee,\n",
    "- the `Company Name`, \n",
    "- the `Job Title` of the employee, \n",
    "- the employee `Salary` (in Indian Rupee ₹), \n",
    "- the number of `Salaries Reported`, \n",
    "- the `Location` of the company, \n",
    "- the `Employment Status` and\n",
    "- the category of the `Job Roles` \n",
    "\n",
    "The dataset name is `Software Professionals Salary.csv` and you will find it in the `data` folder of this repository. At [this link](https://www.kaggle.com/datasets/iamsouravbanerjee/software-professional-salaries-2022?search=salary) you can find the source of the data (Kaggle) as well as more information on its composition. "
   ]
  },
  {
   "cell_type": "markdown",
   "id": "cd468a65-2fe5-4427-86f5-33dd7d73dc4d",
   "metadata": {},
   "source": [
    " "
   ]
  },
  {
   "cell_type": "markdown",
   "id": "0d3ea74d-55a1-4236-bd04-9777f1af69de",
   "metadata": {},
   "source": [
    "**Setup:** Import the necessary libraries and load the .csv file to a DataFrame named `sps`. Check that all columns have the correct data type. "
   ]
  },
  {
   "cell_type": "code",
   "execution_count": 13,
   "id": "266e1c1c",
   "metadata": {},
   "outputs": [],
   "source": [
    "import numpy as np\n",
    "import pandas as pd\n",
    "\n",
    "%matplotlib inline\n",
    "import matplotlib\n",
    "import matplotlib.pyplot as plt\n",
    "import seaborn as sns\n",
    "sns.set_theme()\n",
    "import requests\n",
    "import re"
   ]
  },
  {
   "cell_type": "code",
   "execution_count": 14,
   "id": "f849e9e6",
   "metadata": {},
   "outputs": [
    {
     "data": {
      "text/html": [
       "<div>\n",
       "<style scoped>\n",
       "    .dataframe tbody tr th:only-of-type {\n",
       "        vertical-align: middle;\n",
       "    }\n",
       "\n",
       "    .dataframe tbody tr th {\n",
       "        vertical-align: top;\n",
       "    }\n",
       "\n",
       "    .dataframe thead th {\n",
       "        text-align: right;\n",
       "    }\n",
       "</style>\n",
       "<table border=\"1\" class=\"dataframe\">\n",
       "  <thead>\n",
       "    <tr style=\"text-align: right;\">\n",
       "      <th></th>\n",
       "      <th>Rating</th>\n",
       "      <th>Company Name</th>\n",
       "      <th>Job Title</th>\n",
       "      <th>Salary</th>\n",
       "      <th>Salaries Reported</th>\n",
       "      <th>Location</th>\n",
       "      <th>Employment Status</th>\n",
       "      <th>Job Roles</th>\n",
       "    </tr>\n",
       "  </thead>\n",
       "  <tbody>\n",
       "    <tr>\n",
       "      <th>22203</th>\n",
       "      <td>3.7</td>\n",
       "      <td>Cypress Semiconductor</td>\n",
       "      <td>Web Developer - Contractor</td>\n",
       "      <td>500000</td>\n",
       "      <td>1</td>\n",
       "      <td>Bangalore</td>\n",
       "      <td>Contractor</td>\n",
       "      <td>Web</td>\n",
       "    </tr>\n",
       "    <tr>\n",
       "      <th>21164</th>\n",
       "      <td>4.2</td>\n",
       "      <td>Perfios Software</td>\n",
       "      <td>Test Engineer</td>\n",
       "      <td>200000</td>\n",
       "      <td>1</td>\n",
       "      <td>Bangalore</td>\n",
       "      <td>Full Time</td>\n",
       "      <td>Testing</td>\n",
       "    </tr>\n",
       "    <tr>\n",
       "      <th>15289</th>\n",
       "      <td>3.8</td>\n",
       "      <td>no/one</td>\n",
       "      <td>Software Development Engineer (SDE)</td>\n",
       "      <td>1188000</td>\n",
       "      <td>1</td>\n",
       "      <td>Hyderabad</td>\n",
       "      <td>Full Time</td>\n",
       "      <td>SDE</td>\n",
       "    </tr>\n",
       "    <tr>\n",
       "      <th>16546</th>\n",
       "      <td>4.0</td>\n",
       "      <td>Zeta Suite</td>\n",
       "      <td>Software Development Engineer I</td>\n",
       "      <td>1400000</td>\n",
       "      <td>2</td>\n",
       "      <td>Mumbai</td>\n",
       "      <td>Full Time</td>\n",
       "      <td>SDE</td>\n",
       "    </tr>\n",
       "    <tr>\n",
       "      <th>15972</th>\n",
       "      <td>3.8</td>\n",
       "      <td>Capgemini</td>\n",
       "      <td>Software Development Engineer</td>\n",
       "      <td>300000</td>\n",
       "      <td>1</td>\n",
       "      <td>Kolkata</td>\n",
       "      <td>Full Time</td>\n",
       "      <td>SDE</td>\n",
       "    </tr>\n",
       "    <tr>\n",
       "      <th>20675</th>\n",
       "      <td>4.1</td>\n",
       "      <td>Progress</td>\n",
       "      <td>Software Test Engineer</td>\n",
       "      <td>700000</td>\n",
       "      <td>2</td>\n",
       "      <td>Hyderabad</td>\n",
       "      <td>Full Time</td>\n",
       "      <td>SDE</td>\n",
       "    </tr>\n",
       "    <tr>\n",
       "      <th>6112</th>\n",
       "      <td>3.7</td>\n",
       "      <td>HCL Technologies</td>\n",
       "      <td>Front End React Developer</td>\n",
       "      <td>1000000</td>\n",
       "      <td>1</td>\n",
       "      <td>Chennai</td>\n",
       "      <td>Full Time</td>\n",
       "      <td>Frontend</td>\n",
       "    </tr>\n",
       "    <tr>\n",
       "      <th>13098</th>\n",
       "      <td>3.8</td>\n",
       "      <td>Cognizant Technology Solutions</td>\n",
       "      <td>Software Development Engineer (SDE)</td>\n",
       "      <td>200000</td>\n",
       "      <td>11</td>\n",
       "      <td>Bangalore</td>\n",
       "      <td>Full Time</td>\n",
       "      <td>SDE</td>\n",
       "    </tr>\n",
       "    <tr>\n",
       "      <th>22587</th>\n",
       "      <td>3.7</td>\n",
       "      <td>Standard Chartered Global Business Services</td>\n",
       "      <td>Web Developer</td>\n",
       "      <td>600000</td>\n",
       "      <td>1</td>\n",
       "      <td>Bangalore</td>\n",
       "      <td>Full Time</td>\n",
       "      <td>Web</td>\n",
       "    </tr>\n",
       "    <tr>\n",
       "      <th>17185</th>\n",
       "      <td>4.4</td>\n",
       "      <td>Agami Technologies</td>\n",
       "      <td>Software Development Engineer</td>\n",
       "      <td>240000</td>\n",
       "      <td>2</td>\n",
       "      <td>New Delhi</td>\n",
       "      <td>Full Time</td>\n",
       "      <td>SDE</td>\n",
       "    </tr>\n",
       "  </tbody>\n",
       "</table>\n",
       "</div>"
      ],
      "text/plain": [
       "       Rating                                 Company Name  \\\n",
       "22203     3.7                        Cypress Semiconductor   \n",
       "21164     4.2                             Perfios Software   \n",
       "15289     3.8                                       no/one   \n",
       "16546     4.0                                   Zeta Suite   \n",
       "15972     3.8                                    Capgemini   \n",
       "20675     4.1                                     Progress   \n",
       "6112      3.7                             HCL Technologies   \n",
       "13098     3.8               Cognizant Technology Solutions   \n",
       "22587     3.7  Standard Chartered Global Business Services   \n",
       "17185     4.4                           Agami Technologies   \n",
       "\n",
       "                                 Job Title   Salary  Salaries Reported  \\\n",
       "22203           Web Developer - Contractor   500000                  1   \n",
       "21164                        Test Engineer   200000                  1   \n",
       "15289  Software Development Engineer (SDE)  1188000                  1   \n",
       "16546      Software Development Engineer I  1400000                  2   \n",
       "15972        Software Development Engineer   300000                  1   \n",
       "20675               Software Test Engineer   700000                  2   \n",
       "6112             Front End React Developer  1000000                  1   \n",
       "13098  Software Development Engineer (SDE)   200000                 11   \n",
       "22587                        Web Developer   600000                  1   \n",
       "17185        Software Development Engineer   240000                  2   \n",
       "\n",
       "        Location Employment Status Job Roles  \n",
       "22203  Bangalore        Contractor       Web  \n",
       "21164  Bangalore         Full Time   Testing  \n",
       "15289  Hyderabad         Full Time       SDE  \n",
       "16546     Mumbai         Full Time       SDE  \n",
       "15972    Kolkata         Full Time       SDE  \n",
       "20675  Hyderabad         Full Time       SDE  \n",
       "6112     Chennai         Full Time  Frontend  \n",
       "13098  Bangalore         Full Time       SDE  \n",
       "22587  Bangalore         Full Time       Web  \n",
       "17185  New Delhi         Full Time       SDE  "
      ]
     },
     "execution_count": 14,
     "metadata": {},
     "output_type": "execute_result"
    }
   ],
   "source": [
    "sps = pd.read_csv('data/Software Professionals Salary.csv')\n",
    "sps.sample(10)"
   ]
  },
  {
   "cell_type": "code",
   "execution_count": 15,
   "id": "40c3fbf2-54a3-440c-868f-d2509ca27aba",
   "metadata": {},
   "outputs": [
    {
     "name": "stdout",
     "output_type": "stream",
     "text": [
      "<class 'pandas.core.frame.DataFrame'>\n",
      "RangeIndex: 22770 entries, 0 to 22769\n",
      "Data columns (total 8 columns):\n",
      " #   Column             Non-Null Count  Dtype  \n",
      "---  ------             --------------  -----  \n",
      " 0   Rating             22770 non-null  float64\n",
      " 1   Company Name       22769 non-null  object \n",
      " 2   Job Title          22770 non-null  object \n",
      " 3   Salary             22770 non-null  int64  \n",
      " 4   Salaries Reported  22770 non-null  int64  \n",
      " 5   Location           22770 non-null  object \n",
      " 6   Employment Status  22770 non-null  object \n",
      " 7   Job Roles          22770 non-null  object \n",
      "dtypes: float64(1), int64(2), object(5)\n",
      "memory usage: 1.4+ MB\n"
     ]
    }
   ],
   "source": [
    "sps.info()"
   ]
  },
  {
   "cell_type": "markdown",
   "id": "d7e527a1-5129-4008-8db5-6b196be6a7cd",
   "metadata": {},
   "source": [
    "1. What is the shape (rows, cols) of the `sps` DataFrame? "
   ]
  },
  {
   "cell_type": "code",
   "execution_count": 16,
   "id": "fd0690a5-11a2-44eb-b501-b92914e30832",
   "metadata": {},
   "outputs": [
    {
     "data": {
      "text/plain": [
       "(22770, 8)"
      ]
     },
     "execution_count": 16,
     "metadata": {},
     "output_type": "execute_result"
    }
   ],
   "source": [
    "sps.shape"
   ]
  },
  {
   "cell_type": "code",
   "execution_count": 17,
   "id": "543b369a",
   "metadata": {},
   "outputs": [],
   "source": [
    "# the shape of sps DataFrame is: (22770, 8)"
   ]
  },
  {
   "cell_type": "markdown",
   "id": "a80bd554-b444-4335-9841-1c46374abf60",
   "metadata": {},
   "source": [
    "2. How many unique `Job Roles` are there in the dataset? "
   ]
  },
  {
   "cell_type": "code",
   "execution_count": 18,
   "id": "c4f563b6-dfea-4fc7-8e1a-b33fdcec2454",
   "metadata": {},
   "outputs": [
    {
     "data": {
      "text/plain": [
       "array(['Android', 'Backend', 'Database', 'Frontend', 'IOS', 'Java',\n",
       "       'Mobile', 'SDE', 'Python', 'Web', 'Testing'], dtype=object)"
      ]
     },
     "execution_count": 18,
     "metadata": {},
     "output_type": "execute_result"
    }
   ],
   "source": [
    "sps['Job Roles'].unique()"
   ]
  },
  {
   "cell_type": "code",
   "execution_count": 19,
   "id": "616407d2",
   "metadata": {},
   "outputs": [],
   "source": [
    "# there are 11 unique Job Roles"
   ]
  },
  {
   "cell_type": "markdown",
   "id": "3e37f0cb-a461-455c-8c86-3442d453e998",
   "metadata": {},
   "source": [
    "3. How many unique `Job Title` are there for the \"Python\" `Job Role`? "
   ]
  },
  {
   "cell_type": "code",
   "execution_count": 20,
   "id": "ed680cc3",
   "metadata": {},
   "outputs": [
    {
     "data": {
      "text/plain": [
       "Job Title\n",
       "Python Developer                       485\n",
       "Python/Django Developer                 53\n",
       "Junior Python Developer                 48\n",
       "Systems Developer/Python Developer      45\n",
       "Senior Python Developer                 40\n",
       "                                      ... \n",
       "Python Freelance Trainer                 1\n",
       "Python Testing and Debugging             1\n",
       "Python and Machine Learning Analyst      1\n",
       "Embedded Python Engineer                 1\n",
       "Ethical Hacking and Python               1\n",
       "Name: count, Length: 102, dtype: int64"
      ]
     },
     "execution_count": 20,
     "metadata": {},
     "output_type": "execute_result"
    }
   ],
   "source": [
    "sps[sps['Job Roles']=='Python']['Job Title'].value_counts()"
   ]
  },
  {
   "cell_type": "code",
   "execution_count": 21,
   "id": "789868a1",
   "metadata": {},
   "outputs": [
    {
     "data": {
      "text/plain": [
       "Job Title\n",
       "Python Developer                       485\n",
       "Python/Django Developer                 53\n",
       "Junior Python Developer                 48\n",
       "Systems Developer/Python Developer      45\n",
       "Senior Python Developer                 40\n",
       "                                      ... \n",
       "Python Freelance Trainer                 1\n",
       "Python Testing and Debugging             1\n",
       "Python and Machine Learning Analyst      1\n",
       "Embedded Python Engineer                 1\n",
       "Ethical Hacking and Python               1\n",
       "Name: count, Length: 102, dtype: int64"
      ]
     },
     "execution_count": 21,
     "metadata": {},
     "output_type": "execute_result"
    }
   ],
   "source": [
    "sps.loc[sps['Job Roles']=='Python']['Job Title'].value_counts()"
   ]
  },
  {
   "cell_type": "code",
   "execution_count": 22,
   "id": "0a8dd4fb",
   "metadata": {},
   "outputs": [],
   "source": [
    "# there are 102 unique Job Title with the word \"Python\" in it"
   ]
  },
  {
   "cell_type": "markdown",
   "id": "a17fcd33-da70-4d95-b6ef-db5a5691924f",
   "metadata": {},
   "source": [
    "4. Of the `Company Name`s that are listed in the DataFrame, **how many** have a \"Python\" `Job Role` with a `Job Title` containing the **substring** \"Analyst\"?"
   ]
  },
  {
   "cell_type": "code",
   "execution_count": 23,
   "id": "4334e5ca",
   "metadata": {},
   "outputs": [
    {
     "data": {
      "text/html": [
       "<div>\n",
       "<style scoped>\n",
       "    .dataframe tbody tr th:only-of-type {\n",
       "        vertical-align: middle;\n",
       "    }\n",
       "\n",
       "    .dataframe tbody tr th {\n",
       "        vertical-align: top;\n",
       "    }\n",
       "\n",
       "    .dataframe thead th {\n",
       "        text-align: right;\n",
       "    }\n",
       "</style>\n",
       "<table border=\"1\" class=\"dataframe\">\n",
       "  <thead>\n",
       "    <tr style=\"text-align: right;\">\n",
       "      <th></th>\n",
       "      <th>Rating</th>\n",
       "      <th>Company Name</th>\n",
       "      <th>Job Title</th>\n",
       "      <th>Salary</th>\n",
       "      <th>Salaries Reported</th>\n",
       "      <th>Location</th>\n",
       "      <th>Employment Status</th>\n",
       "      <th>Job Roles</th>\n",
       "    </tr>\n",
       "  </thead>\n",
       "  <tbody>\n",
       "    <tr>\n",
       "      <th>11604</th>\n",
       "      <td>3.6</td>\n",
       "      <td>Quess</td>\n",
       "      <td>Python Developer Contractor</td>\n",
       "      <td>240000</td>\n",
       "      <td>1</td>\n",
       "      <td>Hyderabad</td>\n",
       "      <td>Contractor</td>\n",
       "      <td>Python</td>\n",
       "    </tr>\n",
       "    <tr>\n",
       "      <th>11599</th>\n",
       "      <td>4.0</td>\n",
       "      <td>Freshers.com</td>\n",
       "      <td>Python Developer</td>\n",
       "      <td>348000</td>\n",
       "      <td>1</td>\n",
       "      <td>Hyderabad</td>\n",
       "      <td>Full Time</td>\n",
       "      <td>Python</td>\n",
       "    </tr>\n",
       "    <tr>\n",
       "      <th>11575</th>\n",
       "      <td>3.9</td>\n",
       "      <td>Idoow</td>\n",
       "      <td>Python Developer</td>\n",
       "      <td>288000</td>\n",
       "      <td>2</td>\n",
       "      <td>Hyderabad</td>\n",
       "      <td>Full Time</td>\n",
       "      <td>Python</td>\n",
       "    </tr>\n",
       "    <tr>\n",
       "      <th>11285</th>\n",
       "      <td>3.8</td>\n",
       "      <td>Technicolor</td>\n",
       "      <td>Python Programmer</td>\n",
       "      <td>700000</td>\n",
       "      <td>1</td>\n",
       "      <td>Bangalore</td>\n",
       "      <td>Full Time</td>\n",
       "      <td>Python</td>\n",
       "    </tr>\n",
       "    <tr>\n",
       "      <th>11437</th>\n",
       "      <td>3.8</td>\n",
       "      <td>Tenth Planet</td>\n",
       "      <td>Python Developer</td>\n",
       "      <td>200000</td>\n",
       "      <td>1</td>\n",
       "      <td>Chennai</td>\n",
       "      <td>Full Time</td>\n",
       "      <td>Python</td>\n",
       "    </tr>\n",
       "  </tbody>\n",
       "</table>\n",
       "</div>"
      ],
      "text/plain": [
       "       Rating  Company Name                    Job Title  Salary  \\\n",
       "11604     3.6         Quess  Python Developer Contractor  240000   \n",
       "11599     4.0  Freshers.com             Python Developer  348000   \n",
       "11575     3.9         Idoow             Python Developer  288000   \n",
       "11285     3.8   Technicolor            Python Programmer  700000   \n",
       "11437     3.8  Tenth Planet             Python Developer  200000   \n",
       "\n",
       "       Salaries Reported   Location Employment Status Job Roles  \n",
       "11604                  1  Hyderabad        Contractor    Python  \n",
       "11599                  1  Hyderabad         Full Time    Python  \n",
       "11575                  2  Hyderabad         Full Time    Python  \n",
       "11285                  1  Bangalore         Full Time    Python  \n",
       "11437                  1    Chennai         Full Time    Python  "
      ]
     },
     "execution_count": 23,
     "metadata": {},
     "output_type": "execute_result"
    }
   ],
   "source": [
    "jr_python = sps[sps['Job Roles']=='Python']\n",
    "jr_python.sample(5)"
   ]
  },
  {
   "cell_type": "code",
   "execution_count": 24,
   "id": "5d5784d2",
   "metadata": {},
   "outputs": [
    {
     "name": "stdout",
     "output_type": "stream",
     "text": [
      "Company Name    Ocwen Financial\n",
      "Job Title        Python Analyst\n",
      "Name: 11352, dtype: object\n",
      "Company Name                    TrioHats Consulting\n",
      "Job Title       Python and Machine Learning Analyst\n",
      "Name: 11371, dtype: object\n",
      "Company Name                                  Infosys\n",
      "Job Title       Technology Analyst - Python Developer\n",
      "Name: 11541, dtype: object\n"
     ]
    }
   ],
   "source": [
    "# iterrow rende il dataframe iterabile\n",
    "for i, row in jr_python.iterrows():\n",
    "    if 'Analyst' in (row['Job Title']):\n",
    "        print(row[['Company Name', 'Job Title']])"
   ]
  },
  {
   "cell_type": "code",
   "execution_count": 25,
   "id": "9490659d",
   "metadata": {},
   "outputs": [
    {
     "name": "stdout",
     "output_type": "stream",
     "text": [
      "Python Analyst Ocwen Financial\n",
      "Python and Machine Learning Analyst TrioHats Consulting\n",
      "Technology Analyst - Python Developer Infosys\n"
     ]
    }
   ],
   "source": [
    "for i, row in jr_python.iterrows():\n",
    "    if 'Analyst' in (row['Job Title']):\n",
    "        print(row['Job Title'],row['Company Name'])"
   ]
  },
  {
   "cell_type": "code",
   "execution_count": 26,
   "id": "d7773e79",
   "metadata": {},
   "outputs": [],
   "source": [
    "# there are 3 companies with Python Job Role and Analyst in the Title:\n",
    "#Python Analyst Ocwen Financial\n",
    "# Python and Machine Learning Analyst TrioHats Consulting\n",
    "# Technology Analyst - Python Developer Infosys"
   ]
  },
  {
   "cell_type": "markdown",
   "id": "f2110f33-71b5-4537-9aee-514f96c06a23",
   "metadata": {},
   "source": [
    "5. Which `Company Name` has the highest number of `Salaries Reported` (across all `Job Title`s)?"
   ]
  },
  {
   "cell_type": "code",
   "execution_count": 27,
   "id": "8ae43d7f",
   "metadata": {},
   "outputs": [
    {
     "data": {
      "text/html": [
       "<div>\n",
       "<style scoped>\n",
       "    .dataframe tbody tr th:only-of-type {\n",
       "        vertical-align: middle;\n",
       "    }\n",
       "\n",
       "    .dataframe tbody tr th {\n",
       "        vertical-align: top;\n",
       "    }\n",
       "\n",
       "    .dataframe thead th {\n",
       "        text-align: right;\n",
       "    }\n",
       "</style>\n",
       "<table border=\"1\" class=\"dataframe\">\n",
       "  <thead>\n",
       "    <tr style=\"text-align: right;\">\n",
       "      <th></th>\n",
       "      <th>Company Name</th>\n",
       "      <th>Salaries Reported</th>\n",
       "    </tr>\n",
       "  </thead>\n",
       "  <tbody>\n",
       "    <tr>\n",
       "      <th>660</th>\n",
       "      <td>Amazon</td>\n",
       "      <td>2636</td>\n",
       "    </tr>\n",
       "    <tr>\n",
       "      <th>4486</th>\n",
       "      <td>Infosys</td>\n",
       "      <td>2032</td>\n",
       "    </tr>\n",
       "    <tr>\n",
       "      <th>9160</th>\n",
       "      <td>Tata Consultancy Services</td>\n",
       "      <td>1286</td>\n",
       "    </tr>\n",
       "    <tr>\n",
       "      <th>313</th>\n",
       "      <td>Accenture</td>\n",
       "      <td>894</td>\n",
       "    </tr>\n",
       "    <tr>\n",
       "      <th>10400</th>\n",
       "      <td>Wipro</td>\n",
       "      <td>651</td>\n",
       "    </tr>\n",
       "    <tr>\n",
       "      <th>5832</th>\n",
       "      <td>Microsoft</td>\n",
       "      <td>633</td>\n",
       "    </tr>\n",
       "    <tr>\n",
       "      <th>2094</th>\n",
       "      <td>Cognizant Technology Solutions</td>\n",
       "      <td>591</td>\n",
       "    </tr>\n",
       "    <tr>\n",
       "      <th>3362</th>\n",
       "      <td>Flipkart</td>\n",
       "      <td>585</td>\n",
       "    </tr>\n",
       "    <tr>\n",
       "      <th>4180</th>\n",
       "      <td>IBM</td>\n",
       "      <td>457</td>\n",
       "    </tr>\n",
       "    <tr>\n",
       "      <th>5875</th>\n",
       "      <td>Mindtree</td>\n",
       "      <td>431</td>\n",
       "    </tr>\n",
       "  </tbody>\n",
       "</table>\n",
       "</div>"
      ],
      "text/plain": [
       "                         Company Name  Salaries Reported\n",
       "660                            Amazon               2636\n",
       "4486                          Infosys               2032\n",
       "9160        Tata Consultancy Services               1286\n",
       "313                         Accenture                894\n",
       "10400                           Wipro                651\n",
       "5832                        Microsoft                633\n",
       "2094   Cognizant Technology Solutions                591\n",
       "3362                         Flipkart                585\n",
       "4180                              IBM                457\n",
       "5875                         Mindtree                431"
      ]
     },
     "execution_count": 27,
     "metadata": {},
     "output_type": "execute_result"
    }
   ],
   "source": [
    "sps.groupby('Company Name', as_index=False)['Salaries Reported'].sum().sort_values('Salaries Reported', ascending=False).head(10)"
   ]
  },
  {
   "cell_type": "code",
   "execution_count": 28,
   "id": "23d78f92",
   "metadata": {},
   "outputs": [],
   "source": [
    "# Amazon is the company with the highest Salaries Reported"
   ]
  },
  {
   "cell_type": "markdown",
   "id": "902fbf21-180a-44de-81e4-50457980c762",
   "metadata": {},
   "source": [
    "6. Given the `Company Name` you found at the previous question, how many `Location`s is this company present in? "
   ]
  },
  {
   "cell_type": "code",
   "execution_count": 29,
   "id": "1bcf00f8",
   "metadata": {},
   "outputs": [
    {
     "data": {
      "text/plain": [
       "array(['Bangalore', 'Hyderabad', 'New Delhi', 'Chennai', 'Jaipur',\n",
       "       'Kolkata', 'Madhya Pradesh', 'Mumbai', 'Pune'], dtype=object)"
      ]
     },
     "execution_count": 29,
     "metadata": {},
     "output_type": "execute_result"
    }
   ],
   "source": [
    "sps.loc[sps['Company Name']=='Amazon']['Location'].unique()"
   ]
  },
  {
   "cell_type": "code",
   "execution_count": 30,
   "id": "aa38bd94",
   "metadata": {},
   "outputs": [],
   "source": [
    "# Amazon is in 9 different locations"
   ]
  },
  {
   "cell_type": "markdown",
   "id": "dee41965-0db4-446d-bf20-174898462a8d",
   "metadata": {},
   "source": [
    "7. As you may have noticed, the `Salary` is reported in Indian Rupees (ISO code: INR). Using the [Open Access Endpoint](https://www.exchangerate-api.com/docs/free) (no API Key required) of the ExchangeRate-API service, create a new column named `Salary USD` containing the salary-equivalent in USD and round the result to zero decimals. What is the conversion rate between USD-INR at the time of your execution? *Note: of course, this result will change in time*"
   ]
  },
  {
   "cell_type": "code",
   "execution_count": 31,
   "id": "bab08d9b-ac6c-4ae6-a6fe-1efded5e4bab",
   "metadata": {},
   "outputs": [
    {
     "data": {
      "text/html": [
       "<div>\n",
       "<style scoped>\n",
       "    .dataframe tbody tr th:only-of-type {\n",
       "        vertical-align: middle;\n",
       "    }\n",
       "\n",
       "    .dataframe tbody tr th {\n",
       "        vertical-align: top;\n",
       "    }\n",
       "\n",
       "    .dataframe thead th {\n",
       "        text-align: right;\n",
       "    }\n",
       "</style>\n",
       "<table border=\"1\" class=\"dataframe\">\n",
       "  <thead>\n",
       "    <tr style=\"text-align: right;\">\n",
       "      <th></th>\n",
       "      <th>Rating</th>\n",
       "      <th>Company Name</th>\n",
       "      <th>Job Title</th>\n",
       "      <th>Salary</th>\n",
       "      <th>Salaries Reported</th>\n",
       "      <th>Location</th>\n",
       "      <th>Employment Status</th>\n",
       "      <th>Job Roles</th>\n",
       "    </tr>\n",
       "  </thead>\n",
       "  <tbody>\n",
       "    <tr>\n",
       "      <th>14735</th>\n",
       "      <td>3.9</td>\n",
       "      <td>Zensar Technologies</td>\n",
       "      <td>Software Development Engineer</td>\n",
       "      <td>732000</td>\n",
       "      <td>1</td>\n",
       "      <td>Hyderabad</td>\n",
       "      <td>Full Time</td>\n",
       "      <td>SDE</td>\n",
       "    </tr>\n",
       "    <tr>\n",
       "      <th>19657</th>\n",
       "      <td>4.0</td>\n",
       "      <td>DataStax</td>\n",
       "      <td>Software Development Engineer In Test Contractor</td>\n",
       "      <td>2000000</td>\n",
       "      <td>1</td>\n",
       "      <td>Pune</td>\n",
       "      <td>Contractor</td>\n",
       "      <td>SDE</td>\n",
       "    </tr>\n",
       "    <tr>\n",
       "      <th>22737</th>\n",
       "      <td>3.7</td>\n",
       "      <td>TCL</td>\n",
       "      <td>Web Developer</td>\n",
       "      <td>500000</td>\n",
       "      <td>1</td>\n",
       "      <td>Bangalore</td>\n",
       "      <td>Full Time</td>\n",
       "      <td>Web</td>\n",
       "    </tr>\n",
       "    <tr>\n",
       "      <th>21634</th>\n",
       "      <td>4.2</td>\n",
       "      <td>TESTE</td>\n",
       "      <td>Test Engineer</td>\n",
       "      <td>200000</td>\n",
       "      <td>1</td>\n",
       "      <td>Bangalore</td>\n",
       "      <td>Full Time</td>\n",
       "      <td>Testing</td>\n",
       "    </tr>\n",
       "    <tr>\n",
       "      <th>9564</th>\n",
       "      <td>3.8</td>\n",
       "      <td>LTI</td>\n",
       "      <td>Java SSE</td>\n",
       "      <td>888000</td>\n",
       "      <td>1</td>\n",
       "      <td>Chennai</td>\n",
       "      <td>Full Time</td>\n",
       "      <td>Java</td>\n",
       "    </tr>\n",
       "    <tr>\n",
       "      <th>20354</th>\n",
       "      <td>4.1</td>\n",
       "      <td>Accenture</td>\n",
       "      <td>Software Test Engineer</td>\n",
       "      <td>300000</td>\n",
       "      <td>22</td>\n",
       "      <td>Hyderabad</td>\n",
       "      <td>Full Time</td>\n",
       "      <td>SDE</td>\n",
       "    </tr>\n",
       "    <tr>\n",
       "      <th>16564</th>\n",
       "      <td>3.9</td>\n",
       "      <td>Bookmyshow</td>\n",
       "      <td>Software Development Engineer (SDE)</td>\n",
       "      <td>400000</td>\n",
       "      <td>2</td>\n",
       "      <td>Mumbai</td>\n",
       "      <td>Full Time</td>\n",
       "      <td>SDE</td>\n",
       "    </tr>\n",
       "    <tr>\n",
       "      <th>111</th>\n",
       "      <td>4.5</td>\n",
       "      <td>Money View</td>\n",
       "      <td>Android Developer - Intern</td>\n",
       "      <td>468000</td>\n",
       "      <td>1</td>\n",
       "      <td>Bangalore</td>\n",
       "      <td>Intern</td>\n",
       "      <td>Android</td>\n",
       "    </tr>\n",
       "    <tr>\n",
       "      <th>10653</th>\n",
       "      <td>3.9</td>\n",
       "      <td>Tata Consultancy Services</td>\n",
       "      <td>Mobile Developer</td>\n",
       "      <td>1000000</td>\n",
       "      <td>1</td>\n",
       "      <td>Bangalore</td>\n",
       "      <td>Full Time</td>\n",
       "      <td>Mobile</td>\n",
       "    </tr>\n",
       "    <tr>\n",
       "      <th>8796</th>\n",
       "      <td>3.1</td>\n",
       "      <td>Infoview Technologies Pvt Limited</td>\n",
       "      <td>Java Developer</td>\n",
       "      <td>600000</td>\n",
       "      <td>4</td>\n",
       "      <td>Chennai</td>\n",
       "      <td>Full Time</td>\n",
       "      <td>Java</td>\n",
       "    </tr>\n",
       "  </tbody>\n",
       "</table>\n",
       "</div>"
      ],
      "text/plain": [
       "       Rating                       Company Name  \\\n",
       "14735     3.9                Zensar Technologies   \n",
       "19657     4.0                           DataStax   \n",
       "22737     3.7                                TCL   \n",
       "21634     4.2                              TESTE   \n",
       "9564      3.8                                LTI   \n",
       "20354     4.1                          Accenture   \n",
       "16564     3.9                         Bookmyshow   \n",
       "111       4.5                         Money View   \n",
       "10653     3.9          Tata Consultancy Services   \n",
       "8796      3.1  Infoview Technologies Pvt Limited   \n",
       "\n",
       "                                              Job Title   Salary  \\\n",
       "14735                     Software Development Engineer   732000   \n",
       "19657  Software Development Engineer In Test Contractor  2000000   \n",
       "22737                                     Web Developer   500000   \n",
       "21634                                     Test Engineer   200000   \n",
       "9564                                           Java SSE   888000   \n",
       "20354                            Software Test Engineer   300000   \n",
       "16564               Software Development Engineer (SDE)   400000   \n",
       "111                          Android Developer - Intern   468000   \n",
       "10653                                  Mobile Developer  1000000   \n",
       "8796                                     Java Developer   600000   \n",
       "\n",
       "       Salaries Reported   Location Employment Status Job Roles  \n",
       "14735                  1  Hyderabad         Full Time       SDE  \n",
       "19657                  1       Pune        Contractor       SDE  \n",
       "22737                  1  Bangalore         Full Time       Web  \n",
       "21634                  1  Bangalore         Full Time   Testing  \n",
       "9564                   1    Chennai         Full Time      Java  \n",
       "20354                 22  Hyderabad         Full Time       SDE  \n",
       "16564                  2     Mumbai         Full Time       SDE  \n",
       "111                    1  Bangalore            Intern   Android  \n",
       "10653                  1  Bangalore         Full Time    Mobile  \n",
       "8796                   4    Chennai         Full Time      Java  "
      ]
     },
     "execution_count": 31,
     "metadata": {},
     "output_type": "execute_result"
    }
   ],
   "source": [
    "sps.sample(10)"
   ]
  },
  {
   "cell_type": "code",
   "execution_count": 32,
   "id": "c57dc8ea",
   "metadata": {},
   "outputs": [],
   "source": [
    "url = 'https://open.er-api.com/v6/latest/USD'"
   ]
  },
  {
   "cell_type": "code",
   "execution_count": 33,
   "id": "5dc1fd9e",
   "metadata": {},
   "outputs": [],
   "source": [
    "r = requests.get(url)"
   ]
  },
  {
   "cell_type": "code",
   "execution_count": 34,
   "id": "645465f0",
   "metadata": {},
   "outputs": [
    {
     "data": {
      "text/plain": [
       "200"
      ]
     },
     "execution_count": 34,
     "metadata": {},
     "output_type": "execute_result"
    }
   ],
   "source": [
    "r.status_code"
   ]
  },
  {
   "cell_type": "code",
   "execution_count": 35,
   "id": "84c563e3",
   "metadata": {},
   "outputs": [
    {
     "data": {
      "text/plain": [
       "<bound method Response.json of <Response [200]>>"
      ]
     },
     "execution_count": 35,
     "metadata": {},
     "output_type": "execute_result"
    }
   ],
   "source": [
    "r.json"
   ]
  },
  {
   "cell_type": "code",
   "execution_count": 36,
   "id": "78b0b391",
   "metadata": {},
   "outputs": [
    {
     "data": {
      "text/plain": [
       "83.183215"
      ]
     },
     "execution_count": 36,
     "metadata": {},
     "output_type": "execute_result"
    }
   ],
   "source": [
    "rateo = r.json()['rates']['INR']\n",
    "rateo"
   ]
  },
  {
   "cell_type": "code",
   "execution_count": 37,
   "id": "3c3d88a2",
   "metadata": {},
   "outputs": [
    {
     "data": {
      "text/html": [
       "<div>\n",
       "<style scoped>\n",
       "    .dataframe tbody tr th:only-of-type {\n",
       "        vertical-align: middle;\n",
       "    }\n",
       "\n",
       "    .dataframe tbody tr th {\n",
       "        vertical-align: top;\n",
       "    }\n",
       "\n",
       "    .dataframe thead th {\n",
       "        text-align: right;\n",
       "    }\n",
       "</style>\n",
       "<table border=\"1\" class=\"dataframe\">\n",
       "  <thead>\n",
       "    <tr style=\"text-align: right;\">\n",
       "      <th></th>\n",
       "      <th>Rating</th>\n",
       "      <th>Company Name</th>\n",
       "      <th>Job Title</th>\n",
       "      <th>Salary</th>\n",
       "      <th>Salaries Reported</th>\n",
       "      <th>Location</th>\n",
       "      <th>Employment Status</th>\n",
       "      <th>Job Roles</th>\n",
       "      <th>Salary USD</th>\n",
       "    </tr>\n",
       "  </thead>\n",
       "  <tbody>\n",
       "    <tr>\n",
       "      <th>5733</th>\n",
       "      <td>4.0</td>\n",
       "      <td>ONBO</td>\n",
       "      <td>Front End Engineer - Intern</td>\n",
       "      <td>60000</td>\n",
       "      <td>1</td>\n",
       "      <td>Bangalore</td>\n",
       "      <td>Intern</td>\n",
       "      <td>Frontend</td>\n",
       "      <td>721.036877</td>\n",
       "    </tr>\n",
       "    <tr>\n",
       "      <th>6245</th>\n",
       "      <td>4.2</td>\n",
       "      <td>Pick My Solar</td>\n",
       "      <td>Front End Developer</td>\n",
       "      <td>800000</td>\n",
       "      <td>1</td>\n",
       "      <td>Hyderabad</td>\n",
       "      <td>Full Time</td>\n",
       "      <td>Frontend</td>\n",
       "      <td>9613.825026</td>\n",
       "    </tr>\n",
       "    <tr>\n",
       "      <th>17961</th>\n",
       "      <td>4.3</td>\n",
       "      <td>Snapdeal</td>\n",
       "      <td>Senior Software Development Engineer In Test</td>\n",
       "      <td>1000000</td>\n",
       "      <td>3</td>\n",
       "      <td>New Delhi</td>\n",
       "      <td>Full Time</td>\n",
       "      <td>SDE</td>\n",
       "      <td>12017.281283</td>\n",
       "    </tr>\n",
       "    <tr>\n",
       "      <th>15985</th>\n",
       "      <td>4.1</td>\n",
       "      <td>Chegg</td>\n",
       "      <td>Software Development Engineer - Intern</td>\n",
       "      <td>126000</td>\n",
       "      <td>1</td>\n",
       "      <td>Kolkata</td>\n",
       "      <td>Intern</td>\n",
       "      <td>SDE</td>\n",
       "      <td>1514.177442</td>\n",
       "    </tr>\n",
       "    <tr>\n",
       "      <th>2195</th>\n",
       "      <td>4.0</td>\n",
       "      <td>Bheesham Sharma</td>\n",
       "      <td>Android Developer</td>\n",
       "      <td>700000</td>\n",
       "      <td>1</td>\n",
       "      <td>New Delhi</td>\n",
       "      <td>Full Time</td>\n",
       "      <td>Android</td>\n",
       "      <td>8412.096898</td>\n",
       "    </tr>\n",
       "    <tr>\n",
       "      <th>14416</th>\n",
       "      <td>4.6</td>\n",
       "      <td>Pando (India)</td>\n",
       "      <td>Software Development Engineer In Test (SDET) II</td>\n",
       "      <td>700000</td>\n",
       "      <td>1</td>\n",
       "      <td>Chennai</td>\n",
       "      <td>Full Time</td>\n",
       "      <td>SDE</td>\n",
       "      <td>8412.096898</td>\n",
       "    </tr>\n",
       "    <tr>\n",
       "      <th>1542</th>\n",
       "      <td>3.2</td>\n",
       "      <td>IMT Solutions</td>\n",
       "      <td>Android App Developer</td>\n",
       "      <td>700000</td>\n",
       "      <td>1</td>\n",
       "      <td>Hyderabad</td>\n",
       "      <td>Full Time</td>\n",
       "      <td>Android</td>\n",
       "      <td>8412.096898</td>\n",
       "    </tr>\n",
       "    <tr>\n",
       "      <th>5368</th>\n",
       "      <td>3.8</td>\n",
       "      <td>Projectplace</td>\n",
       "      <td>Front End Developer</td>\n",
       "      <td>1600000</td>\n",
       "      <td>1</td>\n",
       "      <td>Bangalore</td>\n",
       "      <td>Full Time</td>\n",
       "      <td>Frontend</td>\n",
       "      <td>19227.650053</td>\n",
       "    </tr>\n",
       "    <tr>\n",
       "      <th>12935</th>\n",
       "      <td>3.9</td>\n",
       "      <td>Tejas Software</td>\n",
       "      <td>Software Development Engineer</td>\n",
       "      <td>360000</td>\n",
       "      <td>1</td>\n",
       "      <td>Bangalore</td>\n",
       "      <td>Full Time</td>\n",
       "      <td>SDE</td>\n",
       "      <td>4326.221262</td>\n",
       "    </tr>\n",
       "    <tr>\n",
       "      <th>18547</th>\n",
       "      <td>3.7</td>\n",
       "      <td>Manish Therapy Services</td>\n",
       "      <td>Software Development Engineer (SDE)</td>\n",
       "      <td>500000</td>\n",
       "      <td>1</td>\n",
       "      <td>New Delhi</td>\n",
       "      <td>Full Time</td>\n",
       "      <td>SDE</td>\n",
       "      <td>6008.640642</td>\n",
       "    </tr>\n",
       "  </tbody>\n",
       "</table>\n",
       "</div>"
      ],
      "text/plain": [
       "       Rating             Company Name  \\\n",
       "5733      4.0                     ONBO   \n",
       "6245      4.2            Pick My Solar   \n",
       "17961     4.3                 Snapdeal   \n",
       "15985     4.1                    Chegg   \n",
       "2195      4.0          Bheesham Sharma   \n",
       "14416     4.6            Pando (India)   \n",
       "1542      3.2            IMT Solutions   \n",
       "5368      3.8             Projectplace   \n",
       "12935     3.9           Tejas Software   \n",
       "18547     3.7  Manish Therapy Services   \n",
       "\n",
       "                                             Job Title   Salary  \\\n",
       "5733                       Front End Engineer - Intern    60000   \n",
       "6245                               Front End Developer   800000   \n",
       "17961     Senior Software Development Engineer In Test  1000000   \n",
       "15985           Software Development Engineer - Intern   126000   \n",
       "2195                                 Android Developer   700000   \n",
       "14416  Software Development Engineer In Test (SDET) II   700000   \n",
       "1542                             Android App Developer   700000   \n",
       "5368                               Front End Developer  1600000   \n",
       "12935                    Software Development Engineer   360000   \n",
       "18547              Software Development Engineer (SDE)   500000   \n",
       "\n",
       "       Salaries Reported   Location Employment Status Job Roles    Salary USD  \n",
       "5733                   1  Bangalore            Intern  Frontend    721.036877  \n",
       "6245                   1  Hyderabad         Full Time  Frontend   9613.825026  \n",
       "17961                  3  New Delhi         Full Time       SDE  12017.281283  \n",
       "15985                  1    Kolkata            Intern       SDE   1514.177442  \n",
       "2195                   1  New Delhi         Full Time   Android   8412.096898  \n",
       "14416                  1    Chennai         Full Time       SDE   8412.096898  \n",
       "1542                   1  Hyderabad         Full Time   Android   8412.096898  \n",
       "5368                   1  Bangalore         Full Time  Frontend  19227.650053  \n",
       "12935                  1  Bangalore         Full Time       SDE   4326.221262  \n",
       "18547                  1  New Delhi         Full Time       SDE   6008.640642  "
      ]
     },
     "execution_count": 37,
     "metadata": {},
     "output_type": "execute_result"
    }
   ],
   "source": [
    "sps['Salary USD'] = sps['Salary']/83.213497\n",
    "sps.sample(10)"
   ]
  },
  {
   "cell_type": "code",
   "execution_count": 38,
   "id": "5ba65c37",
   "metadata": {},
   "outputs": [
    {
     "data": {
      "text/html": [
       "<div>\n",
       "<style scoped>\n",
       "    .dataframe tbody tr th:only-of-type {\n",
       "        vertical-align: middle;\n",
       "    }\n",
       "\n",
       "    .dataframe tbody tr th {\n",
       "        vertical-align: top;\n",
       "    }\n",
       "\n",
       "    .dataframe thead th {\n",
       "        text-align: right;\n",
       "    }\n",
       "</style>\n",
       "<table border=\"1\" class=\"dataframe\">\n",
       "  <thead>\n",
       "    <tr style=\"text-align: right;\">\n",
       "      <th></th>\n",
       "      <th>Rating</th>\n",
       "      <th>Company Name</th>\n",
       "      <th>Job Title</th>\n",
       "      <th>Salary</th>\n",
       "      <th>Salaries Reported</th>\n",
       "      <th>Location</th>\n",
       "      <th>Employment Status</th>\n",
       "      <th>Job Roles</th>\n",
       "      <th>Salary USD</th>\n",
       "    </tr>\n",
       "  </thead>\n",
       "  <tbody>\n",
       "    <tr>\n",
       "      <th>1580</th>\n",
       "      <td>3.8</td>\n",
       "      <td>Diyar United</td>\n",
       "      <td>Android Architect</td>\n",
       "      <td>1500000</td>\n",
       "      <td>1</td>\n",
       "      <td>Hyderabad</td>\n",
       "      <td>Full Time</td>\n",
       "      <td>Android</td>\n",
       "      <td>18025</td>\n",
       "    </tr>\n",
       "    <tr>\n",
       "      <th>22496</th>\n",
       "      <td>4.0</td>\n",
       "      <td>Ingredients Bazar</td>\n",
       "      <td>Web Developer</td>\n",
       "      <td>360000</td>\n",
       "      <td>1</td>\n",
       "      <td>Bangalore</td>\n",
       "      <td>Full Time</td>\n",
       "      <td>Web</td>\n",
       "      <td>4326</td>\n",
       "    </tr>\n",
       "    <tr>\n",
       "      <th>18405</th>\n",
       "      <td>4.6</td>\n",
       "      <td>Fynd</td>\n",
       "      <td>Software Development Engineer (SDE)</td>\n",
       "      <td>1400000</td>\n",
       "      <td>1</td>\n",
       "      <td>New Delhi</td>\n",
       "      <td>Full Time</td>\n",
       "      <td>SDE</td>\n",
       "      <td>16824</td>\n",
       "    </tr>\n",
       "    <tr>\n",
       "      <th>5479</th>\n",
       "      <td>1.7</td>\n",
       "      <td>mac-O-licious</td>\n",
       "      <td>Front End Developer</td>\n",
       "      <td>800000</td>\n",
       "      <td>1</td>\n",
       "      <td>Bangalore</td>\n",
       "      <td>Full Time</td>\n",
       "      <td>Frontend</td>\n",
       "      <td>9613</td>\n",
       "    </tr>\n",
       "    <tr>\n",
       "      <th>5209</th>\n",
       "      <td>3.8</td>\n",
       "      <td>PointCross Life Sciences</td>\n",
       "      <td>Front End Developer</td>\n",
       "      <td>800000</td>\n",
       "      <td>1</td>\n",
       "      <td>Bangalore</td>\n",
       "      <td>Full Time</td>\n",
       "      <td>Frontend</td>\n",
       "      <td>9613</td>\n",
       "    </tr>\n",
       "    <tr>\n",
       "      <th>14836</th>\n",
       "      <td>3.8</td>\n",
       "      <td>Amazon</td>\n",
       "      <td>Software Development Engineer (SDE)</td>\n",
       "      <td>100000</td>\n",
       "      <td>188</td>\n",
       "      <td>Hyderabad</td>\n",
       "      <td>Full Time</td>\n",
       "      <td>SDE</td>\n",
       "      <td>1201</td>\n",
       "    </tr>\n",
       "    <tr>\n",
       "      <th>17823</th>\n",
       "      <td>4.0</td>\n",
       "      <td>GlobalLogic</td>\n",
       "      <td>Senior Software Development Engineer</td>\n",
       "      <td>500000</td>\n",
       "      <td>9</td>\n",
       "      <td>New Delhi</td>\n",
       "      <td>Full Time</td>\n",
       "      <td>SDE</td>\n",
       "      <td>6008</td>\n",
       "    </tr>\n",
       "    <tr>\n",
       "      <th>6841</th>\n",
       "      <td>2.7</td>\n",
       "      <td>ASETS-LUX</td>\n",
       "      <td>Front End Developer</td>\n",
       "      <td>156000</td>\n",
       "      <td>2</td>\n",
       "      <td>Pune</td>\n",
       "      <td>Full Time</td>\n",
       "      <td>Frontend</td>\n",
       "      <td>1874</td>\n",
       "    </tr>\n",
       "    <tr>\n",
       "      <th>5861</th>\n",
       "      <td>4.0</td>\n",
       "      <td>Bharat Heavy Electricals</td>\n",
       "      <td>Front End Developer</td>\n",
       "      <td>240000</td>\n",
       "      <td>1</td>\n",
       "      <td>Chennai</td>\n",
       "      <td>Full Time</td>\n",
       "      <td>Frontend</td>\n",
       "      <td>2884</td>\n",
       "    </tr>\n",
       "    <tr>\n",
       "      <th>6183</th>\n",
       "      <td>3.3</td>\n",
       "      <td>HRDevi Talent Acquisition</td>\n",
       "      <td>Front End Developer</td>\n",
       "      <td>400000</td>\n",
       "      <td>1</td>\n",
       "      <td>Hyderabad</td>\n",
       "      <td>Full Time</td>\n",
       "      <td>Frontend</td>\n",
       "      <td>4806</td>\n",
       "    </tr>\n",
       "  </tbody>\n",
       "</table>\n",
       "</div>"
      ],
      "text/plain": [
       "       Rating               Company Name  \\\n",
       "1580      3.8               Diyar United   \n",
       "22496     4.0          Ingredients Bazar   \n",
       "18405     4.6                       Fynd   \n",
       "5479      1.7              mac-O-licious   \n",
       "5209      3.8   PointCross Life Sciences   \n",
       "14836     3.8                     Amazon   \n",
       "17823     4.0                GlobalLogic   \n",
       "6841      2.7                  ASETS-LUX   \n",
       "5861      4.0   Bharat Heavy Electricals   \n",
       "6183      3.3  HRDevi Talent Acquisition   \n",
       "\n",
       "                                  Job Title   Salary  Salaries Reported  \\\n",
       "1580                      Android Architect  1500000                  1   \n",
       "22496                         Web Developer   360000                  1   \n",
       "18405   Software Development Engineer (SDE)  1400000                  1   \n",
       "5479                    Front End Developer   800000                  1   \n",
       "5209                    Front End Developer   800000                  1   \n",
       "14836   Software Development Engineer (SDE)   100000                188   \n",
       "17823  Senior Software Development Engineer   500000                  9   \n",
       "6841                    Front End Developer   156000                  2   \n",
       "5861                    Front End Developer   240000                  1   \n",
       "6183                    Front End Developer   400000                  1   \n",
       "\n",
       "        Location Employment Status Job Roles  Salary USD  \n",
       "1580   Hyderabad         Full Time   Android       18025  \n",
       "22496  Bangalore         Full Time       Web        4326  \n",
       "18405  New Delhi         Full Time       SDE       16824  \n",
       "5479   Bangalore         Full Time  Frontend        9613  \n",
       "5209   Bangalore         Full Time  Frontend        9613  \n",
       "14836  Hyderabad         Full Time       SDE        1201  \n",
       "17823  New Delhi         Full Time       SDE        6008  \n",
       "6841        Pune         Full Time  Frontend        1874  \n",
       "5861     Chennai         Full Time  Frontend        2884  \n",
       "6183   Hyderabad         Full Time  Frontend        4806  "
      ]
     },
     "execution_count": 38,
     "metadata": {},
     "output_type": "execute_result"
    }
   ],
   "source": [
    "sps['Salary USD'] = sps['Salary USD'].astype(int)\n",
    "sps.sample(10)"
   ]
  },
  {
   "cell_type": "code",
   "execution_count": 39,
   "id": "c00d500a",
   "metadata": {},
   "outputs": [],
   "source": [
    "# the exchange rate is 1 USD = 83.227189 INR"
   ]
  },
  {
   "cell_type": "markdown",
   "id": "c457c816-0762-4727-a4dc-b89d0b12eea5",
   "metadata": {},
   "source": [
    "8. What is the average `Salary USD` for the \"Python\" `Job Role`? "
   ]
  },
  {
   "cell_type": "code",
   "execution_count": 40,
   "id": "fcc1f4be-7c64-4a1d-9153-2ae16183975e",
   "metadata": {},
   "outputs": [
    {
     "data": {
      "text/plain": [
       "5840.163674762408"
      ]
     },
     "execution_count": 40,
     "metadata": {},
     "output_type": "execute_result"
    }
   ],
   "source": [
    "sps[sps['Job Roles']=='Python']['Salary USD'].mean()"
   ]
  },
  {
   "cell_type": "code",
   "execution_count": 41,
   "id": "ac587e06",
   "metadata": {},
   "outputs": [],
   "source": [
    "# the average Salary USD for the Python Job Role is: 5840.16"
   ]
  },
  {
   "cell_type": "markdown",
   "id": "32420ea4-9878-47d9-a001-eef14914f481",
   "metadata": {},
   "source": [
    "9. Which `Company Name` has the highest **average** `Salary USD` across all `Job Title`s? "
   ]
  },
  {
   "cell_type": "code",
   "execution_count": 42,
   "id": "b2cc84ee",
   "metadata": {},
   "outputs": [
    {
     "data": {
      "text/html": [
       "<div>\n",
       "<style scoped>\n",
       "    .dataframe tbody tr th:only-of-type {\n",
       "        vertical-align: middle;\n",
       "    }\n",
       "\n",
       "    .dataframe tbody tr th {\n",
       "        vertical-align: top;\n",
       "    }\n",
       "\n",
       "    .dataframe thead th {\n",
       "        text-align: right;\n",
       "    }\n",
       "</style>\n",
       "<table border=\"1\" class=\"dataframe\">\n",
       "  <thead>\n",
       "    <tr style=\"text-align: right;\">\n",
       "      <th></th>\n",
       "      <th>Company Name</th>\n",
       "      <th>Salary USD</th>\n",
       "    </tr>\n",
       "  </thead>\n",
       "  <tbody>\n",
       "    <tr>\n",
       "      <th>9413</th>\n",
       "      <td>Thapar University</td>\n",
       "      <td>1081555.0</td>\n",
       "    </tr>\n",
       "    <tr>\n",
       "      <th>3182</th>\n",
       "      <td>FFF Enterprises</td>\n",
       "      <td>117769.0</td>\n",
       "    </tr>\n",
       "    <tr>\n",
       "      <th>2665</th>\n",
       "      <td>Digital Raju</td>\n",
       "      <td>117769.0</td>\n",
       "    </tr>\n",
       "    <tr>\n",
       "      <th>3565</th>\n",
       "      <td>Gaana Lyrics Point.com</td>\n",
       "      <td>116567.0</td>\n",
       "    </tr>\n",
       "    <tr>\n",
       "      <th>3534</th>\n",
       "      <td>GGH Heavy Industries</td>\n",
       "      <td>115365.0</td>\n",
       "    </tr>\n",
       "    <tr>\n",
       "      <th>...</th>\n",
       "      <td>...</td>\n",
       "      <td>...</td>\n",
       "    </tr>\n",
       "    <tr>\n",
       "      <th>6201</th>\n",
       "      <td>Nasya Software Technologies</td>\n",
       "      <td>144.0</td>\n",
       "    </tr>\n",
       "    <tr>\n",
       "      <th>3111</th>\n",
       "      <td>Excel Engineering Services</td>\n",
       "      <td>144.0</td>\n",
       "    </tr>\n",
       "    <tr>\n",
       "      <th>3</th>\n",
       "      <td>....</td>\n",
       "      <td>144.0</td>\n",
       "    </tr>\n",
       "    <tr>\n",
       "      <th>8167</th>\n",
       "      <td>Scholify</td>\n",
       "      <td>144.0</td>\n",
       "    </tr>\n",
       "    <tr>\n",
       "      <th>4999</th>\n",
       "      <td>Keeves Technologies</td>\n",
       "      <td>25.0</td>\n",
       "    </tr>\n",
       "  </tbody>\n",
       "</table>\n",
       "<p>11260 rows × 2 columns</p>\n",
       "</div>"
      ],
      "text/plain": [
       "                     Company Name  Salary USD\n",
       "9413            Thapar University   1081555.0\n",
       "3182              FFF Enterprises    117769.0\n",
       "2665                 Digital Raju    117769.0\n",
       "3565       Gaana Lyrics Point.com    116567.0\n",
       "3534         GGH Heavy Industries    115365.0\n",
       "...                           ...         ...\n",
       "6201  Nasya Software Technologies       144.0\n",
       "3111   Excel Engineering Services       144.0\n",
       "3                            ....       144.0\n",
       "8167                     Scholify       144.0\n",
       "4999          Keeves Technologies        25.0\n",
       "\n",
       "[11260 rows x 2 columns]"
      ]
     },
     "execution_count": 42,
     "metadata": {},
     "output_type": "execute_result"
    }
   ],
   "source": [
    "sps.groupby('Company Name', as_index=False)['Salary USD'].mean().sort_values('Salary USD', ascending=False)"
   ]
  },
  {
   "cell_type": "code",
   "execution_count": 43,
   "id": "e1c7db74",
   "metadata": {},
   "outputs": [],
   "source": [
    "# Thapar University has the highest avg USD salary across all Job Titles, with an amount of 1081555.0 USD"
   ]
  },
  {
   "cell_type": "markdown",
   "id": "305fe38f-9332-4ba9-8b01-25ec9db92793",
   "metadata": {},
   "source": [
    "10. Create a Plot that shows the **relationship** between the average `Salary USD` and the average `Rating` for each `Company Name`. Do you see any anomaly in the plot? Which is the `Company Name` that is causing this oddity?"
   ]
  },
  {
   "cell_type": "code",
   "execution_count": 44,
   "id": "091b868d",
   "metadata": {},
   "outputs": [
    {
     "data": {
      "text/html": [
       "<div>\n",
       "<style scoped>\n",
       "    .dataframe tbody tr th:only-of-type {\n",
       "        vertical-align: middle;\n",
       "    }\n",
       "\n",
       "    .dataframe tbody tr th {\n",
       "        vertical-align: top;\n",
       "    }\n",
       "\n",
       "    .dataframe thead th {\n",
       "        text-align: right;\n",
       "    }\n",
       "</style>\n",
       "<table border=\"1\" class=\"dataframe\">\n",
       "  <thead>\n",
       "    <tr style=\"text-align: right;\">\n",
       "      <th></th>\n",
       "      <th>Company Name</th>\n",
       "      <th>Salary USD</th>\n",
       "      <th>Rating</th>\n",
       "    </tr>\n",
       "  </thead>\n",
       "  <tbody>\n",
       "    <tr>\n",
       "      <th>673</th>\n",
       "      <td>Amdocs Development Centre India</td>\n",
       "      <td>6935.142857</td>\n",
       "      <td>4.0</td>\n",
       "    </tr>\n",
       "    <tr>\n",
       "      <th>4207</th>\n",
       "      <td>IDFC First Bank</td>\n",
       "      <td>9613.000000</td>\n",
       "      <td>3.5</td>\n",
       "    </tr>\n",
       "    <tr>\n",
       "      <th>9118</th>\n",
       "      <td>Talent Zone Consultants</td>\n",
       "      <td>7810.700000</td>\n",
       "      <td>5.0</td>\n",
       "    </tr>\n",
       "    <tr>\n",
       "      <th>5794</th>\n",
       "      <td>Meru Info Solutions</td>\n",
       "      <td>3749.000000</td>\n",
       "      <td>4.3</td>\n",
       "    </tr>\n",
       "    <tr>\n",
       "      <th>6822</th>\n",
       "      <td>PaNa Infotech</td>\n",
       "      <td>7066.000000</td>\n",
       "      <td>3.4</td>\n",
       "    </tr>\n",
       "    <tr>\n",
       "      <th>4931</th>\n",
       "      <td>Kaar Technologies</td>\n",
       "      <td>2739.500000</td>\n",
       "      <td>4.2</td>\n",
       "    </tr>\n",
       "    <tr>\n",
       "      <th>5569</th>\n",
       "      <td>Magna Health Solutions</td>\n",
       "      <td>2163.000000</td>\n",
       "      <td>4.6</td>\n",
       "    </tr>\n",
       "    <tr>\n",
       "      <th>8416</th>\n",
       "      <td>Silicon Valley Recycling</td>\n",
       "      <td>8411.666667</td>\n",
       "      <td>5.0</td>\n",
       "    </tr>\n",
       "    <tr>\n",
       "      <th>8005</th>\n",
       "      <td>Safe Security</td>\n",
       "      <td>20429.000000</td>\n",
       "      <td>2.3</td>\n",
       "    </tr>\n",
       "    <tr>\n",
       "      <th>7809</th>\n",
       "      <td>Royal Cyber Inc.</td>\n",
       "      <td>4806.000000</td>\n",
       "      <td>4.2</td>\n",
       "    </tr>\n",
       "  </tbody>\n",
       "</table>\n",
       "</div>"
      ],
      "text/plain": [
       "                         Company Name    Salary USD  Rating\n",
       "673   Amdocs Development Centre India   6935.142857     4.0\n",
       "4207                  IDFC First Bank   9613.000000     3.5\n",
       "9118          Talent Zone Consultants   7810.700000     5.0\n",
       "5794              Meru Info Solutions   3749.000000     4.3\n",
       "6822                    PaNa Infotech   7066.000000     3.4\n",
       "4931                Kaar Technologies   2739.500000     4.2\n",
       "5569           Magna Health Solutions   2163.000000     4.6\n",
       "8416         Silicon Valley Recycling   8411.666667     5.0\n",
       "8005                    Safe Security  20429.000000     2.3\n",
       "7809                 Royal Cyber Inc.   4806.000000     4.2"
      ]
     },
     "execution_count": 44,
     "metadata": {},
     "output_type": "execute_result"
    }
   ],
   "source": [
    "sps.groupby('Company Name', as_index=False).agg({'Salary USD': 'mean', 'Rating': 'mean'}).sample(10)"
   ]
  },
  {
   "cell_type": "code",
   "execution_count": 45,
   "id": "f0573791-7710-4552-b5cc-d7a86151ed4f",
   "metadata": {},
   "outputs": [
    {
     "data": {
      "text/plain": [
       "<Axes: xlabel='Salary USD', ylabel='Rating'>"
      ]
     },
     "execution_count": 45,
     "metadata": {},
     "output_type": "execute_result"
    },
    {
     "data": {
      "image/png": "[encoded data removed]",
      "text/plain": [
       "<Figure size 640x480 with 1 Axes>"
      ]
     },
     "metadata": {},
     "output_type": "display_data"
    }
   ],
   "source": [
    "sns.scatterplot(x='Salary USD', y='Rating', data=sps)"
   ]
  },
  {
   "cell_type": "code",
   "execution_count": 46,
   "id": "512368bd",
   "metadata": {},
   "outputs": [],
   "source": [
    "rating_3 = sps[sps['Rating']>3.5]"
   ]
  },
  {
   "cell_type": "code",
   "execution_count": 47,
   "id": "0f2568ee",
   "metadata": {},
   "outputs": [],
   "source": [
    "salaryUSD_M = rating_3[rating_3['Salary USD']>1000000]"
   ]
  },
  {
   "cell_type": "code",
   "execution_count": 48,
   "id": "ea58a62e",
   "metadata": {},
   "outputs": [
    {
     "data": {
      "text/html": [
       "<div>\n",
       "<style scoped>\n",
       "    .dataframe tbody tr th:only-of-type {\n",
       "        vertical-align: middle;\n",
       "    }\n",
       "\n",
       "    .dataframe tbody tr th {\n",
       "        vertical-align: top;\n",
       "    }\n",
       "\n",
       "    .dataframe thead th {\n",
       "        text-align: right;\n",
       "    }\n",
       "</style>\n",
       "<table border=\"1\" class=\"dataframe\">\n",
       "  <thead>\n",
       "    <tr style=\"text-align: right;\">\n",
       "      <th></th>\n",
       "      <th>Rating</th>\n",
       "      <th>Company Name</th>\n",
       "      <th>Job Title</th>\n",
       "      <th>Salary</th>\n",
       "      <th>Salaries Reported</th>\n",
       "      <th>Location</th>\n",
       "      <th>Employment Status</th>\n",
       "      <th>Job Roles</th>\n",
       "      <th>Salary USD</th>\n",
       "    </tr>\n",
       "  </thead>\n",
       "  <tbody>\n",
       "    <tr>\n",
       "      <th>18635</th>\n",
       "      <td>3.6</td>\n",
       "      <td>Thapar University</td>\n",
       "      <td>Software Development Engineer (SDE)</td>\n",
       "      <td>90000000</td>\n",
       "      <td>1</td>\n",
       "      <td>New Delhi</td>\n",
       "      <td>Full Time</td>\n",
       "      <td>SDE</td>\n",
       "      <td>1081555</td>\n",
       "    </tr>\n",
       "  </tbody>\n",
       "</table>\n",
       "</div>"
      ],
      "text/plain": [
       "       Rating       Company Name                            Job Title  \\\n",
       "18635     3.6  Thapar University  Software Development Engineer (SDE)   \n",
       "\n",
       "         Salary  Salaries Reported   Location Employment Status Job Roles  \\\n",
       "18635  90000000                  1  New Delhi         Full Time       SDE   \n",
       "\n",
       "       Salary USD  \n",
       "18635     1081555  "
      ]
     },
     "execution_count": 48,
     "metadata": {},
     "output_type": "execute_result"
    }
   ],
   "source": [
    "salaryUSD_M"
   ]
  },
  {
   "cell_type": "code",
   "execution_count": 49,
   "id": "32a4f142",
   "metadata": {},
   "outputs": [
    {
     "data": {
      "text/plain": [
       "<Axes: xlabel='Salary USD', ylabel='Rating'>"
      ]
     },
     "execution_count": 49,
     "metadata": {},
     "output_type": "execute_result"
    },
    {
     "data": {
      "image/png": "[encoded data removed]",
      "text/plain": [
       "<Figure size 640x480 with 1 Axes>"
      ]
     },
     "metadata": {},
     "output_type": "display_data"
    }
   ],
   "source": [
    "sns.scatterplot(x='Salary USD', y='Rating', hue='Company Name', data=salaryUSD_M)"
   ]
  },
  {
   "cell_type": "code",
   "execution_count": 50,
   "id": "495b597e",
   "metadata": {},
   "outputs": [
    {
     "data": {
      "image/png": "[encoded data removed]",
      "text/plain": [
       "<Figure size 640x480 with 1 Axes>"
      ]
     },
     "metadata": {},
     "output_type": "display_data"
    }
   ],
   "source": [
    "plt.scatter('Salary USD', 'Rating', data=sps, label='Other Companies')\n",
    "plt.scatter('Salary USD', 'Rating', data=salaryUSD_M, label='Thapar University')\n",
    "plt.xlabel('Salary USD')\n",
    "plt.ylabel('Rating')\n",
    "plt.title('Oddity')\n",
    "plt.legend()\n",
    "plt.show()"
   ]
  },
  {
   "cell_type": "code",
   "execution_count": null,
   "id": "bdabc0e3",
   "metadata": {},
   "outputs": [],
   "source": [
    "# Thapar University is the Company that is causing the oddity"
   ]
  }
 ],
 "metadata": {
  "kernelspec": {
   "display_name": "Python 3 (ipykernel)",
   "language": "python",
   "name": "python3"
  },
  "language_info": {
   "codemirror_mode": {
    "name": "ipython",
    "version": 3
   },
   "file_extension": ".py",
   "mimetype": "text/x-python",
   "name": "python",
   "nbconvert_exporter": "python",
   "pygments_lexer": "ipython3",
   "version": "3.11.5"
  }
 },
 "nbformat": 4,
 "nbformat_minor": 5
}
