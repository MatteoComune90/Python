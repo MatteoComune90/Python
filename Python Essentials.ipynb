{
 "cells": [
  {
   "cell_type": "markdown",
   "id": "19e099ac-d9d4-4f97-9380-47d6a8ec0c4b",
   "metadata": {},
   "source": [
    "# Python Essentials"
   ]
  },
  {
   "cell_type": "markdown",
   "id": "8da79e39-a75b-4cd8-9f23-8d35fcc958a1",
   "metadata": {},
   "source": [
    "#### Standard Exercises"
   ]
  },
  {
   "cell_type": "markdown",
   "id": "11d7674b-afd8-4ea9-9d32-f7e2794c0b72",
   "metadata": {},
   "source": [
    "Note: the `input()` function prompts the user to insert an input in the program, see the next cell for an example: "
   ]
  },
  {
   "cell_type": "code",
   "execution_count": 57,
   "id": "123ae151-c84f-4e68-a19e-bb9c7a194421",
   "metadata": {},
   "outputs": [
    {
     "name": "stdout",
     "output_type": "stream",
     "text": [
      "What's your name? George\n"
     ]
    },
    {
     "name": "stdout",
     "output_type": "stream",
     "text": [
      "Hello George\n"
     ]
    }
   ],
   "source": [
    "# Run this cell to see how the input() function works\n",
    "msg = input(\"What's your name?\")\n",
    "print(\"Hello\", msg)"
   ]
  },
  {
   "cell_type": "markdown",
   "id": "f99b5f34-f582-44a4-a934-ac8e2d8525ec",
   "metadata": {},
   "source": [
    " "
   ]
  },
  {
   "cell_type": "markdown",
   "id": "358b5d78-0633-4f6a-abcb-f166aaca2676",
   "metadata": {},
   "source": [
    "**Exercises on conditionals**\n",
    "\n",
    "Answer the following questions, check the results at this [webpage](https://csiplearninghub.com/python-if-else-conditional-statement-practice/#test1) (last 5 questions of the \"Test 1\" section)."
   ]
  },
  {
   "cell_type": "markdown",
   "id": "e9ce3f0b-4c9b-4b9a-9867-26e42c777429",
   "metadata": {},
   "source": [
    "    Q6. Write a program to check whether a number is divisible by 7 or not."
   ]
  },
  {
   "cell_type": "code",
   "execution_count": null,
   "id": "ccceb362-7e1a-4615-a0fc-49e1789e2ba4",
   "metadata": {},
   "outputs": [],
   "source": []
  },
  {
   "cell_type": "markdown",
   "id": "b6928e90-6e99-4599-8fce-7dc074052f66",
   "metadata": {},
   "source": [
    "    Q7. Write a program to display \"Hello\" if a number entered by user is a multiple of five, otherwise print \"Bye\"."
   ]
  },
  {
   "cell_type": "code",
   "execution_count": null,
   "id": "b45fdf8e-2acb-4e0a-a6e1-1ed3485e616e",
   "metadata": {},
   "outputs": [],
   "source": []
  },
  {
   "cell_type": "markdown",
   "id": "14cadec7-09dc-4ef0-8248-b3398bcabe91",
   "metadata": {},
   "source": [
    "    Q8. Write a program to calculate the electricity bill (accept number of unit from user) according to the following criteria:\n",
    "```\n",
    "Unit                                                     Price  \n",
    "First 100 units                                          no charge\n",
    "Next 100 units                                           Rs 5 per unit\n",
    "After 200 units                                          Rs 10 per unit\n",
    "```\n",
    "    (For example if input unit is 350 than total bill amount is Rs2000)"
   ]
  },
  {
   "cell_type": "code",
   "execution_count": null,
   "id": "eadd877c-597a-4fbb-abea-854faddf1e15",
   "metadata": {},
   "outputs": [],
   "source": []
  },
  {
   "cell_type": "markdown",
   "id": "18c95319-0629-43d4-93ec-32fbe1de3716",
   "metadata": {},
   "source": [
    "    Q9. Write a program to display the last digit of a number (hint: any number % 10 will return the last digit)."
   ]
  },
  {
   "cell_type": "code",
   "execution_count": null,
   "id": "5c6c08ce-b96c-42cf-8bbd-fd68d259be55",
   "metadata": {},
   "outputs": [],
   "source": []
  },
  {
   "cell_type": "markdown",
   "id": "f3d2a3a8-a737-474f-90d5-6eb2b61406a7",
   "metadata": {},
   "source": [
    "    Q10. Write a program to check whether the last digit of a number (entered by user) is divisible by 3 or not."
   ]
  },
  {
   "cell_type": "code",
   "execution_count": null,
   "id": "762965ca-04fa-4d8c-bf3b-df5094a912fc",
   "metadata": {},
   "outputs": [],
   "source": []
  },
  {
   "cell_type": "markdown",
   "id": "ac815226-06e5-494c-ae1b-6928c1591686",
   "metadata": {},
   "source": [
    "**Exercises on loops**\n",
    "\n",
    "Answer the following questions, check the results at this [webpage](https://csiplearninghub.com/practice-questions-of-loops-in-python/) (questions Q2, Q4, Q5, Q6 and Q8 of the \"Test 1\" section)."
   ]
  },
  {
   "cell_type": "markdown",
   "id": "c39dddc9-fe9b-4980-8028-711c287f85db",
   "metadata": {},
   "source": [
    "    Q2. Write a program to print the first 10 natural numbers."
   ]
  },
  {
   "cell_type": "code",
   "execution_count": null,
   "id": "127b78b8-5b72-46f4-a5ed-d897fdd30ad6",
   "metadata": {},
   "outputs": [],
   "source": []
  },
  {
   "cell_type": "markdown",
   "id": "45ea8634-bc78-425a-86b6-84e0f7eb9ce6",
   "metadata": {},
   "source": [
    "    Q4. Write a program to print first 10 odd numbers."
   ]
  },
  {
   "cell_type": "code",
   "execution_count": null,
   "id": "efc617dd-c2d6-4656-bbc4-63ed036ab067",
   "metadata": {},
   "outputs": [],
   "source": []
  },
  {
   "cell_type": "markdown",
   "id": "4e3249cb-6f03-42f4-95b2-c76e52f1b9fc",
   "metadata": {},
   "source": [
    "    Q5. Write a program to print the first 10 even numbers in reverse order."
   ]
  },
  {
   "cell_type": "code",
   "execution_count": null,
   "id": "88c1838b-fa75-40ce-b2b6-ab9894dec8c4",
   "metadata": {},
   "outputs": [],
   "source": []
  },
  {
   "cell_type": "markdown",
   "id": "a06219d9-f955-48d5-87c3-d42b98023021",
   "metadata": {},
   "source": [
    "    Q6. Write a program to print table of a number accepted from user."
   ]
  },
  {
   "cell_type": "code",
   "execution_count": null,
   "id": "a5e45107-8826-46b6-aafb-eff368aec390",
   "metadata": {},
   "outputs": [],
   "source": []
  },
  {
   "cell_type": "markdown",
   "id": "b2d50310-257d-47db-b1d6-8c34fee44af1",
   "metadata": {},
   "source": [
    "    Q8. Write a program to find the factorial of a number."
   ]
  },
  {
   "cell_type": "code",
   "execution_count": 58,
   "id": "ea1920ba-b682-4e56-8c7b-aa5dfe44703c",
   "metadata": {},
   "outputs": [],
   "source": [
    "# the factorial of a number n is the product of all positive integers less than or equal to n\n",
    "# example: the factorial of 5 is 1*2*3*4*5 = 120\n"
   ]
  },
  {
   "cell_type": "markdown",
   "id": "392a5d7c-9dca-4188-9a2e-b66c11684a95",
   "metadata": {},
   "source": [
    "#### Advanced Exercises"
   ]
  },
  {
   "cell_type": "markdown",
   "id": "cfe57759-3d49-4875-a955-c38ce4407b0c",
   "metadata": {},
   "source": [
    "1. If there are n people in a room and everyone shakes each other's hand, there will be `n*(n-1)/2` handshakes. Write a function `handshakes()` that, given a number as input, returns the total number of handshakes. "
   ]
  },
  {
   "cell_type": "code",
   "execution_count": 59,
   "id": "4efdaa6f-f72b-4b5b-b0d0-ce16e196424b",
   "metadata": {},
   "outputs": [],
   "source": [
    "# define the function here\n",
    "def handshake(n): \n",
    "    return int(n*(n-1)/2)"
   ]
  },
  {
   "cell_type": "code",
   "execution_count": 60,
   "id": "ddd8bbac-db45-441e-bdee-0db72d0b7eaa",
   "metadata": {},
   "outputs": [
    {
     "data": {
      "text/plain": [
       "15"
      ]
     },
     "execution_count": 60,
     "metadata": {},
     "output_type": "execute_result"
    }
   ],
   "source": [
    "# test the function here\n",
    "handshake(6)"
   ]
  },
  {
   "cell_type": "markdown",
   "id": "d7a3b0b6-5b09-4351-b452-4df7e547192f",
   "metadata": {},
   "source": [
    "Now write a program that accepts an input `n` from the user and, looping between 2 and `n`, prints the number `n` and, next to each number, writes the corresponding number of handshakes. *(hint: you'll need to include the function you just created inside the loop)*"
   ]
  },
  {
   "cell_type": "code",
   "execution_count": 61,
   "id": "eadda9b5-186e-4232-8ecf-0c0402d2b8ca",
   "metadata": {},
   "outputs": [
    {
     "name": "stdout",
     "output_type": "stream",
     "text": [
      "Enter an integer: 12\n"
     ]
    },
    {
     "name": "stdout",
     "output_type": "stream",
     "text": [
      "2 1\n",
      "3 3\n",
      "4 6\n",
      "5 10\n",
      "6 15\n",
      "7 21\n",
      "8 28\n",
      "9 36\n",
      "10 45\n",
      "11 55\n",
      "12 66\n"
     ]
    }
   ],
   "source": [
    "n = int(input(\"Enter an integer:\"))\n",
    "for i in range(2, n+1):\n",
    "    print(i, handshake(i))"
   ]
  },
  {
   "cell_type": "markdown",
   "id": "2c7e6b42-2c7d-44b3-ae4c-68c44630b51e",
   "metadata": {},
   "source": [
    "2. Write a function `math_trick()` that follows the rules below: \n",
    "\n",
    "    - Take as input a three-digit number, if the number has less or more digits, print \"Wrong number of digits, input a three-digits number.\"\n",
    "    - Write it twice to make a six-digit number (for example, if the input number was 371, the new value will be 371371)\n",
    "    - Divide the new number by 7\n",
    "    - Divide the result by 11\n",
    "    - Divide the result by 13\n",
    "    \n",
    "    *The order in which you do the divisions is not important!*\n",
    "    \n",
    "    The final result should be the initial three-digit number! "
   ]
  },
  {
   "cell_type": "code",
   "execution_count": 62,
   "id": "d753cfb4-1a1c-4401-8fb6-87d67729ef42",
   "metadata": {},
   "outputs": [],
   "source": [
    "def math_trick(n):\n",
    "    print(\"Input:\", n)\n",
    "    if len(str(n)) != 3: \n",
    "        print(\"Wrong number of digits, input a three-digits number.\")\n",
    "    else:         \n",
    "        nn = int(str(n)+str(n))\n",
    "        print(\"Step 1:\", nn)\n",
    "        nn = nn // 7 \n",
    "        print(\"Step 2:\", nn)\n",
    "        nn = nn // 11\n",
    "        print(\"Step 3:\", nn)\n",
    "        nn = nn // 13\n",
    "        print(\"Output\", nn)"
   ]
  },
  {
   "cell_type": "code",
   "execution_count": 63,
   "id": "8a1f6fd8-d936-480d-8311-94ed317f01a9",
   "metadata": {},
   "outputs": [
    {
     "name": "stdout",
     "output_type": "stream",
     "text": [
      "Input: 371\n",
      "Step 1: 371371\n",
      "Step 2: 53053\n",
      "Step 3: 4823\n",
      "Output 371\n"
     ]
    }
   ],
   "source": [
    "math_trick(371)"
   ]
  },
  {
   "cell_type": "markdown",
   "id": "15669215-f4db-4389-8f2d-01c25c7b3ab1",
   "metadata": {},
   "source": [
    "3. Write a function `prime_check()` that accepts a number as parameter and checks whether it is prime or not."
   ]
  },
  {
   "cell_type": "code",
   "execution_count": 64,
   "id": "e8ef7117-cb03-49d4-8354-754ad444c43f",
   "metadata": {},
   "outputs": [],
   "source": [
    "# a number is prime if it is only divisible by itself and by 1\n",
    "def prime_check(n): \n",
    "    c = 0\n",
    "    for i in range(2, n): \n",
    "        if n % i == 0: \n",
    "            c = c + 1\n",
    "    if c == 0: \n",
    "        print(n, \"is prime\")\n",
    "    else: \n",
    "        print(n, \"is not prime\")"
   ]
  },
  {
   "cell_type": "code",
   "execution_count": 65,
   "id": "0655d283-9a59-4886-84f3-2ea28639d445",
   "metadata": {},
   "outputs": [
    {
     "name": "stdout",
     "output_type": "stream",
     "text": [
      "1223 is prime\n"
     ]
    }
   ],
   "source": [
    "prime_check(1223)"
   ]
  },
  {
   "cell_type": "markdown",
   "id": "08ce7826-f0d1-4c69-8f0c-ded937abbbd0",
   "metadata": {},
   "source": [
    "4. [Bonus!] Read the explanation below (if necessary, watch [this video](https://www.youtube.com/watch?v=d8TRcZklX_Q) for a practical explanation) and then write a function `kaprekar()` that, given as input a four digit number, outputs the the result at each iteration of the Kaprekar's routine until it converges to 6174.\n",
    "    \n",
    "    6174 is known as [Kaprekar's constant](https://en.wikipedia.org/wiki/6174_(number)) after the Indian mathematician D. R. Kaprekar. This number is renowned for the following rule:\n",
    "\n",
    "    - Take any four-digit number, using at least two different digits (leading zeros are allowed).\n",
    "    - Arrange the digits in descending and then in ascending order to get two four-digit numbers, adding leading zeros if necessary.\n",
    "    - Subtract the smaller number from the bigger number.\n",
    "    - Go back to step 2 and repeat.\n",
    "    \n",
    "    The above process, known as Kaprekar's routine, will always reach its fixed point, 6174, in at most 7 iterations.[4] Once 6174 is reached, the process will continue yielding 7641 – 1467 = 6174.\n",
    "    \n",
    "    *Hint: if you can't figure out how to arrange the digits in ascending/descending order, check [this page](https://stackoverflow.com/questions/1301156/how-to-sort-digits-in-a-number) out.*"
   ]
  },
  {
   "cell_type": "code",
   "execution_count": 66,
   "id": "2b08c7bb-0704-4c8c-a902-e6f40f041ec3",
   "metadata": {},
   "outputs": [],
   "source": [
    "def kaprekar(n):\n",
    "    cycle = 1\n",
    "    while n != 6174: \n",
    "        n_list = []\n",
    "        desc = \"\".join(sorted(str(n), reverse=True))\n",
    "        asc = \"\".join(sorted(str(n)))\n",
    "        n = int(desc) - int(asc)\n",
    "        print(cycle, n)\n",
    "        cycle = cycle + 1\n",
    "    "
   ]
  },
  {
   "cell_type": "code",
   "execution_count": 67,
   "id": "fb8877c4-1b63-4c58-b141-41dfc1da5979",
   "metadata": {},
   "outputs": [
    {
     "name": "stdout",
     "output_type": "stream",
     "text": [
      "1 4995\n",
      "2 5355\n",
      "3 1998\n",
      "4 8082\n",
      "5 8532\n",
      "6 6174\n"
     ]
    }
   ],
   "source": [
    "kaprekar(4898)"
   ]
  }
 ],
 "metadata": {
  "kernelspec": {
   "display_name": "Python 3 (ipykernel)",
   "language": "python",
   "name": "python3"
  },
  "language_info": {
   "codemirror_mode": {
    "name": "ipython",
    "version": 3
   },
   "file_extension": ".py",
   "mimetype": "text/x-python",
   "name": "python",
   "nbconvert_exporter": "python",
   "pygments_lexer": "ipython3",
   "version": "3.9.7"
  },
  "toc-autonumbering": false,
  "toc-showcode": false,
  "toc-showmarkdowntxt": false
 },
 "nbformat": 4,
 "nbformat_minor": 5
}
